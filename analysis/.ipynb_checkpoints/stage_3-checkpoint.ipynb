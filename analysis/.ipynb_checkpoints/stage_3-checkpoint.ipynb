{
 "cells": [
  {
   "cell_type": "code",
   "execution_count": 1,
   "metadata": {},
   "outputs": [],
   "source": [
    "import numpy as np\n",
    "import matplotlib.pyplot as plt\n",
    "import pandas as pd\n",
    "import seaborn as sns\n",
    "from sklearn.linear_model import LinearRegression\n",
    "from sklearn.linear_model import LogisticRegression\n",
    "import sklearn\n",
    "from random import random \n",
    "from random import sample \n",
    "from scipy.stats import norm\n",
    "import statsmodels.api as sm\n",
    "from sklearn.preprocessing import StandardScaler\n",
    "from sklearn.model_selection import train_test_split, cross_val_score, cross_val_predict\n",
    "from sklearn.utils import class_weight\n",
    "from sklearn import svm, datasets\n",
    "import matplotlib \n",
    "\n",
    "matplotlib.rc('font', **{'size'   : 16})"
   ]
  },
  {
   "cell_type": "code",
   "execution_count": 2,
   "metadata": {},
   "outputs": [],
   "source": [
    "DATA = \"../preprocessing/standardized_data.csv\"\n",
    "data = pd.read_csv(DATA,header=0)"
   ]
  },
  {
   "cell_type": "markdown",
   "metadata": {},
   "source": [
    "## Again, reusing the misclassification definitions"
   ]
  },
  {
   "cell_type": "code",
   "execution_count": 3,
   "metadata": {},
   "outputs": [],
   "source": [
    "def gender_misclassification(gt, prediction): \n",
    "    \"\"\"Given a vector of ground truth values `gt` and a vector of prediction values `gt`, \n",
    "    return a vector containing 1 if there has been gender misclassification and 0 otherwise. \"\"\"\n",
    "    n = len(gt)\n",
    "    assert(len(prediction) == n)\n",
    "    result = np.zeros(n)\n",
    "    for i in range(n): \n",
    "        # If the ground truth or the result from the API is \"unsure\", no misclassification\n",
    "        if gt[i] == 0 or prediction[i] == 0: \n",
    "            result[i] = 0\n",
    "        # If the ground truth does not match the prediction, set the misclassification bit to one. \n",
    "        elif gt[i] != prediction[i]: \n",
    "            result[i] = 1\n",
    "        else: \n",
    "            result[i] = 0\n",
    "    return result"
   ]
  },
  {
   "cell_type": "code",
   "execution_count": 4,
   "metadata": {},
   "outputs": [],
   "source": [
    "def race_misclassification(gt, prediction): \n",
    "    \"\"\"Given a vector of ground truth values `gt` and a vector of prediction values `gt`, \n",
    "    return a vector containing 1 if there has been race misclassification and 0 otherwise. \"\"\"\n",
    "    n = len(gt)\n",
    "    assert(len(prediction) == n)\n",
    "    result = np.zeros(n)\n",
    "    for i in range(n): \n",
    "        # If the subjects is within a cornercase group or the prediction has outputed \"not sure\", then \n",
    "        # no misclassification\n",
    "        if gt[i] in [0,5] or prediction[i] == 0 : \n",
    "            result[i] = 0\n",
    "        # If the ground truth does not match the prediction, set the misclassification bit to one. \n",
    "        elif gt[i] != prediction[i]: \n",
    "            result[i] = 1\n",
    "        else: \n",
    "            result[i] = 0\n",
    "    return result"
   ]
  },
  {
   "cell_type": "code",
   "execution_count": 5,
   "metadata": {},
   "outputs": [],
   "source": [
    "def age_misclassification(gt, prediction): \n",
    "    \"\"\"Given a vector of ground truth values `gt` and a vector of prediction values `gt`, \n",
    "    return a vector containing 1 if there has been age misclassification and 0 otherwise. \"\"\"\n",
    "    n = len(gt)\n",
    "    assert(len(prediction) == n)\n",
    "    result = np.zeros(n)\n",
    "    \n",
    "    for i in range(n): \n",
    "        tolerance = 0 \n",
    "        # If the subject is a child, tolerance interval equals 5\n",
    "        if gt[i] <= 10: \n",
    "            tolerance = 5\n",
    "        # For teenagers and pre-young-adults, tolerance is 10\n",
    "        elif gt[i] <= 25: \n",
    "            tolerance = 10\n",
    "        # For the rest of the population, tolerance is 15\n",
    "        else: \n",
    "            tolerance = 15\n",
    "            \n",
    "        if gt[i] - tolerance <= prediction[i] <= gt[i] + tolerance: \n",
    "            result[i] = 0\n",
    "        else: \n",
    "            result[i] = 1\n",
    "    return result"
   ]
  },
  {
   "cell_type": "code",
   "execution_count": 6,
   "metadata": {},
   "outputs": [],
   "source": [
    "def emotion_misclassification(gt, prediction): \n",
    "    \"\"\"Given a vector of ground truth values `gt` and a vector of prediction values `gt`, \n",
    "    return a vector containing 1 if there has been emotion misclassification and 0 otherwise. \"\"\"\n",
    "    n = len(gt)\n",
    "    assert(len(prediction) == n)\n",
    "    result = np.zeros(n)\n",
    "    \n",
    "    for i in range(n): \n",
    "        # If dealing with one of the undefined emotions, set the misclassification bit to 0\n",
    "        if gt[i] <= 0 or prediction[i] <= 0: \n",
    "            result[i] = 0 \n",
    "        # If emotions don't match, set the misclassification bit to 1\n",
    "        elif gt[i] != prediction[i]: \n",
    "            result[i] = 1\n",
    "        else: \n",
    "            result[i] = 0\n",
    "    return result"
   ]
  },
  {
   "cell_type": "code",
   "execution_count": 7,
   "metadata": {},
   "outputs": [],
   "source": [
    "def recall(estimator, X, y): \n",
    "    \"\"\" Calculate the recall of the estimator predicting on inputs X with output labels y\"\"\"\n",
    "\n",
    "    prediction = estimator.predict(X)\n",
    "    \n",
    "    y = np.array(y)\n",
    "    prediction = np.array(prediction)\n",
    "        \n",
    "    tp = 0\n",
    "    fn = 0\n",
    "    \n",
    "    for i in range(y.size): \n",
    "        if y[i] == 1 and prediction[i] == 1:\n",
    "            tp += 1\n",
    "            continue \n",
    "        if y[i] == 1 and prediction[i] == 0: \n",
    "            fn += 1\n",
    "            \n",
    "    return (tp / (tp + fn))"
   ]
  },
  {
   "cell_type": "code",
   "execution_count": 8,
   "metadata": {},
   "outputs": [],
   "source": [
    "def precision(estimator, X, y):\n",
    "    \"\"\" Calculate the precision of the estimator predicting on inputs X with output labels y\"\"\"\n",
    "    \n",
    "    prediction = estimator.predict(X)\n",
    "    \n",
    "    y = np.array(y)\n",
    "    prediction = np.array(prediction)\n",
    "    tp = 0\n",
    "    fp = 0\n",
    "    for i in range(y.size):\n",
    "        if y[i] == 1 and prediction[i] == 1:\n",
    "            tp += 1\n",
    "            continue\n",
    "        if y[i] == 0 and prediction[i] == 1:\n",
    "            fp += 1\n",
    "    return (tp / (tp + fp))"
   ]
  },
  {
   "cell_type": "code",
   "execution_count": 9,
   "metadata": {},
   "outputs": [],
   "source": [
    "def plot_scores(model, data=None, outputs=None): \n",
    "    \"\"\"Given a classifier, display the cross-validation score on data (by default X_scaled) using \n",
    "    expected_cost, recall, precision and accuracy and scoring functions.\"\"\" \n",
    "    if data is None: \n",
    "        data = X_scaled\n",
    "    if outputs is None: \n",
    "        outputs = y \n",
    "    recall_scores = cross_val_score(model, data, outputs, cv=5, scoring=recall)\n",
    "    precision_scores = cross_val_score(model, data, outputs, cv=5, scoring=precision)\n",
    "    accuracy_scores = cross_val_score(model, data, outputs, cv=5, scoring=\"accuracy\")\n",
    "\n",
    "    rec = sum(recall_scores)/10 \n",
    "    prec = sum(precision_scores)/10\n",
    "    acc = sum(accuracy_scores)/10\n",
    "    \n",
    "    df = pd.DataFrame((rec, prec, acc), index=[\"Recall\", \"Precision\", \"Accuracy\"], columns=[\"Performance\"])\n",
    "    return df"
   ]
  },
  {
   "cell_type": "markdown",
   "metadata": {},
   "source": [
    "# Gender Misclassification"
   ]
  },
  {
   "cell_type": "code",
   "execution_count": 10,
   "metadata": {},
   "outputs": [
    {
     "data": {
      "text/plain": [
       "array([0., 0., 0., ..., 0., 0., 0.])"
      ]
     },
     "execution_count": 10,
     "metadata": {},
     "output_type": "execute_result"
    }
   ],
   "source": [
    "data_no_ai = data[data[\"Origin\"] != \"AI\"]\n",
    "gender_misclassification(data_no_ai[\"Gender\"], data_no_ai[\"clarifai_gender\"])"
   ]
  },
  {
   "cell_type": "code",
   "execution_count": 11,
   "metadata": {},
   "outputs": [],
   "source": [
    "cl = gender_misclassification(data_no_ai[\"Gender\"], data_no_ai[\"clarifai_gender\"]) == 1\n",
    "ms = gender_misclassification(data_no_ai[\"Gender\"], data_no_ai[\"microsoft_gender\"]) == 1\n",
    "am = gender_misclassification(data_no_ai[\"Gender\"], data_no_ai[\"amazon_gender\"]) == 1\n",
    "fa = gender_misclassification(data_no_ai[\"Gender\"], data_no_ai[\"face++_gender\"]) == 1"
   ]
  },
  {
   "cell_type": "code",
   "execution_count": 12,
   "metadata": {},
   "outputs": [
    {
     "data": {
      "text/plain": [
       "372"
      ]
     },
     "execution_count": 12,
     "metadata": {},
     "output_type": "execute_result"
    }
   ],
   "source": [
    "gender_misclass = (cl | ms | am |fa)\n",
    "sum(gender_misclass)"
   ]
  },
  {
   "cell_type": "code",
   "execution_count": 13,
   "metadata": {},
   "outputs": [],
   "source": [
    "X = data_no_ai[[\"Race\", \"Age\", \"Gender\", \"Emotion\"]]\n",
    "y = [int(x) for x in gender_misclass]"
   ]
  },
  {
   "cell_type": "code",
   "execution_count": 14,
   "metadata": {},
   "outputs": [],
   "source": [
    "# One-hot encoding\n",
    "X_eng = X.copy()\n",
    "\n",
    "is_black = [int(x) for x in X_eng[\"Race\"] == 2]\n",
    "is_white = [int(x) for x in X_eng[\"Race\"] == 4]\n",
    "is_asian = [int(x) for x in X_eng[\"Race\"] == 1]\n",
    "is_latino = [int(x) for x in X_eng[\"Race\"] == 3]\n",
    "is_rest = [int(x) for x in X_eng[\"Race\"] == 5]\n",
    "\n",
    "is_happy = [int(x) for x in X_eng[\"Emotion\"] == 5]\n",
    "is_sad = [int(x) for x in X_eng[\"Emotion\"] == 6]\n",
    "is_calm = [int(x) for x in X_eng[\"Emotion\"] == 2]\n",
    "is_angry = [int(x) for x in X_eng[\"Emotion\"] == 1]\n",
    "is_fearful = [int(x) for x in X_eng[\"Emotion\"] == 4]\n",
    "is_surprised = [int(x) for x in X_eng[\"Emotion\"] == 7]\n",
    "is_disgusted = [int(x) for x in X_eng[\"Emotion\"] == 3]\n",
    "\n",
    "X_eng[\"is_black\"] = is_black\n",
    "X_eng[\"is_white\"] = is_white\n",
    "X_eng[\"is_asian\"] = is_asian\n",
    "X_eng[\"is_latino\"] = is_latino\n",
    "X_eng[\"is_rest\"] = is_rest\n",
    "X_eng[\"is_happy\"] = is_happy\n",
    "X_eng[\"is_sad\"] = is_sad\n",
    "X_eng[\"is_calm\"] = is_calm\n",
    "X_eng[\"is_angry\"] = is_angry\n",
    "X_eng[\"is_fearful\"] = is_fearful\n",
    "X_eng[\"is_surprised\"] = is_surprised\n",
    "X_eng[\"is_disgusted\"] = is_disgusted\n",
    "\n",
    "X = X_eng.drop(columns=[\"Race\", \"Emotion\"])"
   ]
  },
  {
   "cell_type": "code",
   "execution_count": 15,
   "metadata": {},
   "outputs": [],
   "source": [
    "X_train, X_test, y_train, y_test = sklearn.model_selection.train_test_split(X, y, test_size=0.15)"
   ]
  },
  {
   "cell_type": "code",
   "execution_count": 16,
   "metadata": {},
   "outputs": [],
   "source": [
    "scaler = StandardScaler()\n",
    "X_train_scaled = scaler.fit_transform(X_train)\n",
    "X_test_scaled = scaler.transform(X_test)"
   ]
  },
  {
   "cell_type": "code",
   "execution_count": 17,
   "metadata": {},
   "outputs": [],
   "source": [
    "lr = LogisticRegression(solver='lbfgs') "
   ]
  },
  {
   "cell_type": "code",
   "execution_count": 18,
   "metadata": {},
   "outputs": [
    {
     "data": {
      "text/plain": [
       "0.8527186816803404"
      ]
     },
     "execution_count": 18,
     "metadata": {},
     "output_type": "execute_result"
    }
   ],
   "source": [
    "sum(cross_val_score(lr, X_train_scaled, y_train, cv=5))/5"
   ]
  },
  {
   "cell_type": "code",
   "execution_count": 19,
   "metadata": {},
   "outputs": [],
   "source": [
    "lr.fit(X_train_scaled, y_train)\n",
    "prediction = lr.predict(X_test_scaled)"
   ]
  },
  {
   "cell_type": "code",
   "execution_count": 20,
   "metadata": {},
   "outputs": [
    {
     "data": {
      "text/plain": [
       "5"
      ]
     },
     "execution_count": 20,
     "metadata": {},
     "output_type": "execute_result"
    }
   ],
   "source": [
    "sum(prediction)"
   ]
  },
  {
   "cell_type": "code",
   "execution_count": 21,
   "metadata": {},
   "outputs": [],
   "source": [
    "is_actually_misclass = np.array(y_test) == 1\n",
    "is_not_misclass = np.array(y_test) == 0"
   ]
  },
  {
   "cell_type": "code",
   "execution_count": 22,
   "metadata": {},
   "outputs": [
    {
     "data": {
      "text/plain": [
       "0.07407407407407407"
      ]
     },
     "execution_count": 22,
     "metadata": {},
     "output_type": "execute_result"
    }
   ],
   "source": [
    "sum(prediction[is_actually_misclass] == 1)/sum(is_actually_misclass)"
   ]
  },
  {
   "cell_type": "code",
   "execution_count": 23,
   "metadata": {},
   "outputs": [
    {
     "data": {
      "text/plain": [
       "0.9967845659163987"
      ]
     },
     "execution_count": 23,
     "metadata": {},
     "output_type": "execute_result"
    }
   ],
   "source": [
    "sum(prediction[is_not_misclass] == 0)/sum(is_not_misclass)"
   ]
  },
  {
   "cell_type": "code",
   "execution_count": 24,
   "metadata": {},
   "outputs": [],
   "source": [
    "def balanced_accuracy(estimator, X, y):\n",
    "    \"\"\" Calculate the precision of the estimator predicting on inputs X with output labels y\"\"\"\n",
    "    \n",
    "    prediction = np.array(estimator.predict(X))\n",
    "    y = np.array(y)\n",
    "    \n",
    "    is_actually_misclass = y == 1\n",
    "    is_not_misclass = y == 0\n",
    "    \n",
    "    acc_for_1 = sum(prediction[is_actually_misclass] == 1)/sum(is_actually_misclass)\n",
    "    acc_for_0 = sum(prediction[is_not_misclass] == 0)/sum(is_not_misclass)\n",
    "    \n",
    "    return (acc_for_0 + acc_for_1) / 2"
   ]
  },
  {
   "cell_type": "code",
   "execution_count": 25,
   "metadata": {},
   "outputs": [],
   "source": [
    "lr = LogisticRegression(solver='lbfgs') "
   ]
  },
  {
   "cell_type": "code",
   "execution_count": 26,
   "metadata": {},
   "outputs": [
    {
     "data": {
      "text/plain": [
       "0.5388618530267886"
      ]
     },
     "execution_count": 26,
     "metadata": {},
     "output_type": "execute_result"
    }
   ],
   "source": [
    "sum(cross_val_score(lr, X_train_scaled, y_train, cv=5, scoring=balanced_accuracy))/5"
   ]
  },
  {
   "cell_type": "code",
   "execution_count": 27,
   "metadata": {},
   "outputs": [],
   "source": [
    "res = []\n",
    "best_weight = None \n",
    "best_score = 0 \n",
    "for w in np.linspace(1,30,50): \n",
    "    lr_tune = LogisticRegression(solver='lbfgs', class_weight={0:1, 1:w})\n",
    "    cv_score = sum(cross_val_score(lr_tune, X_train_scaled, y_train, cv=5, scoring=balanced_accuracy))/5\n",
    "    if cv_score > best_score: \n",
    "        best_weight = w\n",
    "        best_score = cv_score\n",
    "    res.append(cv_score)"
   ]
  },
  {
   "cell_type": "code",
   "execution_count": 28,
   "metadata": {},
   "outputs": [
    {
     "data": {
      "image/png": "[encoded data removed]",
      "text/plain": [
       "<Figure size 720x576 with 1 Axes>"
      ]
     },
     "metadata": {
      "needs_background": "light"
     },
     "output_type": "display_data"
    }
   ],
   "source": [
    "plt.figure(figsize=(10,8))\n",
    "plt.plot(np.linspace(1,30,50), res)\n",
    "plt.xlabel(\"class_weight value\")\n",
    "plt.ylabel(\"Balanced accuracy\")\n",
    "#plt.savefig('training.svg', format='svg')\n",
    "plt.show()"
   ]
  },
  {
   "cell_type": "code",
   "execution_count": 29,
   "metadata": {},
   "outputs": [
    {
     "name": "stdout",
     "output_type": "stream",
     "text": [
      "5.142857142857142\n",
      "0.7310564168599627\n"
     ]
    }
   ],
   "source": [
    "print(best_weight)\n",
    "print(best_score)"
   ]
  },
  {
   "cell_type": "code",
   "execution_count": 30,
   "metadata": {},
   "outputs": [
    {
     "data": {
      "text/plain": [
       "0.7310564168599627"
      ]
     },
     "execution_count": 30,
     "metadata": {},
     "output_type": "execute_result"
    }
   ],
   "source": [
    "lr_balanced = LogisticRegression(solver='lbfgs', class_weight={0:1, 1:best_weight}) \n",
    "sum(cross_val_score(lr_balanced, X_train_scaled, y_train, cv=5, scoring=balanced_accuracy))/5"
   ]
  },
  {
   "cell_type": "code",
   "execution_count": 31,
   "metadata": {},
   "outputs": [],
   "source": [
    "lr_balanced.fit(X_train_scaled, y_train)\n",
    "balanced_prediction = lr_balanced.predict(X_test_scaled)"
   ]
  },
  {
   "cell_type": "code",
   "execution_count": 32,
   "metadata": {},
   "outputs": [
    {
     "name": "stdout",
     "output_type": "stream",
     "text": [
      "Accuracy for the 1-class\n",
      "0.8703703703703703\n",
      "\n",
      "Accuracy for the 0-class\n",
      "0.6430868167202572\n",
      "\n",
      "Balanced accuracy score: \n",
      "0.7567285935453139\n",
      "\n",
      "Weighted accuracy\n",
      "0.6767123287671233\n",
      "\n",
      "Recall\n",
      "0.8703703703703703\n",
      "\n",
      "Precision\n",
      "0.2974683544303797\n",
      "\n"
     ]
    }
   ],
   "source": [
    "print(\"Accuracy for the 1-class\")\n",
    "print(1 - sum(abs(balanced_prediction[np.array(y_test) == 1] - 1))/sum(np.array(y_test) == 1))\n",
    "print()\n",
    "print(\"Accuracy for the 0-class\")\n",
    "print(1 - sum(abs(balanced_prediction[np.array(y_test) == 0] - 0))/sum(np.array(y_test) == 0))\n",
    "print()\n",
    "print(\"Balanced accuracy score: \")\n",
    "print(balanced_accuracy(lr_balanced, X_test_scaled, y_test))\n",
    "# Same as (acc_0 + acc_1)/2\n",
    "print()\n",
    "print(\"Weighted accuracy\")\n",
    "print(1 - sum(abs(balanced_prediction - y_test))/len(y_test))\n",
    "print()\n",
    "print(\"Recall\")\n",
    "print(recall(lr_balanced, X_test_scaled, y_test))\n",
    "print()\n",
    "print(\"Precision\")\n",
    "print(precision(lr_balanced, X_test_scaled, y_test))\n",
    "print()"
   ]
  },
  {
   "cell_type": "code",
   "execution_count": 33,
   "metadata": {},
   "outputs": [
    {
     "name": "stdout",
     "output_type": "stream",
     "text": [
      "We can see the most important factors for gender misclassification in out model are gender itself and age.\n"
     ]
    },
    {
     "data": {
      "text/plain": [
       "array([[-0.35066593, -1.08245041,  0.16935904,  0.06980434, -0.02799082,\n",
       "         0.0070433 , -0.21258617, -0.96068947, -0.19092362, -0.7144057 ,\n",
       "        -0.39608864, -0.32136683, -0.05115786, -0.29386648]])"
      ]
     },
     "execution_count": 33,
     "metadata": {},
     "output_type": "execute_result"
    }
   ],
   "source": [
    "print(\"We can see the most important factors for gender misclassification in out model are gender itself and age.\")\n",
    "lr_balanced.coef_"
   ]
  },
  {
   "cell_type": "code",
   "execution_count": 34,
   "metadata": {},
   "outputs": [
    {
     "data": {
      "text/plain": [
       "array([-0.56508562])"
      ]
     },
     "execution_count": 34,
     "metadata": {},
     "output_type": "execute_result"
    }
   ],
   "source": [
    "lr_balanced.intercept_"
   ]
  },
  {
   "cell_type": "code",
   "execution_count": 35,
   "metadata": {},
   "outputs": [],
   "source": [
    "T = X.copy()"
   ]
  },
  {
   "cell_type": "code",
   "execution_count": 36,
   "metadata": {
    "scrolled": true
   },
   "outputs": [
    {
     "data": {
      "text/plain": [
       "[('Age', -0.3506659328748283),\n",
       " ('Gender', -1.0824504111423139),\n",
       " ('is_black', 0.1693590396230986),\n",
       " ('is_white', 0.06980433694670193),\n",
       " ('is_asian', -0.027990818547722156),\n",
       " ('is_latino', 0.0070433004185224265),\n",
       " ('is_rest', -0.2125861740691429),\n",
       " ('is_happy', -0.9606894726966855),\n",
       " ('is_sad', -0.1909236195112007),\n",
       " ('is_calm', -0.7144057037781095),\n",
       " ('is_angry', -0.39608863781517345),\n",
       " ('is_fearful', -0.3213668257782686),\n",
       " ('is_surprised', -0.0511578627166465),\n",
       " ('is_disgusted', -0.2938664788814188)]"
      ]
     },
     "execution_count": 36,
     "metadata": {},
     "output_type": "execute_result"
    }
   ],
   "source": [
    "list(zip(X.columns, lr_balanced.coef_[0]))"
   ]
  },
  {
   "cell_type": "markdown",
   "metadata": {},
   "source": [
    "# Race Misclassification "
   ]
  },
  {
   "cell_type": "code",
   "execution_count": 37,
   "metadata": {},
   "outputs": [],
   "source": [
    "data_no_ai = data[data[\"Origin\"] != \"AI\"]"
   ]
  },
  {
   "cell_type": "code",
   "execution_count": 38,
   "metadata": {},
   "outputs": [
    {
     "data": {
      "text/plain": [
       "319"
      ]
     },
     "execution_count": 38,
     "metadata": {},
     "output_type": "execute_result"
    }
   ],
   "source": [
    "race_misclass = race_misclassification(data_no_ai[\"Race\"], data_no_ai[\"clarifai_race\"]) == 1\n",
    "sum(race_misclass)"
   ]
  },
  {
   "cell_type": "code",
   "execution_count": 39,
   "metadata": {},
   "outputs": [],
   "source": [
    "X = data_no_ai[[\"Race\", \"Age\", \"Gender\", \"Emotion\"]]\n",
    "y = [int(x) for x in race_misclass]"
   ]
  },
  {
   "cell_type": "code",
   "execution_count": 40,
   "metadata": {},
   "outputs": [],
   "source": [
    "# One-hot encoding\n",
    "X_eng = X.copy()\n",
    "\n",
    "is_black = [int(x) for x in X_eng[\"Race\"] == 2]\n",
    "is_white = [int(x) for x in X_eng[\"Race\"] == 4]\n",
    "is_asian = [int(x) for x in X_eng[\"Race\"] == 1]\n",
    "is_latino = [int(x) for x in X_eng[\"Race\"] == 3]\n",
    "is_rest = [int(x) for x in X_eng[\"Race\"] == 5]\n",
    "\n",
    "is_happy = [int(x) for x in X_eng[\"Emotion\"] == 5]\n",
    "is_sad = [int(x) for x in X_eng[\"Emotion\"] == 6]\n",
    "is_calm = [int(x) for x in X_eng[\"Emotion\"] == 2]\n",
    "is_angry = [int(x) for x in X_eng[\"Emotion\"] == 1]\n",
    "is_fearful = [int(x) for x in X_eng[\"Emotion\"] == 4]\n",
    "is_surprised = [int(x) for x in X_eng[\"Emotion\"] == 7]\n",
    "is_disgusted = [int(x) for x in X_eng[\"Emotion\"] == 3]\n",
    "\n",
    "X_eng[\"is_black\"] = is_black\n",
    "X_eng[\"is_white\"] = is_white\n",
    "X_eng[\"is_asian\"] = is_asian\n",
    "X_eng[\"is_latino\"] = is_latino\n",
    "X_eng[\"is_rest\"] = is_rest\n",
    "X_eng[\"is_happy\"] = is_happy\n",
    "X_eng[\"is_sad\"] = is_sad\n",
    "X_eng[\"is_calm\"] = is_calm\n",
    "X_eng[\"is_angry\"] = is_angry\n",
    "X_eng[\"is_fearful\"] = is_fearful\n",
    "X_eng[\"is_surprised\"] = is_surprised\n",
    "X_eng[\"is_disgusted\"] = is_disgusted\n",
    "\n",
    "X = X_eng.drop(columns=[\"Race\", \"Emotion\"])"
   ]
  },
  {
   "cell_type": "code",
   "execution_count": 41,
   "metadata": {},
   "outputs": [],
   "source": [
    "X_train, X_test, y_train, y_test = sklearn.model_selection.train_test_split(X, y, test_size=0.15)"
   ]
  },
  {
   "cell_type": "code",
   "execution_count": 42,
   "metadata": {},
   "outputs": [],
   "source": [
    "scaler = StandardScaler()\n",
    "X_train_scaled = scaler.fit_transform(X_train)\n",
    "X_test_scaled = scaler.transform(X_test)"
   ]
  },
  {
   "cell_type": "code",
   "execution_count": 43,
   "metadata": {},
   "outputs": [],
   "source": [
    "lr = LogisticRegression(solver='lbfgs') "
   ]
  },
  {
   "cell_type": "code",
   "execution_count": 44,
   "metadata": {},
   "outputs": [
    {
     "data": {
      "text/plain": [
       "0.8657984437810009"
      ]
     },
     "execution_count": 44,
     "metadata": {},
     "output_type": "execute_result"
    }
   ],
   "source": [
    "sum(cross_val_score(lr, X_train_scaled, y_train, cv=5))/5"
   ]
  },
  {
   "cell_type": "code",
   "execution_count": 45,
   "metadata": {},
   "outputs": [],
   "source": [
    "lr.fit(X_train_scaled, y_train)\n",
    "prediction = lr.predict(X_test_scaled)"
   ]
  },
  {
   "cell_type": "code",
   "execution_count": 46,
   "metadata": {},
   "outputs": [
    {
     "data": {
      "text/plain": [
       "6"
      ]
     },
     "execution_count": 46,
     "metadata": {},
     "output_type": "execute_result"
    }
   ],
   "source": [
    "sum(prediction)"
   ]
  },
  {
   "cell_type": "code",
   "execution_count": 47,
   "metadata": {},
   "outputs": [],
   "source": [
    "is_actually_misclass = np.array(y_test) == 1\n",
    "is_not_misclass = np.array(y_test) == 0"
   ]
  },
  {
   "cell_type": "code",
   "execution_count": 48,
   "metadata": {},
   "outputs": [
    {
     "data": {
      "text/plain": [
       "0.047619047619047616"
      ]
     },
     "execution_count": 48,
     "metadata": {},
     "output_type": "execute_result"
    }
   ],
   "source": [
    "sum(prediction[is_actually_misclass] == 1)/sum(is_actually_misclass)"
   ]
  },
  {
   "cell_type": "code",
   "execution_count": 49,
   "metadata": {},
   "outputs": [
    {
     "data": {
      "text/plain": [
       "0.9876160990712074"
      ]
     },
     "execution_count": 49,
     "metadata": {},
     "output_type": "execute_result"
    }
   ],
   "source": [
    "sum(prediction[is_not_misclass] == 0)/sum(is_not_misclass)"
   ]
  },
  {
   "cell_type": "code",
   "execution_count": 50,
   "metadata": {},
   "outputs": [],
   "source": [
    "def balanced_accuracy(estimator, X, y):\n",
    "    \"\"\" Calculate the precision of the estimator predicting on inputs X with output labels y\"\"\"\n",
    "    \n",
    "    prediction = np.array(estimator.predict(X))\n",
    "    y = np.array(y)\n",
    "    \n",
    "    is_actually_misclass = y == 1\n",
    "    is_not_misclass = y == 0\n",
    "    \n",
    "    acc_for_1 = sum(prediction[is_actually_misclass] == 1)/sum(is_actually_misclass)\n",
    "    acc_for_0 = sum(prediction[is_not_misclass] == 0)/sum(is_not_misclass)\n",
    "    \n",
    "    return (acc_for_0 + acc_for_1) / 2"
   ]
  },
  {
   "cell_type": "code",
   "execution_count": 51,
   "metadata": {},
   "outputs": [],
   "source": [
    "lr = LogisticRegression(solver='lbfgs') "
   ]
  },
  {
   "cell_type": "code",
   "execution_count": 52,
   "metadata": {},
   "outputs": [
    {
     "data": {
      "text/plain": [
       "0.5487073590228372"
      ]
     },
     "execution_count": 52,
     "metadata": {},
     "output_type": "execute_result"
    }
   ],
   "source": [
    "sum(cross_val_score(lr, X_train_scaled, y_train, cv=5, scoring=balanced_accuracy))/5"
   ]
  },
  {
   "cell_type": "code",
   "execution_count": 53,
   "metadata": {},
   "outputs": [],
   "source": [
    "res = []\n",
    "best_weight = None \n",
    "best_score = 0 \n",
    "for w in np.linspace(1,30,50): \n",
    "    lr_tune = LogisticRegression(solver='lbfgs', class_weight={0:1, 1:w})\n",
    "    cv_score = sum(cross_val_score(lr_tune, X_train_scaled, y_train, cv=5, scoring=balanced_accuracy))/5\n",
    "    if cv_score > best_score: \n",
    "        best_weight = w\n",
    "        best_score = cv_score\n",
    "    res.append(cv_score)"
   ]
  },
  {
   "cell_type": "code",
   "execution_count": 54,
   "metadata": {},
   "outputs": [
    {
     "data": {
      "image/png": "[encoded data removed]",
      "text/plain": [
       "<Figure size 576x432 with 1 Axes>"
      ]
     },
     "metadata": {
      "needs_background": "light"
     },
     "output_type": "display_data"
    }
   ],
   "source": [
    "plt.figure(figsize=(8,6))\n",
    "plt.plot(np.linspace(1,30,50), res)\n",
    "plt.show()"
   ]
  },
  {
   "cell_type": "code",
   "execution_count": 55,
   "metadata": {},
   "outputs": [
    {
     "name": "stdout",
     "output_type": "stream",
     "text": [
      "7.5102040816326525\n",
      "0.6692163655711142\n"
     ]
    }
   ],
   "source": [
    "print(best_weight)\n",
    "print(best_score)"
   ]
  },
  {
   "cell_type": "code",
   "execution_count": 56,
   "metadata": {},
   "outputs": [
    {
     "data": {
      "text/plain": [
       "0.6692163655711142"
      ]
     },
     "execution_count": 56,
     "metadata": {},
     "output_type": "execute_result"
    }
   ],
   "source": [
    "lr_balanced = LogisticRegression(solver='lbfgs', class_weight={0:1, 1:best_weight}) \n",
    "sum(cross_val_score(lr_balanced, X_train_scaled, y_train, cv=5, scoring=balanced_accuracy))/5"
   ]
  },
  {
   "cell_type": "code",
   "execution_count": 57,
   "metadata": {},
   "outputs": [],
   "source": [
    "lr_balanced.fit(X_train_scaled, y_train)\n",
    "balanced_prediction = lr_balanced.predict(X_test_scaled)"
   ]
  },
  {
   "cell_type": "code",
   "execution_count": 58,
   "metadata": {},
   "outputs": [
    {
     "name": "stdout",
     "output_type": "stream",
     "text": [
      "Accuracy for the 1-class\n",
      "0.7142857142857143\n",
      "\n",
      "Accuracy for the 0-class\n",
      "0.5294117647058824\n",
      "\n",
      "Balanced accuracy score: \n",
      "0.6218487394957983\n",
      "\n",
      "Weighted accuracy\n",
      "0.5506849315068494\n",
      "\n",
      "Recall\n",
      "0.7142857142857143\n",
      "\n",
      "Precision\n",
      "0.16483516483516483\n",
      "\n"
     ]
    }
   ],
   "source": [
    "print(\"Accuracy for the 1-class\")\n",
    "print(1 - sum(abs(balanced_prediction[np.array(y_test) == 1] - 1))/sum(np.array(y_test) == 1))\n",
    "print()\n",
    "print(\"Accuracy for the 0-class\")\n",
    "print(1 - sum(abs(balanced_prediction[np.array(y_test) == 0] - 0))/sum(np.array(y_test) == 0))\n",
    "print()\n",
    "print(\"Balanced accuracy score: \")\n",
    "print(balanced_accuracy(lr_balanced, X_test_scaled, y_test))\n",
    "# Same as (acc_0 + acc_1)/2\n",
    "print()\n",
    "print(\"Weighted accuracy\")\n",
    "print(1 - sum(abs(balanced_prediction - y_test))/len(y_test))\n",
    "print()\n",
    "print(\"Recall\")\n",
    "print(recall(lr_balanced, X_test_scaled, y_test))\n",
    "print()\n",
    "print(\"Precision\")\n",
    "print(precision(lr_balanced, X_test_scaled, y_test))\n",
    "print()"
   ]
  },
  {
   "cell_type": "code",
   "execution_count": 59,
   "metadata": {},
   "outputs": [
    {
     "data": {
      "text/plain": [
       "array([[-0.10018866,  0.10331626,  0.0258366 ,  0.57000178, -0.296519  ,\n",
       "         0.68360821, -0.19891243, -0.47195585, -0.1929815 , -0.48826278,\n",
       "        -0.20032189, -0.42658922, -0.27821037, -0.23462004]])"
      ]
     },
     "execution_count": 59,
     "metadata": {},
     "output_type": "execute_result"
    }
   ],
   "source": [
    "lr_balanced.coef_"
   ]
  },
  {
   "cell_type": "code",
   "execution_count": 60,
   "metadata": {},
   "outputs": [
    {
     "data": {
      "text/plain": [
       "array([-0.16883618])"
      ]
     },
     "execution_count": 60,
     "metadata": {},
     "output_type": "execute_result"
    }
   ],
   "source": [
    "lr_balanced.intercept_"
   ]
  },
  {
   "cell_type": "code",
   "execution_count": 61,
   "metadata": {},
   "outputs": [],
   "source": [
    "T = X.copy()"
   ]
  },
  {
   "cell_type": "code",
   "execution_count": 62,
   "metadata": {
    "scrolled": true
   },
   "outputs": [
    {
     "data": {
      "text/plain": [
       "[('Age', -0.10018866246698434),\n",
       " ('Gender', 0.10331625598795922),\n",
       " ('is_black', 0.025836596837698726),\n",
       " ('is_white', 0.570001778829496),\n",
       " ('is_asian', -0.2965189960291528),\n",
       " ('is_latino', 0.6836082080993736),\n",
       " ('is_rest', -0.19891242862418318),\n",
       " ('is_happy', -0.47195585262615886),\n",
       " ('is_sad', -0.19298150017122515),\n",
       " ('is_calm', -0.4882627804942721),\n",
       " ('is_angry', -0.2003218881871493),\n",
       " ('is_fearful', -0.42658922333394644),\n",
       " ('is_surprised', -0.2782103685086516),\n",
       " ('is_disgusted', -0.2346200409048905)]"
      ]
     },
     "execution_count": 62,
     "metadata": {},
     "output_type": "execute_result"
    }
   ],
   "source": [
    "list(zip(X.columns, lr_balanced.coef_[0]))"
   ]
  },
  {
   "cell_type": "markdown",
   "metadata": {},
   "source": [
    "# Age Misclassification Model  "
   ]
  },
  {
   "cell_type": "code",
   "execution_count": 63,
   "metadata": {},
   "outputs": [],
   "source": [
    "data_no_ai = data[data[\"Origin\"] != \"AI\"]"
   ]
  },
  {
   "cell_type": "code",
   "execution_count": 64,
   "metadata": {},
   "outputs": [],
   "source": [
    "cl = age_misclassification(data[\"Age\"], data[\"clarifai_age\"]) == 1\n",
    "ms = age_misclassification(data[\"Age\"], data[\"microsoft_age\"]) == 1\n",
    "am = age_misclassification(data[\"Age\"], data[\"amazon_age_average\"]) == 1\n",
    "fa = age_misclassification(data[\"Age\"], data[\"face++_age\"]) == 1"
   ]
  },
  {
   "cell_type": "code",
   "execution_count": 65,
   "metadata": {},
   "outputs": [
    {
     "data": {
      "text/plain": [
       "1060"
      ]
     },
     "execution_count": 65,
     "metadata": {},
     "output_type": "execute_result"
    }
   ],
   "source": [
    "age_misclass = (cl | ms | am |fa)\n",
    "sum(age_misclass)"
   ]
  },
  {
   "cell_type": "code",
   "execution_count": 66,
   "metadata": {},
   "outputs": [
    {
     "data": {
      "text/plain": [
       "2677"
      ]
     },
     "execution_count": 66,
     "metadata": {},
     "output_type": "execute_result"
    }
   ],
   "source": [
    "len(data)"
   ]
  },
  {
   "cell_type": "code",
   "execution_count": 67,
   "metadata": {},
   "outputs": [],
   "source": [
    "X = data[[\"Race\", \"Age\", \"Gender\", \"Emotion\"]]\n",
    "y = [int(x) for x in age_misclass]"
   ]
  },
  {
   "cell_type": "code",
   "execution_count": 68,
   "metadata": {},
   "outputs": [],
   "source": [
    "# One-hot encoding\n",
    "X_eng = X.copy()\n",
    "\n",
    "is_black = [int(x) for x in X_eng[\"Race\"] == 2]\n",
    "is_white = [int(x) for x in X_eng[\"Race\"] == 4]\n",
    "is_asian = [int(x) for x in X_eng[\"Race\"] == 1]\n",
    "is_latino = [int(x) for x in X_eng[\"Race\"] == 3]\n",
    "is_rest = [int(x) for x in X_eng[\"Race\"] == 5]\n",
    "\n",
    "is_happy = [int(x) for x in X_eng[\"Emotion\"] == 5]\n",
    "is_sad = [int(x) for x in X_eng[\"Emotion\"] == 6]\n",
    "is_calm = [int(x) for x in X_eng[\"Emotion\"] == 2]\n",
    "is_angry = [int(x) for x in X_eng[\"Emotion\"] == 1]\n",
    "is_fearful = [int(x) for x in X_eng[\"Emotion\"] == 4]\n",
    "is_surprised = [int(x) for x in X_eng[\"Emotion\"] == 7]\n",
    "is_disgusted = [int(x) for x in X_eng[\"Emotion\"] == 3]\n",
    "\n",
    "X_eng[\"is_black\"] = is_black\n",
    "X_eng[\"is_white\"] = is_white\n",
    "X_eng[\"is_asian\"] = is_asian\n",
    "X_eng[\"is_latino\"] = is_latino\n",
    "X_eng[\"is_rest\"] = is_rest\n",
    "X_eng[\"is_happy\"] = is_happy\n",
    "X_eng[\"is_sad\"] = is_sad\n",
    "X_eng[\"is_calm\"] = is_calm\n",
    "X_eng[\"is_angry\"] = is_angry\n",
    "X_eng[\"is_fearful\"] = is_fearful\n",
    "X_eng[\"is_surprised\"] = is_surprised\n",
    "X_eng[\"is_disgusted\"] = is_disgusted\n",
    "\n",
    "X = X_eng.drop(columns=[\"Race\", \"Emotion\"])"
   ]
  },
  {
   "cell_type": "code",
   "execution_count": 69,
   "metadata": {},
   "outputs": [],
   "source": [
    "X_train, X_test, y_train, y_test = sklearn.model_selection.train_test_split(X, y, test_size=0.15)"
   ]
  },
  {
   "cell_type": "code",
   "execution_count": 70,
   "metadata": {},
   "outputs": [],
   "source": [
    "scaler = StandardScaler()\n",
    "X_train_scaled = scaler.fit_transform(X_train)\n",
    "X_test_scaled = scaler.transform(X_test)"
   ]
  },
  {
   "cell_type": "code",
   "execution_count": 71,
   "metadata": {},
   "outputs": [],
   "source": [
    "lr = LogisticRegression(solver='lbfgs') "
   ]
  },
  {
   "cell_type": "code",
   "execution_count": 72,
   "metadata": {},
   "outputs": [
    {
     "data": {
      "text/plain": [
       "0.6914285714285715"
      ]
     },
     "execution_count": 72,
     "metadata": {},
     "output_type": "execute_result"
    }
   ],
   "source": [
    "sum(cross_val_score(lr, X_train_scaled, y_train, cv=5))/5"
   ]
  },
  {
   "cell_type": "code",
   "execution_count": 73,
   "metadata": {},
   "outputs": [],
   "source": [
    "lr.fit(X_train_scaled, y_train)\n",
    "prediction = lr.predict(X_test_scaled)"
   ]
  },
  {
   "cell_type": "code",
   "execution_count": 74,
   "metadata": {},
   "outputs": [],
   "source": [
    "is_actually_misclass = np.array(y_test) == 1\n",
    "is_not_misclass = np.array(y_test) == 0"
   ]
  },
  {
   "cell_type": "code",
   "execution_count": 75,
   "metadata": {},
   "outputs": [
    {
     "data": {
      "text/plain": [
       "0.4470588235294118"
      ]
     },
     "execution_count": 75,
     "metadata": {},
     "output_type": "execute_result"
    }
   ],
   "source": [
    "sum(prediction[is_actually_misclass] == 1)/sum(is_actually_misclass)"
   ]
  },
  {
   "cell_type": "code",
   "execution_count": 76,
   "metadata": {},
   "outputs": [
    {
     "data": {
      "text/plain": [
       "0.8189655172413793"
      ]
     },
     "execution_count": 76,
     "metadata": {},
     "output_type": "execute_result"
    }
   ],
   "source": [
    "sum(prediction[is_not_misclass] == 0)/sum(is_not_misclass)"
   ]
  },
  {
   "cell_type": "code",
   "execution_count": 77,
   "metadata": {},
   "outputs": [],
   "source": [
    "def balanced_accuracy(estimator, X, y):\n",
    "    \"\"\" Calculate the precision of the estimator predicting on inputs X with output labels y\"\"\"\n",
    "    \n",
    "    prediction = np.array(estimator.predict(X))\n",
    "    y = np.array(y)\n",
    "    \n",
    "    is_actually_misclass = y == 1\n",
    "    is_not_misclass = y == 0\n",
    "    \n",
    "    acc_for_1 = sum(prediction[is_actually_misclass] == 1)/sum(is_actually_misclass)\n",
    "    acc_for_0 = sum(prediction[is_not_misclass] == 0)/sum(is_not_misclass)\n",
    "    \n",
    "    return (acc_for_0 + acc_for_1) / 2"
   ]
  },
  {
   "cell_type": "code",
   "execution_count": 78,
   "metadata": {},
   "outputs": [],
   "source": [
    "lr = LogisticRegression(solver='lbfgs') "
   ]
  },
  {
   "cell_type": "code",
   "execution_count": 79,
   "metadata": {},
   "outputs": [
    {
     "data": {
      "text/plain": [
       "0.6507950350870076"
      ]
     },
     "execution_count": 79,
     "metadata": {},
     "output_type": "execute_result"
    }
   ],
   "source": [
    "sum(cross_val_score(lr, X_train_scaled, y_train, cv=5, scoring=balanced_accuracy))/5"
   ]
  },
  {
   "cell_type": "code",
   "execution_count": 80,
   "metadata": {},
   "outputs": [],
   "source": [
    "res = []\n",
    "best_weight = None \n",
    "best_score = 0 \n",
    "for w in np.linspace(1,3,50): \n",
    "    lr_tune = LogisticRegression(solver='lbfgs', class_weight={0:1, 1:w})\n",
    "    cv_score = sum(cross_val_score(lr_tune, X_train_scaled, y_train, cv=5, scoring=balanced_accuracy))/5\n",
    "    if cv_score > best_score: \n",
    "        best_weight = w\n",
    "        best_score = cv_score\n",
    "    res.append(cv_score)"
   ]
  },
  {
   "cell_type": "code",
   "execution_count": 81,
   "metadata": {},
   "outputs": [
    {
     "data": {
      "image/png": "[encoded data removed]",
      "text/plain": [
       "<Figure size 576x432 with 1 Axes>"
      ]
     },
     "metadata": {
      "needs_background": "light"
     },
     "output_type": "display_data"
    }
   ],
   "source": [
    "plt.figure(figsize=(8,6))\n",
    "plt.plot(np.linspace(1,3,50), res)\n",
    "plt.show()"
   ]
  },
  {
   "cell_type": "code",
   "execution_count": 82,
   "metadata": {},
   "outputs": [
    {
     "name": "stdout",
     "output_type": "stream",
     "text": [
      "1.2448979591836735\n",
      "0.6696730621019754\n"
     ]
    }
   ],
   "source": [
    "print(best_weight)\n",
    "print(best_score)"
   ]
  },
  {
   "cell_type": "code",
   "execution_count": 83,
   "metadata": {},
   "outputs": [
    {
     "data": {
      "text/plain": [
       "0.6696730621019754"
      ]
     },
     "execution_count": 83,
     "metadata": {},
     "output_type": "execute_result"
    }
   ],
   "source": [
    "lr_balanced = LogisticRegression(solver='lbfgs', class_weight={0:1, 1:best_weight}) \n",
    "sum(cross_val_score(lr_balanced, X_train_scaled, y_train, cv=5, scoring=balanced_accuracy))/5"
   ]
  },
  {
   "cell_type": "code",
   "execution_count": 84,
   "metadata": {},
   "outputs": [],
   "source": [
    "lr_balanced.fit(X_train_scaled, y_train)\n",
    "balanced_prediction = lr_balanced.predict(X_test_scaled)"
   ]
  },
  {
   "cell_type": "code",
   "execution_count": 85,
   "metadata": {},
   "outputs": [
    {
     "name": "stdout",
     "output_type": "stream",
     "text": [
      "Accuracy for the 1-class\n",
      "0.5823529411764705\n",
      "\n",
      "Accuracy for the 0-class\n",
      "0.6896551724137931\n",
      "\n",
      "Balanced accuracy score: \n",
      "0.636004056795132\n",
      "\n",
      "Weighted accuracy\n",
      "0.6442786069651741\n",
      "\n",
      "Recall\n",
      "0.5823529411764706\n",
      "\n",
      "Precision\n",
      "0.5789473684210527\n",
      "\n"
     ]
    }
   ],
   "source": [
    "print(\"Accuracy for the 1-class\")\n",
    "print(1 - sum(abs(balanced_prediction[np.array(y_test) == 1] - 1))/sum(np.array(y_test) == 1))\n",
    "print()\n",
    "print(\"Accuracy for the 0-class\")\n",
    "print(1 - sum(abs(balanced_prediction[np.array(y_test) == 0] - 0))/sum(np.array(y_test) == 0))\n",
    "print()\n",
    "print(\"Balanced accuracy score: \")\n",
    "print(balanced_accuracy(lr_balanced, X_test_scaled, y_test))\n",
    "# Same as (acc_0 + acc_1)/2\n",
    "print()\n",
    "print(\"Weighted accuracy\")\n",
    "print(1 - sum(abs(balanced_prediction - y_test))/len(y_test))\n",
    "print()\n",
    "print(\"Recall\")\n",
    "print(recall(lr_balanced, X_test_scaled, y_test))\n",
    "print()\n",
    "print(\"Precision\")\n",
    "print(precision(lr_balanced, X_test_scaled, y_test))\n",
    "print()"
   ]
  },
  {
   "cell_type": "code",
   "execution_count": 86,
   "metadata": {},
   "outputs": [
    {
     "data": {
      "text/plain": [
       "array([[-0.43475856, -0.2143026 ,  0.21419115,  0.32646662,  0.05116573,\n",
       "         0.19142141, -0.14170984, -0.0238647 ,  0.02651943, -0.45974629,\n",
       "         0.08273024,  0.0136182 , -0.21728823,  0.21655404]])"
      ]
     },
     "execution_count": 86,
     "metadata": {},
     "output_type": "execute_result"
    }
   ],
   "source": [
    "lr_balanced.coef_"
   ]
  },
  {
   "cell_type": "code",
   "execution_count": 87,
   "metadata": {},
   "outputs": [
    {
     "data": {
      "text/plain": [
       "array([-0.29243129])"
      ]
     },
     "execution_count": 87,
     "metadata": {},
     "output_type": "execute_result"
    }
   ],
   "source": [
    "lr_balanced.intercept_"
   ]
  },
  {
   "cell_type": "code",
   "execution_count": 88,
   "metadata": {},
   "outputs": [],
   "source": [
    "T = X.copy()"
   ]
  },
  {
   "cell_type": "code",
   "execution_count": 89,
   "metadata": {
    "scrolled": true
   },
   "outputs": [
    {
     "data": {
      "text/plain": [
       "[('Age', -0.434758562658544),\n",
       " ('Gender', -0.21430260198094342),\n",
       " ('is_black', 0.21419114988715135),\n",
       " ('is_white', 0.3264666248745681),\n",
       " ('is_asian', 0.05116573019588018),\n",
       " ('is_latino', 0.19142140952796935),\n",
       " ('is_rest', -0.14170984441549064),\n",
       " ('is_happy', -0.023864702613399253),\n",
       " ('is_sad', 0.026519428563402288),\n",
       " ('is_calm', -0.45974629283594626),\n",
       " ('is_angry', 0.08273023660432746),\n",
       " ('is_fearful', 0.013618201618891096),\n",
       " ('is_surprised', -0.21728822802982636),\n",
       " ('is_disgusted', 0.21655404498301334)]"
      ]
     },
     "execution_count": 89,
     "metadata": {},
     "output_type": "execute_result"
    }
   ],
   "source": [
    "list(zip(X.columns, lr_balanced.coef_[0]))"
   ]
  },
  {
   "cell_type": "markdown",
   "metadata": {},
   "source": [
    "# Emotion Misclassification"
   ]
  },
  {
   "cell_type": "code",
   "execution_count": 90,
   "metadata": {},
   "outputs": [],
   "source": [
    "data_no_ai = data[data[\"Origin\"] != \"AI\"]"
   ]
  },
  {
   "cell_type": "code",
   "execution_count": 91,
   "metadata": {},
   "outputs": [],
   "source": [
    "ms = emotion_misclassification(data_no_ai[\"Emotion\"], data_no_ai[\"microsoft_emotion\"]) == 1\n",
    "am = emotion_misclassification(data_no_ai[\"Emotion\"], data_no_ai[\"amazon_emotion\"]) == 1\n",
    "fa = emotion_misclassification(data_no_ai[\"Emotion\"], data_no_ai[\"face++_emotion\"]) == 1"
   ]
  },
  {
   "cell_type": "code",
   "execution_count": 92,
   "metadata": {},
   "outputs": [],
   "source": [
    "emotion_misclass = (ms | am | fa)"
   ]
  },
  {
   "cell_type": "code",
   "execution_count": 93,
   "metadata": {},
   "outputs": [],
   "source": [
    "X = data_no_ai[[\"Race\", \"Age\", \"Gender\", \"Emotion\"]]\n",
    "y = [int(x) for x in emotion_misclass]"
   ]
  },
  {
   "cell_type": "code",
   "execution_count": 94,
   "metadata": {},
   "outputs": [],
   "source": [
    "# One-hot encoding\n",
    "X_eng = X.copy()\n",
    "\n",
    "is_black = [int(x) for x in X_eng[\"Race\"] == 2]\n",
    "is_white = [int(x) for x in X_eng[\"Race\"] == 4]\n",
    "is_asian = [int(x) for x in X_eng[\"Race\"] == 1]\n",
    "is_latino = [int(x) for x in X_eng[\"Race\"] == 3]\n",
    "is_rest = [int(x) for x in X_eng[\"Race\"] == 5]\n",
    "\n",
    "is_happy = [int(x) for x in X_eng[\"Emotion\"] == 5]\n",
    "is_sad = [int(x) for x in X_eng[\"Emotion\"] == 6]\n",
    "is_calm = [int(x) for x in X_eng[\"Emotion\"] == 2]\n",
    "is_angry = [int(x) for x in X_eng[\"Emotion\"] == 1]\n",
    "is_fearful = [int(x) for x in X_eng[\"Emotion\"] == 4]\n",
    "is_surprised = [int(x) for x in X_eng[\"Emotion\"] == 7]\n",
    "is_disgusted = [int(x) for x in X_eng[\"Emotion\"] == 3]\n",
    "\n",
    "X_eng[\"is_black\"] = is_black\n",
    "X_eng[\"is_white\"] = is_white\n",
    "X_eng[\"is_asian\"] = is_asian\n",
    "X_eng[\"is_latino\"] = is_latino\n",
    "X_eng[\"is_rest\"] = is_rest\n",
    "X_eng[\"is_happy\"] = is_happy\n",
    "X_eng[\"is_sad\"] = is_sad\n",
    "X_eng[\"is_calm\"] = is_calm\n",
    "X_eng[\"is_angry\"] = is_angry\n",
    "X_eng[\"is_fearful\"] = is_fearful\n",
    "X_eng[\"is_surprised\"] = is_surprised\n",
    "X_eng[\"is_disgusted\"] = is_disgusted\n",
    "\n",
    "X = X_eng.drop(columns=[\"Race\", \"Emotion\"])"
   ]
  },
  {
   "cell_type": "code",
   "execution_count": 95,
   "metadata": {},
   "outputs": [],
   "source": [
    "X_train, X_test, y_train, y_test = sklearn.model_selection.train_test_split(X, y, test_size=0.15)"
   ]
  },
  {
   "cell_type": "code",
   "execution_count": 96,
   "metadata": {},
   "outputs": [],
   "source": [
    "scaler = StandardScaler()\n",
    "X_train_scaled = scaler.fit_transform(X_train)\n",
    "X_test_scaled = scaler.transform(X_test)"
   ]
  },
  {
   "cell_type": "code",
   "execution_count": 97,
   "metadata": {},
   "outputs": [],
   "source": [
    "lr = LogisticRegression(solver='lbfgs') "
   ]
  },
  {
   "cell_type": "code",
   "execution_count": 98,
   "metadata": {},
   "outputs": [
    {
     "data": {
      "text/plain": [
       "0.7713216107571875"
      ]
     },
     "execution_count": 98,
     "metadata": {},
     "output_type": "execute_result"
    }
   ],
   "source": [
    "sum(cross_val_score(lr, X_train_scaled, y_train, cv=5))/5"
   ]
  },
  {
   "cell_type": "code",
   "execution_count": 99,
   "metadata": {},
   "outputs": [],
   "source": [
    "lr.fit(X_train_scaled, y_train)\n",
    "prediction = lr.predict(X_test_scaled)"
   ]
  },
  {
   "cell_type": "code",
   "execution_count": 100,
   "metadata": {},
   "outputs": [],
   "source": [
    "def balanced_accuracy(estimator, X, y):\n",
    "    \"\"\" Calculate the precision of the estimator predicting on inputs X with output labels y\"\"\"\n",
    "    \n",
    "    prediction = np.array(estimator.predict(X))\n",
    "    y = np.array(y)\n",
    "    \n",
    "    is_actually_misclass = y == 1\n",
    "    is_not_misclass = y == 0\n",
    "    \n",
    "    acc_for_1 = sum(prediction[is_actually_misclass] == 1)/sum(is_actually_misclass)\n",
    "    acc_for_0 = sum(prediction[is_not_misclass] == 0)/sum(is_not_misclass)\n",
    "    \n",
    "    return (acc_for_0 + acc_for_1) / 2"
   ]
  },
  {
   "cell_type": "code",
   "execution_count": 101,
   "metadata": {},
   "outputs": [],
   "source": [
    "lr = LogisticRegression(solver='lbfgs') "
   ]
  },
  {
   "cell_type": "code",
   "execution_count": 102,
   "metadata": {},
   "outputs": [
    {
     "data": {
      "text/plain": [
       "0.729928198810334"
      ]
     },
     "execution_count": 102,
     "metadata": {},
     "output_type": "execute_result"
    }
   ],
   "source": [
    "sum(cross_val_score(lr, X_train_scaled, y_train, cv=5, scoring=balanced_accuracy))/5"
   ]
  },
  {
   "cell_type": "code",
   "execution_count": 103,
   "metadata": {},
   "outputs": [],
   "source": [
    "res = []\n",
    "best_weight = None \n",
    "best_score = 0 \n",
    "for w in np.linspace(1,30,50): \n",
    "    lr_tune = LogisticRegression(solver='lbfgs', class_weight={0:1, 1:w})\n",
    "    cv_score = sum(cross_val_score(lr_tune, X_train_scaled, y_train, cv=5, scoring=balanced_accuracy))/5\n",
    "    if cv_score > best_score: \n",
    "        best_weight = w\n",
    "        best_score = cv_score\n",
    "    res.append(cv_score)"
   ]
  },
  {
   "cell_type": "code",
   "execution_count": 104,
   "metadata": {},
   "outputs": [
    {
     "data": {
      "image/png": "[encoded data removed]",
      "text/plain": [
       "<Figure size 720x576 with 1 Axes>"
      ]
     },
     "metadata": {
      "needs_background": "light"
     },
     "output_type": "display_data"
    }
   ],
   "source": [
    "plt.figure(figsize=(10,8))\n",
    "plt.plot(np.linspace(1,30,50), res)\n",
    "plt.xlabel(\"class_weight value\")\n",
    "plt.ylabel(\"Balanced accuracy\")\n",
    "#plt.savefig('training.svg', format='svg')\n",
    "plt.show()"
   ]
  },
  {
   "cell_type": "code",
   "execution_count": 105,
   "metadata": {},
   "outputs": [
    {
     "name": "stdout",
     "output_type": "stream",
     "text": [
      "1.0\n",
      "0.729928198810334\n"
     ]
    }
   ],
   "source": [
    "print(best_weight)\n",
    "print(best_score)"
   ]
  },
  {
   "cell_type": "code",
   "execution_count": 106,
   "metadata": {},
   "outputs": [
    {
     "data": {
      "text/plain": [
       "0.729928198810334"
      ]
     },
     "execution_count": 106,
     "metadata": {},
     "output_type": "execute_result"
    }
   ],
   "source": [
    "lr_balanced = LogisticRegression(solver='lbfgs', class_weight={0:1, 1:best_weight}) \n",
    "sum(cross_val_score(lr_balanced, X_train_scaled, y_train, cv=5, scoring=balanced_accuracy))/5"
   ]
  },
  {
   "cell_type": "code",
   "execution_count": 107,
   "metadata": {},
   "outputs": [],
   "source": [
    "lr_balanced.fit(X_train_scaled, y_train)\n",
    "balanced_prediction = lr_balanced.predict(X_test_scaled)"
   ]
  },
  {
   "cell_type": "code",
   "execution_count": 108,
   "metadata": {},
   "outputs": [
    {
     "name": "stdout",
     "output_type": "stream",
     "text": [
      "Accuracy for the 1-class\n",
      "0.5619834710743802\n",
      "\n",
      "Accuracy for the 0-class\n",
      "0.8975409836065573\n",
      "\n",
      "Balanced accuracy score: \n",
      "0.7297622273404688\n",
      "\n",
      "Weighted accuracy\n",
      "0.7863013698630137\n",
      "\n",
      "Recall\n",
      "0.5619834710743802\n",
      "\n",
      "Precision\n",
      "0.7311827956989247\n",
      "\n"
     ]
    }
   ],
   "source": [
    "print(\"Accuracy for the 1-class\")\n",
    "print(1 - sum(abs(balanced_prediction[np.array(y_test) == 1] - 1))/sum(np.array(y_test) == 1))\n",
    "print()\n",
    "print(\"Accuracy for the 0-class\")\n",
    "print(1 - sum(abs(balanced_prediction[np.array(y_test) == 0] - 0))/sum(np.array(y_test) == 0))\n",
    "print()\n",
    "print(\"Balanced accuracy score: \")\n",
    "print(balanced_accuracy(lr_balanced, X_test_scaled, y_test))\n",
    "# Same as (acc_0 + acc_1)/2\n",
    "print()\n",
    "print(\"Weighted accuracy\")\n",
    "print(1 - sum(abs(balanced_prediction - y_test))/len(y_test))\n",
    "print()\n",
    "print(\"Recall\")\n",
    "print(recall(lr_balanced, X_test_scaled, y_test))\n",
    "print()\n",
    "print(\"Precision\")\n",
    "print(precision(lr_balanced, X_test_scaled, y_test))\n",
    "print()"
   ]
  }
 ],
 "metadata": {
  "kernelspec": {
   "display_name": "Python 3",
   "language": "python",
   "name": "python3"
  },
  "language_info": {
   "codemirror_mode": {
    "name": "ipython",
    "version": 3
   },
   "file_extension": ".py",
   "mimetype": "text/x-python",
   "name": "python",
   "nbconvert_exporter": "python",
   "pygments_lexer": "ipython3",
   "version": "3.7.4"
  }
 },
 "nbformat": 4,
 "nbformat_minor": 2
}
