{
 "cells": [
  {
   "cell_type": "code",
   "execution_count": 2,
   "metadata": {},
   "outputs": [],
   "source": [
    "import numpy as np\n",
    "import matplotlib.pyplot as plt\n",
    "import pandas as pd\n",
    "import seaborn as sns\n",
    "from sklearn.linear_model import LinearRegression\n",
    "from sklearn.linear_model import LogisticRegression\n",
    "import sklearn\n",
    "from random import random \n",
    "from random import sample \n",
    "from scipy.stats import norm\n",
    "import statsmodels.api as sm\n",
    "from sklearn.preprocessing import StandardScaler\n",
    "from sklearn.model_selection import train_test_split, cross_val_score, cross_val_predict\n",
    "from sklearn.utils import class_weight\n",
    "from sklearn import svm, datasets\n",
    "import matplotlib \n",
    "\n",
    "matplotlib.rc('font', **{'size'   : 16})"
   ]
  },
  {
   "cell_type": "code",
   "execution_count": 3,
   "metadata": {},
   "outputs": [],
   "source": [
    "DATA = \"../preprocessing/standardized_data.csv\"\n",
    "data = pd.read_csv(DATA,header=0)"
   ]
  },
  {
   "cell_type": "code",
   "execution_count": 4,
   "metadata": {},
   "outputs": [
    {
     "data": {
      "text/html": [
       "<div>\n",
       "<style scoped>\n",
       "    .dataframe tbody tr th:only-of-type {\n",
       "        vertical-align: middle;\n",
       "    }\n",
       "\n",
       "    .dataframe tbody tr th {\n",
       "        vertical-align: top;\n",
       "    }\n",
       "\n",
       "    .dataframe thead th {\n",
       "        text-align: right;\n",
       "    }\n",
       "</style>\n",
       "<table border=\"1\" class=\"dataframe\">\n",
       "  <thead>\n",
       "    <tr style=\"text-align: right;\">\n",
       "      <th></th>\n",
       "      <th>Race</th>\n",
       "      <th>Age</th>\n",
       "      <th>Gender</th>\n",
       "      <th>Emotion</th>\n",
       "    </tr>\n",
       "  </thead>\n",
       "  <tbody>\n",
       "    <tr>\n",
       "      <td>0</td>\n",
       "      <td>4</td>\n",
       "      <td>25</td>\n",
       "      <td>2</td>\n",
       "      <td>1</td>\n",
       "    </tr>\n",
       "    <tr>\n",
       "      <td>1</td>\n",
       "      <td>4</td>\n",
       "      <td>25</td>\n",
       "      <td>2</td>\n",
       "      <td>5</td>\n",
       "    </tr>\n",
       "    <tr>\n",
       "      <td>2</td>\n",
       "      <td>4</td>\n",
       "      <td>25</td>\n",
       "      <td>2</td>\n",
       "      <td>5</td>\n",
       "    </tr>\n",
       "    <tr>\n",
       "      <td>3</td>\n",
       "      <td>4</td>\n",
       "      <td>25</td>\n",
       "      <td>2</td>\n",
       "      <td>2</td>\n",
       "    </tr>\n",
       "    <tr>\n",
       "      <td>4</td>\n",
       "      <td>4</td>\n",
       "      <td>25</td>\n",
       "      <td>2</td>\n",
       "      <td>4</td>\n",
       "    </tr>\n",
       "    <tr>\n",
       "      <td>...</td>\n",
       "      <td>...</td>\n",
       "      <td>...</td>\n",
       "      <td>...</td>\n",
       "      <td>...</td>\n",
       "    </tr>\n",
       "    <tr>\n",
       "      <td>2672</td>\n",
       "      <td>4</td>\n",
       "      <td>25</td>\n",
       "      <td>1</td>\n",
       "      <td>-1</td>\n",
       "    </tr>\n",
       "    <tr>\n",
       "      <td>2673</td>\n",
       "      <td>4</td>\n",
       "      <td>25</td>\n",
       "      <td>1</td>\n",
       "      <td>-1</td>\n",
       "    </tr>\n",
       "    <tr>\n",
       "      <td>2674</td>\n",
       "      <td>4</td>\n",
       "      <td>35</td>\n",
       "      <td>1</td>\n",
       "      <td>-1</td>\n",
       "    </tr>\n",
       "    <tr>\n",
       "      <td>2675</td>\n",
       "      <td>4</td>\n",
       "      <td>25</td>\n",
       "      <td>1</td>\n",
       "      <td>-1</td>\n",
       "    </tr>\n",
       "    <tr>\n",
       "      <td>2676</td>\n",
       "      <td>4</td>\n",
       "      <td>25</td>\n",
       "      <td>2</td>\n",
       "      <td>-1</td>\n",
       "    </tr>\n",
       "  </tbody>\n",
       "</table>\n",
       "<p>2677 rows × 4 columns</p>\n",
       "</div>"
      ],
      "text/plain": [
       "      Race  Age  Gender  Emotion\n",
       "0        4   25       2        1\n",
       "1        4   25       2        5\n",
       "2        4   25       2        5\n",
       "3        4   25       2        2\n",
       "4        4   25       2        4\n",
       "...    ...  ...     ...      ...\n",
       "2672     4   25       1       -1\n",
       "2673     4   25       1       -1\n",
       "2674     4   35       1       -1\n",
       "2675     4   25       1       -1\n",
       "2676     4   25       2       -1\n",
       "\n",
       "[2677 rows x 4 columns]"
      ]
     },
     "execution_count": 4,
     "metadata": {},
     "output_type": "execute_result"
    }
   ],
   "source": [
    "data[[\"Race\", \"Age\", \"Gender\", \"Emotion\"]]"
   ]
  },
  {
   "cell_type": "markdown",
   "metadata": {},
   "source": [
    "## Again, reusing the misclassification definitions"
   ]
  },
  {
   "cell_type": "code",
   "execution_count": 5,
   "metadata": {},
   "outputs": [],
   "source": [
    "def gender_misclassification(gt, prediction): \n",
    "    \"\"\"Given a vector of ground truth values `gt` and a vector of prediction values `gt`, \n",
    "    return a vector containing 1 if there has been gender misclassification and 0 otherwise. \"\"\"\n",
    "    n = len(gt)\n",
    "    assert(len(prediction) == n)\n",
    "    result = np.zeros(n)\n",
    "    for i in range(n): \n",
    "        # If the ground truth or the result from the API is \"unsure\", no misclassification\n",
    "        if gt[i] == 0 or prediction[i] == 0: \n",
    "            result[i] = 0\n",
    "        # If the ground truth does not match the prediction, set the misclassification bit to one. \n",
    "        elif gt[i] != prediction[i]: \n",
    "            result[i] = 1\n",
    "        else: \n",
    "            result[i] = 0\n",
    "    return result"
   ]
  },
  {
   "cell_type": "code",
   "execution_count": 6,
   "metadata": {},
   "outputs": [],
   "source": [
    "def race_misclassification(gt, prediction): \n",
    "    \"\"\"Given a vector of ground truth values `gt` and a vector of prediction values `gt`, \n",
    "    return a vector containing 1 if there has been race misclassification and 0 otherwise. \"\"\"\n",
    "    n = len(gt)\n",
    "    assert(len(prediction) == n)\n",
    "    result = np.zeros(n)\n",
    "    for i in range(n): \n",
    "        # If the subjects is within a cornercase group or the prediction has outputed \"not sure\", then \n",
    "        # no misclassification\n",
    "        if gt[i] in [0,5] or prediction[i] == 0 : \n",
    "            result[i] = 0\n",
    "        # If the ground truth does not match the prediction, set the misclassification bit to one. \n",
    "        elif gt[i] != prediction[i]: \n",
    "            result[i] = 1\n",
    "        else: \n",
    "            result[i] = 0\n",
    "    return result"
   ]
  },
  {
   "cell_type": "code",
   "execution_count": 7,
   "metadata": {},
   "outputs": [],
   "source": [
    "def age_misclassification(gt, prediction): \n",
    "    \"\"\"Given a vector of ground truth values `gt` and a vector of prediction values `gt`, \n",
    "    return a vector containing 1 if there has been age misclassification and 0 otherwise. \"\"\"\n",
    "    n = len(gt)\n",
    "    assert(len(prediction) == n)\n",
    "    result = np.zeros(n)\n",
    "    \n",
    "    for i in range(n): \n",
    "        tolerance = 0 \n",
    "        # If the subject is a child, tolerance interval equals 5\n",
    "        if gt[i] <= 10: \n",
    "            tolerance = 5\n",
    "        # For teenagers and pre-young-adults, tolerance is 10\n",
    "        elif gt[i] <= 25: \n",
    "            tolerance = 10\n",
    "        # For the rest of the population, tolerance is 15\n",
    "        else: \n",
    "            tolerance = 15\n",
    "            \n",
    "        if gt[i] - tolerance <= prediction[i] <= gt[i] + tolerance: \n",
    "            result[i] = 0\n",
    "        else: \n",
    "            result[i] = 1\n",
    "    return result"
   ]
  },
  {
   "cell_type": "code",
   "execution_count": 13,
   "metadata": {},
   "outputs": [],
   "source": [
    "def emotion_misclassification(gt, prediction): \n",
    "    \"\"\"Given a vector of ground truth values `gt` and a vector of prediction values `gt`, \n",
    "    return a vector containing 1 if there has been emotion misclassification and 0 otherwise. \"\"\"\n",
    "    n = len(gt)\n",
    "    assert(len(prediction) == n)\n",
    "    result = np.zeros(n)\n",
    "    \n",
    "    for i in range(n): \n",
    "        # If dealing with one of the undefined emotions, set the misclassification bit to 0\n",
    "        if gt[i] <= 0 or prediction[i] <= 0: \n",
    "            result[i] = 0 \n",
    "        # If emotions don't match, set the misclassification bit to 1\n",
    "        elif gt[i] != prediction[i]: \n",
    "            result[i] = 1\n",
    "        else: \n",
    "            result[i] = 0\n",
    "    return result"
   ]
  },
  {
   "cell_type": "code",
   "execution_count": 8,
   "metadata": {},
   "outputs": [],
   "source": [
    "def recall(estimator, X, y): \n",
    "    \"\"\" Calculate the recall of the estimator predicting on inputs X with output labels y\"\"\"\n",
    "\n",
    "    prediction = estimator.predict(X)\n",
    "    \n",
    "    y = np.array(y)\n",
    "    prediction = np.array(prediction)\n",
    "        \n",
    "    tp = 0\n",
    "    fn = 0\n",
    "    \n",
    "    for i in range(y.size): \n",
    "        if y[i] == 1 and prediction[i] == 1:\n",
    "            tp += 1\n",
    "            continue \n",
    "        if y[i] == 1 and prediction[i] == 0: \n",
    "            fn += 1\n",
    "            \n",
    "    return (tp / (tp + fn))"
   ]
  },
  {
   "cell_type": "code",
   "execution_count": 9,
   "metadata": {},
   "outputs": [],
   "source": [
    "def precision(estimator, X, y):\n",
    "    \"\"\" Calculate the precision of the estimator predicting on inputs X with output labels y\"\"\"\n",
    "    \n",
    "    prediction = estimator.predict(X)\n",
    "    \n",
    "    y = np.array(y)\n",
    "    prediction = np.array(prediction)\n",
    "    tp = 0\n",
    "    fp = 0\n",
    "    for i in range(y.size):\n",
    "        if y[i] == 1 and prediction[i] == 1:\n",
    "            tp += 1\n",
    "            continue\n",
    "        if y[i] == 0 and prediction[i] == 1:\n",
    "            fp += 1\n",
    "    return (tp / (tp + fp))"
   ]
  },
  {
   "cell_type": "code",
   "execution_count": 10,
   "metadata": {},
   "outputs": [],
   "source": [
    "def plot_scores(model, data=None, outputs=None): \n",
    "    \"\"\"Given a classifier, display the cross-validation score on data (by default X_scaled) using \n",
    "    expected_cost, recall, precision and accuracy and scoring functions.\"\"\" \n",
    "    if data is None: \n",
    "        data = X_scaled\n",
    "    if outputs is None: \n",
    "        outputs = y \n",
    "    recall_scores = cross_val_score(model, data, outputs, cv=5, scoring=recall)\n",
    "    precision_scores = cross_val_score(model, data, outputs, cv=5, scoring=precision)\n",
    "    accuracy_scores = cross_val_score(model, data, outputs, cv=5, scoring=\"accuracy\")\n",
    "\n",
    "    rec = sum(recall_scores)/10 \n",
    "    prec = sum(precision_scores)/10\n",
    "    acc = sum(accuracy_scores)/10\n",
    "    \n",
    "    df = pd.DataFrame((rec, prec, acc), index=[\"Recall\", \"Precision\", \"Accuracy\"], columns=[\"Performance\"])\n",
    "    return df"
   ]
  },
  {
   "cell_type": "markdown",
   "metadata": {},
   "source": [
    "# Gender Misclassification"
   ]
  },
  {
   "cell_type": "code",
   "execution_count": 11,
   "metadata": {},
   "outputs": [
    {
     "data": {
      "text/plain": [
       "array([0., 0., 0., ..., 0., 0., 0.])"
      ]
     },
     "execution_count": 11,
     "metadata": {},
     "output_type": "execute_result"
    }
   ],
   "source": [
    "data_no_ai = data[data[\"Origin\"] != \"AI\"]\n",
    "gender_misclassification(data_no_ai[\"Gender\"], data_no_ai[\"clarifai_gender\"])"
   ]
  },
  {
   "cell_type": "code",
   "execution_count": 12,
   "metadata": {},
   "outputs": [
    {
     "data": {
      "text/plain": [
       "285.0"
      ]
     },
     "execution_count": 12,
     "metadata": {},
     "output_type": "execute_result"
    }
   ],
   "source": [
    "sum(gender_misclassification(data_no_ai[\"Gender\"], data_no_ai[\"clarifai_gender\"]))"
   ]
  },
  {
   "cell_type": "code",
   "execution_count": 13,
   "metadata": {},
   "outputs": [],
   "source": [
    "cl = gender_misclassification(data_no_ai[\"Gender\"], data_no_ai[\"clarifai_gender\"]) == 1\n",
    "ms = gender_misclassification(data_no_ai[\"Gender\"], data_no_ai[\"microsoft_gender\"]) == 1\n",
    "am = gender_misclassification(data_no_ai[\"Gender\"], data_no_ai[\"amazon_gender\"]) == 1\n",
    "fa = gender_misclassification(data_no_ai[\"Gender\"], data_no_ai[\"face++_gender\"]) == 1"
   ]
  },
  {
   "cell_type": "code",
   "execution_count": 14,
   "metadata": {},
   "outputs": [
    {
     "data": {
      "text/plain": [
       "372"
      ]
     },
     "execution_count": 14,
     "metadata": {},
     "output_type": "execute_result"
    }
   ],
   "source": [
    "gender_misclass = (cl | ms | am |fa)\n",
    "sum(gender_misclass)"
   ]
  },
  {
   "cell_type": "code",
   "execution_count": 15,
   "metadata": {},
   "outputs": [
    {
     "data": {
      "text/plain": [
       "2429"
      ]
     },
     "execution_count": 15,
     "metadata": {},
     "output_type": "execute_result"
    }
   ],
   "source": [
    "len(data_no_ai)"
   ]
  },
  {
   "cell_type": "code",
   "execution_count": 16,
   "metadata": {},
   "outputs": [],
   "source": [
    "X = data_no_ai[[\"Race\", \"Age\", \"Gender\", \"Emotion\"]]\n",
    "y = [int(x) for x in gender_misclass]"
   ]
  },
  {
   "cell_type": "code",
   "execution_count": 17,
   "metadata": {},
   "outputs": [],
   "source": [
    "# One-hot encoding\n",
    "X_eng = X.copy()\n",
    "\n",
    "is_black = [int(x) for x in X_eng[\"Race\"] == 2]\n",
    "is_white = [int(x) for x in X_eng[\"Race\"] == 4]\n",
    "is_asian = [int(x) for x in X_eng[\"Race\"] == 1]\n",
    "is_latino = [int(x) for x in X_eng[\"Race\"] == 3]\n",
    "is_rest = [int(x) for x in X_eng[\"Race\"] == 5]\n",
    "\n",
    "is_happy = [int(x) for x in X_eng[\"Emotion\"] == 5]\n",
    "is_sad = [int(x) for x in X_eng[\"Emotion\"] == 6]\n",
    "is_calm = [int(x) for x in X_eng[\"Emotion\"] == 2]\n",
    "is_angry = [int(x) for x in X_eng[\"Emotion\"] == 1]\n",
    "is_fearful = [int(x) for x in X_eng[\"Emotion\"] == 4]\n",
    "is_surprised = [int(x) for x in X_eng[\"Emotion\"] == 7]\n",
    "is_disgusted = [int(x) for x in X_eng[\"Emotion\"] == 3]\n",
    "\n",
    "X_eng[\"is_black\"] = is_black\n",
    "X_eng[\"is_white\"] = is_white\n",
    "X_eng[\"is_asian\"] = is_asian\n",
    "X_eng[\"is_latino\"] = is_latino\n",
    "X_eng[\"is_rest\"] = is_rest\n",
    "X_eng[\"is_happy\"] = is_happy\n",
    "X_eng[\"is_sad\"] = is_sad\n",
    "X_eng[\"is_calm\"] = is_calm\n",
    "X_eng[\"is_angry\"] = is_angry\n",
    "X_eng[\"is_fearful\"] = is_fearful\n",
    "X_eng[\"is_surprised\"] = is_surprised\n",
    "X_eng[\"is_disgusted\"] = is_disgusted\n",
    "\n",
    "X = X_eng.drop(columns=[\"Race\", \"Emotion\"])"
   ]
  },
  {
   "cell_type": "code",
   "execution_count": 18,
   "metadata": {},
   "outputs": [],
   "source": [
    "X_train, X_test, y_train, y_test = sklearn.model_selection.train_test_split(X, y, test_size=0.15)"
   ]
  },
  {
   "cell_type": "code",
   "execution_count": 19,
   "metadata": {},
   "outputs": [],
   "source": [
    "scaler = StandardScaler()\n",
    "X_train_scaled = scaler.fit_transform(X_train)\n",
    "X_test_scaled = scaler.transform(X_test)"
   ]
  },
  {
   "cell_type": "code",
   "execution_count": 20,
   "metadata": {},
   "outputs": [],
   "source": [
    "lr = LogisticRegression(solver='lbfgs') "
   ]
  },
  {
   "cell_type": "code",
   "execution_count": 21,
   "metadata": {},
   "outputs": [
    {
     "data": {
      "text/plain": [
       "0.8604668656997108"
      ]
     },
     "execution_count": 21,
     "metadata": {},
     "output_type": "execute_result"
    }
   ],
   "source": [
    "sum(cross_val_score(lr, X_train_scaled, y_train, cv=5))/5"
   ]
  },
  {
   "cell_type": "code",
   "execution_count": 22,
   "metadata": {},
   "outputs": [],
   "source": [
    "lr.fit(X_train_scaled, y_train)\n",
    "prediction = lr.predict(X_test_scaled)"
   ]
  },
  {
   "cell_type": "code",
   "execution_count": 23,
   "metadata": {},
   "outputs": [
    {
     "data": {
      "text/plain": [
       "12"
      ]
     },
     "execution_count": 23,
     "metadata": {},
     "output_type": "execute_result"
    }
   ],
   "source": [
    "sum(prediction)"
   ]
  },
  {
   "cell_type": "code",
   "execution_count": null,
   "metadata": {},
   "outputs": [],
   "source": []
  },
  {
   "cell_type": "code",
   "execution_count": null,
   "metadata": {},
   "outputs": [],
   "source": []
  },
  {
   "cell_type": "code",
   "execution_count": null,
   "metadata": {},
   "outputs": [],
   "source": []
  },
  {
   "cell_type": "code",
   "execution_count": 24,
   "metadata": {},
   "outputs": [],
   "source": [
    "is_actually_misclass = np.array(y_test) == 1\n",
    "is_not_misclass = np.array(y_test) == 0"
   ]
  },
  {
   "cell_type": "code",
   "execution_count": 25,
   "metadata": {},
   "outputs": [
    {
     "data": {
      "text/plain": [
       "0.06666666666666667"
      ]
     },
     "execution_count": 25,
     "metadata": {},
     "output_type": "execute_result"
    }
   ],
   "source": [
    "sum(prediction[is_actually_misclass] == 1)/sum(is_actually_misclass)"
   ]
  },
  {
   "cell_type": "code",
   "execution_count": 26,
   "metadata": {},
   "outputs": [
    {
     "data": {
      "text/plain": [
       "0.9737704918032787"
      ]
     },
     "execution_count": 26,
     "metadata": {},
     "output_type": "execute_result"
    }
   ],
   "source": [
    "sum(prediction[is_not_misclass] == 0)/sum(is_not_misclass)"
   ]
  },
  {
   "cell_type": "code",
   "execution_count": 27,
   "metadata": {},
   "outputs": [],
   "source": [
    "def balanced_accuracy(estimator, X, y):\n",
    "    \"\"\" Calculate the precision of the estimator predicting on inputs X with output labels y\"\"\"\n",
    "    \n",
    "    prediction = np.array(estimator.predict(X))\n",
    "    y = np.array(y)\n",
    "    \n",
    "    is_actually_misclass = y == 1\n",
    "    is_not_misclass = y == 0\n",
    "    \n",
    "    acc_for_1 = sum(prediction[is_actually_misclass] == 1)/sum(is_actually_misclass)\n",
    "    acc_for_0 = sum(prediction[is_not_misclass] == 0)/sum(is_not_misclass)\n",
    "    \n",
    "    return (acc_for_0 + acc_for_1) / 2"
   ]
  },
  {
   "cell_type": "code",
   "execution_count": 28,
   "metadata": {},
   "outputs": [],
   "source": [
    "lr = LogisticRegression(solver='lbfgs') "
   ]
  },
  {
   "cell_type": "code",
   "execution_count": 29,
   "metadata": {},
   "outputs": [
    {
     "data": {
      "text/plain": [
       "0.5580591594785144"
      ]
     },
     "execution_count": 29,
     "metadata": {},
     "output_type": "execute_result"
    }
   ],
   "source": [
    "sum(cross_val_score(lr, X_train_scaled, y_train, cv=5, scoring=balanced_accuracy))/5"
   ]
  },
  {
   "cell_type": "code",
   "execution_count": null,
   "metadata": {},
   "outputs": [],
   "source": []
  },
  {
   "cell_type": "code",
   "execution_count": 30,
   "metadata": {},
   "outputs": [],
   "source": [
    "res = []\n",
    "best_weight = None \n",
    "best_score = 0 \n",
    "for w in np.linspace(1,30,50): \n",
    "    lr_tune = LogisticRegression(solver='lbfgs', class_weight={0:1, 1:w})\n",
    "    cv_score = sum(cross_val_score(lr_tune, X_train_scaled, y_train, cv=5, scoring=balanced_accuracy))/5\n",
    "    if cv_score > best_score: \n",
    "        best_weight = w\n",
    "        best_score = cv_score\n",
    "    res.append(cv_score)"
   ]
  },
  {
   "cell_type": "code",
   "execution_count": 52,
   "metadata": {},
   "outputs": [
    {
     "data": {
      "image/png": "[encoded data removed]",
      "text/plain": [
       "<Figure size 720x576 with 1 Axes>"
      ]
     },
     "metadata": {
      "needs_background": "light"
     },
     "output_type": "display_data"
    }
   ],
   "source": [
    "plt.figure(figsize=(10,8))\n",
    "plt.plot(np.linspace(1,30,50), res)\n",
    "plt.xlabel(\"class_weight value\")\n",
    "plt.ylabel(\"Balanced accuracy\")\n",
    "#plt.savefig('training.svg', format='svg')\n",
    "plt.show()"
   ]
  },
  {
   "cell_type": "code",
   "execution_count": 53,
   "metadata": {},
   "outputs": [
    {
     "name": "stdout",
     "output_type": "stream",
     "text": [
      "4.551020408163265\n",
      "0.7499056546798483\n"
     ]
    }
   ],
   "source": [
    "print(best_weight)\n",
    "print(best_score)"
   ]
  },
  {
   "cell_type": "code",
   "execution_count": 33,
   "metadata": {},
   "outputs": [
    {
     "data": {
      "text/plain": [
       "0.7421857233819985"
      ]
     },
     "execution_count": 33,
     "metadata": {},
     "output_type": "execute_result"
    }
   ],
   "source": [
    "lr_balanced = LogisticRegression(solver='lbfgs', class_weight={0:1, 1:best_weight}) \n",
    "sum(cross_val_score(lr_balanced, X_train_scaled, y_train, cv=5, scoring=balanced_accuracy))/5"
   ]
  },
  {
   "cell_type": "code",
   "execution_count": 34,
   "metadata": {},
   "outputs": [],
   "source": [
    "lr_balanced.fit(X_train_scaled, y_train)\n",
    "balanced_prediction = lr_balanced.predict(X_test_scaled)"
   ]
  },
  {
   "cell_type": "code",
   "execution_count": 35,
   "metadata": {},
   "outputs": [
    {
     "name": "stdout",
     "output_type": "stream",
     "text": [
      "Accuracy for the 1-class\n",
      "0.8113207547169812\n",
      "\n",
      "Accuracy for the 0-class\n",
      "0.6762820512820513\n",
      "\n",
      "Balanced accuracy score: \n",
      "0.7438014029995162\n",
      "\n",
      "Weighted accuracy\n",
      "0.6958904109589041\n",
      "\n",
      "Recall\n",
      "0.8113207547169812\n",
      "\n",
      "Precision\n",
      "0.2986111111111111\n",
      "\n"
     ]
    }
   ],
   "source": [
    "print(\"Accuracy for the 1-class\")\n",
    "print(1 - sum(abs(balanced_prediction[np.array(y_test) == 1] - 1))/sum(np.array(y_test) == 1))\n",
    "print()\n",
    "print(\"Accuracy for the 0-class\")\n",
    "print(1 - sum(abs(balanced_prediction[np.array(y_test) == 0] - 0))/sum(np.array(y_test) == 0))\n",
    "print()\n",
    "print(\"Balanced accuracy score: \")\n",
    "print(balanced_accuracy(lr_balanced, X_test_scaled, y_test))\n",
    "# Same as (acc_0 + acc_1)/2\n",
    "print()\n",
    "print(\"Weighted accuracy\")\n",
    "print(1 - sum(abs(balanced_prediction - y_test))/len(y_test))\n",
    "print()\n",
    "print(\"Recall\")\n",
    "print(recall(lr_balanced, X_test_scaled, y_test))\n",
    "print()\n",
    "print(\"Precision\")\n",
    "print(precision(lr_balanced, X_test_scaled, y_test))\n",
    "print()"
   ]
  },
  {
   "cell_type": "code",
   "execution_count": 36,
   "metadata": {},
   "outputs": [
    {
     "name": "stdout",
     "output_type": "stream",
     "text": [
      "We can see the most important factors for gender misclassification in out model are gender itself and age.\n"
     ]
    },
    {
     "data": {
      "text/plain": [
       "array([[-0.36712903, -1.1280819 ,  0.19629272,  0.08342247, -0.09940886,\n",
       "        -0.02221616, -0.20845625, -0.90102132, -0.16787255, -0.66592055,\n",
       "        -0.34986003, -0.30727072, -0.00678589, -0.24249928]])"
      ]
     },
     "execution_count": 36,
     "metadata": {},
     "output_type": "execute_result"
    }
   ],
   "source": [
    "print(\"We can see the most important factors for gender misclassification in out model are gender itself and age.\")\n",
    "lr_balanced.coef_"
   ]
  },
  {
   "cell_type": "code",
   "execution_count": 37,
   "metadata": {},
   "outputs": [
    {
     "data": {
      "text/plain": [
       "array([-0.72203374])"
      ]
     },
     "execution_count": 37,
     "metadata": {},
     "output_type": "execute_result"
    }
   ],
   "source": [
    "lr_balanced.intercept_"
   ]
  },
  {
   "cell_type": "code",
   "execution_count": 38,
   "metadata": {},
   "outputs": [
    {
     "data": {
      "text/html": [
       "<div>\n",
       "<style scoped>\n",
       "    .dataframe tbody tr th:only-of-type {\n",
       "        vertical-align: middle;\n",
       "    }\n",
       "\n",
       "    .dataframe tbody tr th {\n",
       "        vertical-align: top;\n",
       "    }\n",
       "\n",
       "    .dataframe thead th {\n",
       "        text-align: right;\n",
       "    }\n",
       "</style>\n",
       "<table border=\"1\" class=\"dataframe\">\n",
       "  <thead>\n",
       "    <tr style=\"text-align: right;\">\n",
       "      <th></th>\n",
       "      <th>Age</th>\n",
       "      <th>Gender</th>\n",
       "      <th>is_black</th>\n",
       "      <th>is_white</th>\n",
       "      <th>is_asian</th>\n",
       "      <th>is_latino</th>\n",
       "      <th>is_rest</th>\n",
       "      <th>is_happy</th>\n",
       "      <th>is_sad</th>\n",
       "      <th>is_calm</th>\n",
       "      <th>is_angry</th>\n",
       "      <th>is_fearful</th>\n",
       "      <th>is_surprised</th>\n",
       "      <th>is_disgusted</th>\n",
       "    </tr>\n",
       "  </thead>\n",
       "  <tbody>\n",
       "    <tr>\n",
       "      <td>0</td>\n",
       "      <td>25</td>\n",
       "      <td>2</td>\n",
       "      <td>0</td>\n",
       "      <td>1</td>\n",
       "      <td>0</td>\n",
       "      <td>0</td>\n",
       "      <td>0</td>\n",
       "      <td>0</td>\n",
       "      <td>0</td>\n",
       "      <td>0</td>\n",
       "      <td>1</td>\n",
       "      <td>0</td>\n",
       "      <td>0</td>\n",
       "      <td>0</td>\n",
       "    </tr>\n",
       "    <tr>\n",
       "      <td>1</td>\n",
       "      <td>25</td>\n",
       "      <td>2</td>\n",
       "      <td>0</td>\n",
       "      <td>1</td>\n",
       "      <td>0</td>\n",
       "      <td>0</td>\n",
       "      <td>0</td>\n",
       "      <td>1</td>\n",
       "      <td>0</td>\n",
       "      <td>0</td>\n",
       "      <td>0</td>\n",
       "      <td>0</td>\n",
       "      <td>0</td>\n",
       "      <td>0</td>\n",
       "    </tr>\n",
       "    <tr>\n",
       "      <td>2</td>\n",
       "      <td>25</td>\n",
       "      <td>2</td>\n",
       "      <td>0</td>\n",
       "      <td>1</td>\n",
       "      <td>0</td>\n",
       "      <td>0</td>\n",
       "      <td>0</td>\n",
       "      <td>1</td>\n",
       "      <td>0</td>\n",
       "      <td>0</td>\n",
       "      <td>0</td>\n",
       "      <td>0</td>\n",
       "      <td>0</td>\n",
       "      <td>0</td>\n",
       "    </tr>\n",
       "    <tr>\n",
       "      <td>3</td>\n",
       "      <td>25</td>\n",
       "      <td>2</td>\n",
       "      <td>0</td>\n",
       "      <td>1</td>\n",
       "      <td>0</td>\n",
       "      <td>0</td>\n",
       "      <td>0</td>\n",
       "      <td>0</td>\n",
       "      <td>0</td>\n",
       "      <td>1</td>\n",
       "      <td>0</td>\n",
       "      <td>0</td>\n",
       "      <td>0</td>\n",
       "      <td>0</td>\n",
       "    </tr>\n",
       "    <tr>\n",
       "      <td>4</td>\n",
       "      <td>25</td>\n",
       "      <td>2</td>\n",
       "      <td>0</td>\n",
       "      <td>1</td>\n",
       "      <td>0</td>\n",
       "      <td>0</td>\n",
       "      <td>0</td>\n",
       "      <td>0</td>\n",
       "      <td>0</td>\n",
       "      <td>0</td>\n",
       "      <td>0</td>\n",
       "      <td>1</td>\n",
       "      <td>0</td>\n",
       "      <td>0</td>\n",
       "    </tr>\n",
       "    <tr>\n",
       "      <td>...</td>\n",
       "      <td>...</td>\n",
       "      <td>...</td>\n",
       "      <td>...</td>\n",
       "      <td>...</td>\n",
       "      <td>...</td>\n",
       "      <td>...</td>\n",
       "      <td>...</td>\n",
       "      <td>...</td>\n",
       "      <td>...</td>\n",
       "      <td>...</td>\n",
       "      <td>...</td>\n",
       "      <td>...</td>\n",
       "      <td>...</td>\n",
       "      <td>...</td>\n",
       "    </tr>\n",
       "    <tr>\n",
       "      <td>2424</td>\n",
       "      <td>38</td>\n",
       "      <td>1</td>\n",
       "      <td>0</td>\n",
       "      <td>1</td>\n",
       "      <td>0</td>\n",
       "      <td>0</td>\n",
       "      <td>0</td>\n",
       "      <td>1</td>\n",
       "      <td>0</td>\n",
       "      <td>0</td>\n",
       "      <td>0</td>\n",
       "      <td>0</td>\n",
       "      <td>0</td>\n",
       "      <td>0</td>\n",
       "    </tr>\n",
       "    <tr>\n",
       "      <td>2425</td>\n",
       "      <td>27</td>\n",
       "      <td>2</td>\n",
       "      <td>0</td>\n",
       "      <td>0</td>\n",
       "      <td>1</td>\n",
       "      <td>0</td>\n",
       "      <td>0</td>\n",
       "      <td>1</td>\n",
       "      <td>0</td>\n",
       "      <td>0</td>\n",
       "      <td>0</td>\n",
       "      <td>0</td>\n",
       "      <td>0</td>\n",
       "      <td>0</td>\n",
       "    </tr>\n",
       "    <tr>\n",
       "      <td>2426</td>\n",
       "      <td>26</td>\n",
       "      <td>2</td>\n",
       "      <td>0</td>\n",
       "      <td>1</td>\n",
       "      <td>0</td>\n",
       "      <td>0</td>\n",
       "      <td>0</td>\n",
       "      <td>0</td>\n",
       "      <td>0</td>\n",
       "      <td>1</td>\n",
       "      <td>0</td>\n",
       "      <td>0</td>\n",
       "      <td>0</td>\n",
       "      <td>0</td>\n",
       "    </tr>\n",
       "    <tr>\n",
       "      <td>2427</td>\n",
       "      <td>26</td>\n",
       "      <td>1</td>\n",
       "      <td>0</td>\n",
       "      <td>0</td>\n",
       "      <td>1</td>\n",
       "      <td>0</td>\n",
       "      <td>0</td>\n",
       "      <td>0</td>\n",
       "      <td>0</td>\n",
       "      <td>1</td>\n",
       "      <td>0</td>\n",
       "      <td>0</td>\n",
       "      <td>0</td>\n",
       "      <td>0</td>\n",
       "    </tr>\n",
       "    <tr>\n",
       "      <td>2428</td>\n",
       "      <td>23</td>\n",
       "      <td>1</td>\n",
       "      <td>0</td>\n",
       "      <td>0</td>\n",
       "      <td>1</td>\n",
       "      <td>0</td>\n",
       "      <td>0</td>\n",
       "      <td>1</td>\n",
       "      <td>0</td>\n",
       "      <td>0</td>\n",
       "      <td>0</td>\n",
       "      <td>0</td>\n",
       "      <td>0</td>\n",
       "      <td>0</td>\n",
       "    </tr>\n",
       "  </tbody>\n",
       "</table>\n",
       "<p>2429 rows × 14 columns</p>\n",
       "</div>"
      ],
      "text/plain": [
       "      Age  Gender  is_black  is_white  is_asian  is_latino  is_rest  is_happy  \\\n",
       "0      25       2         0         1         0          0        0         0   \n",
       "1      25       2         0         1         0          0        0         1   \n",
       "2      25       2         0         1         0          0        0         1   \n",
       "3      25       2         0         1         0          0        0         0   \n",
       "4      25       2         0         1         0          0        0         0   \n",
       "...   ...     ...       ...       ...       ...        ...      ...       ...   \n",
       "2424   38       1         0         1         0          0        0         1   \n",
       "2425   27       2         0         0         1          0        0         1   \n",
       "2426   26       2         0         1         0          0        0         0   \n",
       "2427   26       1         0         0         1          0        0         0   \n",
       "2428   23       1         0         0         1          0        0         1   \n",
       "\n",
       "      is_sad  is_calm  is_angry  is_fearful  is_surprised  is_disgusted  \n",
       "0          0        0         1           0             0             0  \n",
       "1          0        0         0           0             0             0  \n",
       "2          0        0         0           0             0             0  \n",
       "3          0        1         0           0             0             0  \n",
       "4          0        0         0           1             0             0  \n",
       "...      ...      ...       ...         ...           ...           ...  \n",
       "2424       0        0         0           0             0             0  \n",
       "2425       0        0         0           0             0             0  \n",
       "2426       0        1         0           0             0             0  \n",
       "2427       0        1         0           0             0             0  \n",
       "2428       0        0         0           0             0             0  \n",
       "\n",
       "[2429 rows x 14 columns]"
      ]
     },
     "execution_count": 38,
     "metadata": {},
     "output_type": "execute_result"
    }
   ],
   "source": [
    "X"
   ]
  },
  {
   "cell_type": "code",
   "execution_count": 39,
   "metadata": {},
   "outputs": [],
   "source": [
    "T = X.copy()"
   ]
  },
  {
   "cell_type": "code",
   "execution_count": 40,
   "metadata": {
    "scrolled": true
   },
   "outputs": [
    {
     "data": {
      "text/plain": [
       "[('Age', -0.36712903455747725),\n",
       " ('Gender', -1.1280819036864782),\n",
       " ('is_black', 0.1962927235293701),\n",
       " ('is_white', 0.08342246931842885),\n",
       " ('is_asian', -0.09940886150341172),\n",
       " ('is_latino', -0.022216157641097564),\n",
       " ('is_rest', -0.20845624791030445),\n",
       " ('is_happy', -0.9010213222939686),\n",
       " ('is_sad', -0.16787255340332455),\n",
       " ('is_calm', -0.6659205548934336),\n",
       " ('is_angry', -0.3498600339753736),\n",
       " ('is_fearful', -0.30727071929663574),\n",
       " ('is_surprised', -0.0067858880295858905),\n",
       " ('is_disgusted', -0.24249928027940665)]"
      ]
     },
     "execution_count": 40,
     "metadata": {},
     "output_type": "execute_result"
    }
   ],
   "source": [
    "list(zip(X.columns, lr_balanced.coef_[0]))"
   ]
  },
  {
   "cell_type": "code",
   "execution_count": 56,
   "metadata": {},
   "outputs": [
    {
     "data": {
      "text/plain": [
       "14"
      ]
     },
     "execution_count": 56,
     "metadata": {},
     "output_type": "execute_result"
    }
   ],
   "source": [
    "len(lr_balanced.coef_[0])"
   ]
  },
  {
   "cell_type": "markdown",
   "metadata": {},
   "source": [
    "# Race Misclassification "
   ]
  },
  {
   "cell_type": "code",
   "execution_count": 92,
   "metadata": {},
   "outputs": [],
   "source": [
    "data_no_ai = data[data[\"Origin\"] != \"AI\"]"
   ]
  },
  {
   "cell_type": "code",
   "execution_count": 93,
   "metadata": {},
   "outputs": [
    {
     "data": {
      "text/plain": [
       "319"
      ]
     },
     "execution_count": 93,
     "metadata": {},
     "output_type": "execute_result"
    }
   ],
   "source": [
    "race_misclass = race_misclassification(data_no_ai[\"Race\"], data_no_ai[\"clarifai_race\"]) == 1\n",
    "sum(race_misclass)"
   ]
  },
  {
   "cell_type": "code",
   "execution_count": 94,
   "metadata": {},
   "outputs": [
    {
     "data": {
      "text/plain": [
       "2429"
      ]
     },
     "execution_count": 94,
     "metadata": {},
     "output_type": "execute_result"
    }
   ],
   "source": [
    "len(data_no_ai)"
   ]
  },
  {
   "cell_type": "code",
   "execution_count": 95,
   "metadata": {},
   "outputs": [],
   "source": [
    "X = data_no_ai[[\"Race\", \"Age\", \"Gender\", \"Emotion\"]]\n",
    "y = [int(x) for x in race_misclass]"
   ]
  },
  {
   "cell_type": "code",
   "execution_count": 96,
   "metadata": {},
   "outputs": [],
   "source": [
    "# One-hot encoding\n",
    "X_eng = X.copy()\n",
    "\n",
    "is_black = [int(x) for x in X_eng[\"Race\"] == 2]\n",
    "is_white = [int(x) for x in X_eng[\"Race\"] == 4]\n",
    "is_asian = [int(x) for x in X_eng[\"Race\"] == 1]\n",
    "is_latino = [int(x) for x in X_eng[\"Race\"] == 3]\n",
    "is_rest = [int(x) for x in X_eng[\"Race\"] == 5]\n",
    "\n",
    "is_happy = [int(x) for x in X_eng[\"Emotion\"] == 5]\n",
    "is_sad = [int(x) for x in X_eng[\"Emotion\"] == 6]\n",
    "is_calm = [int(x) for x in X_eng[\"Emotion\"] == 2]\n",
    "is_angry = [int(x) for x in X_eng[\"Emotion\"] == 1]\n",
    "is_fearful = [int(x) for x in X_eng[\"Emotion\"] == 4]\n",
    "is_surprised = [int(x) for x in X_eng[\"Emotion\"] == 7]\n",
    "is_disgusted = [int(x) for x in X_eng[\"Emotion\"] == 3]\n",
    "\n",
    "X_eng[\"is_black\"] = is_black\n",
    "X_eng[\"is_white\"] = is_white\n",
    "X_eng[\"is_asian\"] = is_asian\n",
    "X_eng[\"is_latino\"] = is_latino\n",
    "X_eng[\"is_rest\"] = is_rest\n",
    "X_eng[\"is_happy\"] = is_happy\n",
    "X_eng[\"is_sad\"] = is_sad\n",
    "X_eng[\"is_calm\"] = is_calm\n",
    "X_eng[\"is_angry\"] = is_angry\n",
    "X_eng[\"is_fearful\"] = is_fearful\n",
    "X_eng[\"is_surprised\"] = is_surprised\n",
    "X_eng[\"is_disgusted\"] = is_disgusted\n",
    "\n",
    "X = X_eng.drop(columns=[\"Race\", \"Emotion\"])"
   ]
  },
  {
   "cell_type": "code",
   "execution_count": 97,
   "metadata": {},
   "outputs": [],
   "source": [
    "X_train, X_test, y_train, y_test = sklearn.model_selection.train_test_split(X, y, test_size=0.15)"
   ]
  },
  {
   "cell_type": "code",
   "execution_count": 98,
   "metadata": {},
   "outputs": [],
   "source": [
    "scaler = StandardScaler()\n",
    "X_train_scaled = scaler.fit_transform(X_train)\n",
    "X_test_scaled = scaler.transform(X_test)"
   ]
  },
  {
   "cell_type": "code",
   "execution_count": 99,
   "metadata": {},
   "outputs": [],
   "source": [
    "lr = LogisticRegression(solver='lbfgs') "
   ]
  },
  {
   "cell_type": "code",
   "execution_count": 100,
   "metadata": {},
   "outputs": [
    {
     "data": {
      "text/plain": [
       "0.8677343143938503"
      ]
     },
     "execution_count": 100,
     "metadata": {},
     "output_type": "execute_result"
    }
   ],
   "source": [
    "sum(cross_val_score(lr, X_train_scaled, y_train, cv=5))/5"
   ]
  },
  {
   "cell_type": "code",
   "execution_count": 101,
   "metadata": {},
   "outputs": [],
   "source": [
    "lr.fit(X_train_scaled, y_train)\n",
    "prediction = lr.predict(X_test_scaled)"
   ]
  },
  {
   "cell_type": "code",
   "execution_count": 102,
   "metadata": {},
   "outputs": [
    {
     "data": {
      "text/plain": [
       "2"
      ]
     },
     "execution_count": 102,
     "metadata": {},
     "output_type": "execute_result"
    }
   ],
   "source": [
    "sum(prediction)"
   ]
  },
  {
   "cell_type": "code",
   "execution_count": null,
   "metadata": {},
   "outputs": [],
   "source": []
  },
  {
   "cell_type": "code",
   "execution_count": null,
   "metadata": {},
   "outputs": [],
   "source": []
  },
  {
   "cell_type": "code",
   "execution_count": null,
   "metadata": {},
   "outputs": [],
   "source": []
  },
  {
   "cell_type": "code",
   "execution_count": 103,
   "metadata": {},
   "outputs": [],
   "source": [
    "is_actually_misclass = np.array(y_test) == 1\n",
    "is_not_misclass = np.array(y_test) == 0"
   ]
  },
  {
   "cell_type": "code",
   "execution_count": 104,
   "metadata": {},
   "outputs": [
    {
     "data": {
      "text/plain": [
       "0.0"
      ]
     },
     "execution_count": 104,
     "metadata": {},
     "output_type": "execute_result"
    }
   ],
   "source": [
    "sum(prediction[is_actually_misclass] == 1)/sum(is_actually_misclass)"
   ]
  },
  {
   "cell_type": "code",
   "execution_count": 105,
   "metadata": {},
   "outputs": [
    {
     "data": {
      "text/plain": [
       "0.9936507936507937"
      ]
     },
     "execution_count": 105,
     "metadata": {},
     "output_type": "execute_result"
    }
   ],
   "source": [
    "sum(prediction[is_not_misclass] == 0)/sum(is_not_misclass)"
   ]
  },
  {
   "cell_type": "code",
   "execution_count": 106,
   "metadata": {},
   "outputs": [],
   "source": [
    "def balanced_accuracy(estimator, X, y):\n",
    "    \"\"\" Calculate the precision of the estimator predicting on inputs X with output labels y\"\"\"\n",
    "    \n",
    "    prediction = np.array(estimator.predict(X))\n",
    "    y = np.array(y)\n",
    "    \n",
    "    is_actually_misclass = y == 1\n",
    "    is_not_misclass = y == 0\n",
    "    \n",
    "    acc_for_1 = sum(prediction[is_actually_misclass] == 1)/sum(is_actually_misclass)\n",
    "    acc_for_0 = sum(prediction[is_not_misclass] == 0)/sum(is_not_misclass)\n",
    "    \n",
    "    return (acc_for_0 + acc_for_1) / 2"
   ]
  },
  {
   "cell_type": "code",
   "execution_count": 107,
   "metadata": {},
   "outputs": [],
   "source": [
    "lr = LogisticRegression(solver='lbfgs') "
   ]
  },
  {
   "cell_type": "code",
   "execution_count": 108,
   "metadata": {},
   "outputs": [
    {
     "data": {
      "text/plain": [
       "0.5036056948313216"
      ]
     },
     "execution_count": 108,
     "metadata": {},
     "output_type": "execute_result"
    }
   ],
   "source": [
    "sum(cross_val_score(lr, X_train_scaled, y_train, cv=5, scoring=balanced_accuracy))/5"
   ]
  },
  {
   "cell_type": "code",
   "execution_count": null,
   "metadata": {},
   "outputs": [],
   "source": []
  },
  {
   "cell_type": "code",
   "execution_count": 109,
   "metadata": {},
   "outputs": [],
   "source": [
    "res = []\n",
    "best_weight = None \n",
    "best_score = 0 \n",
    "for w in np.linspace(1,30,50): \n",
    "    lr_tune = LogisticRegression(solver='lbfgs', class_weight={0:1, 1:w})\n",
    "    cv_score = sum(cross_val_score(lr_tune, X_train_scaled, y_train, cv=5, scoring=balanced_accuracy))/5\n",
    "    if cv_score > best_score: \n",
    "        best_weight = w\n",
    "        best_score = cv_score\n",
    "    res.append(cv_score)"
   ]
  },
  {
   "cell_type": "code",
   "execution_count": 110,
   "metadata": {},
   "outputs": [
    {
     "data": {
      "image/png": "[encoded data removed]",
      "text/plain": [
       "<Figure size 576x432 with 1 Axes>"
      ]
     },
     "metadata": {
      "needs_background": "light"
     },
     "output_type": "display_data"
    }
   ],
   "source": [
    "plt.figure(figsize=(8,6))\n",
    "plt.plot(np.linspace(1,30,50), res)\n",
    "plt.show()"
   ]
  },
  {
   "cell_type": "code",
   "execution_count": 111,
   "metadata": {},
   "outputs": [
    {
     "name": "stdout",
     "output_type": "stream",
     "text": [
      "6.326530612244898\n",
      "0.6551362683438156\n"
     ]
    }
   ],
   "source": [
    "print(best_weight)\n",
    "print(best_score)"
   ]
  },
  {
   "cell_type": "code",
   "execution_count": 89,
   "metadata": {},
   "outputs": [
    {
     "data": {
      "text/plain": [
       "0.6544041908846377"
      ]
     },
     "execution_count": 89,
     "metadata": {},
     "output_type": "execute_result"
    }
   ],
   "source": [
    "lr_balanced = LogisticRegression(solver='lbfgs', class_weight={0:1, 1:best_weight}) \n",
    "sum(cross_val_score(lr_balanced, X_train_scaled, y_train, cv=5, scoring=balanced_accuracy))/5"
   ]
  },
  {
   "cell_type": "code",
   "execution_count": 90,
   "metadata": {},
   "outputs": [],
   "source": [
    "lr_balanced.fit(X_train_scaled, y_train)\n",
    "balanced_prediction = lr_balanced.predict(X_test_scaled)"
   ]
  },
  {
   "cell_type": "code",
   "execution_count": 91,
   "metadata": {},
   "outputs": [
    {
     "name": "stdout",
     "output_type": "stream",
     "text": [
      "Accuracy for the 1-class\n",
      "0.7777777777777778\n",
      "\n",
      "Accuracy for the 0-class\n",
      "0.50625\n",
      "\n",
      "Balanced accuracy score: \n",
      "0.6420138888888889\n",
      "\n",
      "Weighted accuracy\n",
      "0.5397260273972603\n",
      "\n",
      "Recall\n",
      "0.7777777777777778\n",
      "\n",
      "Precision\n",
      "0.18134715025906736\n",
      "\n"
     ]
    }
   ],
   "source": [
    "print(\"Accuracy for the 1-class\")\n",
    "print(1 - sum(abs(balanced_prediction[np.array(y_test) == 1] - 1))/sum(np.array(y_test) == 1))\n",
    "print()\n",
    "print(\"Accuracy for the 0-class\")\n",
    "print(1 - sum(abs(balanced_prediction[np.array(y_test) == 0] - 0))/sum(np.array(y_test) == 0))\n",
    "print()\n",
    "print(\"Balanced accuracy score: \")\n",
    "print(balanced_accuracy(lr_balanced, X_test_scaled, y_test))\n",
    "# Same as (acc_0 + acc_1)/2\n",
    "print()\n",
    "print(\"Weighted accuracy\")\n",
    "print(1 - sum(abs(balanced_prediction - y_test))/len(y_test))\n",
    "print()\n",
    "print(\"Recall\")\n",
    "print(recall(lr_balanced, X_test_scaled, y_test))\n",
    "print()\n",
    "print(\"Precision\")\n",
    "print(precision(lr_balanced, X_test_scaled, y_test))\n",
    "print()"
   ]
  },
  {
   "cell_type": "code",
   "execution_count": 68,
   "metadata": {},
   "outputs": [
    {
     "name": "stdout",
     "output_type": "stream",
     "text": [
      "We can see the most important factors for gender misclassification in out model are gender itself and age.\n"
     ]
    },
    {
     "data": {
      "text/plain": [
       "array([[-0.08486118,  0.04248827,  0.06020328,  0.49429692, -0.22238696,\n",
       "         0.62851311,  0.25926035,  0.24006305,  0.07921539,  0.29090969,\n",
       "         0.2619214 ,  0.06377845,  0.00131217, -0.09134974]])"
      ]
     },
     "execution_count": 68,
     "metadata": {},
     "output_type": "execute_result"
    }
   ],
   "source": [
    "print(\"We can see the most important factors for gender misclassification in out model are gender itself and age.\")\n",
    "lr_balanced.coef_"
   ]
  },
  {
   "cell_type": "code",
   "execution_count": 38,
   "metadata": {},
   "outputs": [
    {
     "data": {
      "text/plain": [
       "array([-0.72059514])"
      ]
     },
     "execution_count": 38,
     "metadata": {},
     "output_type": "execute_result"
    }
   ],
   "source": [
    "lr_balanced.intercept_"
   ]
  },
  {
   "cell_type": "code",
   "execution_count": 39,
   "metadata": {},
   "outputs": [
    {
     "data": {
      "text/html": [
       "<div>\n",
       "<style scoped>\n",
       "    .dataframe tbody tr th:only-of-type {\n",
       "        vertical-align: middle;\n",
       "    }\n",
       "\n",
       "    .dataframe tbody tr th {\n",
       "        vertical-align: top;\n",
       "    }\n",
       "\n",
       "    .dataframe thead th {\n",
       "        text-align: right;\n",
       "    }\n",
       "</style>\n",
       "<table border=\"1\" class=\"dataframe\">\n",
       "  <thead>\n",
       "    <tr style=\"text-align: right;\">\n",
       "      <th></th>\n",
       "      <th>Age</th>\n",
       "      <th>Gender</th>\n",
       "      <th>is_black</th>\n",
       "      <th>is_white</th>\n",
       "      <th>is_asian</th>\n",
       "      <th>is_latino</th>\n",
       "      <th>is_rest</th>\n",
       "      <th>is_happy</th>\n",
       "      <th>is_sad</th>\n",
       "      <th>is_calm</th>\n",
       "      <th>is_angry</th>\n",
       "      <th>is_fearful</th>\n",
       "      <th>is_surprised</th>\n",
       "      <th>is_disgusted</th>\n",
       "    </tr>\n",
       "  </thead>\n",
       "  <tbody>\n",
       "    <tr>\n",
       "      <td>0</td>\n",
       "      <td>25</td>\n",
       "      <td>2</td>\n",
       "      <td>0</td>\n",
       "      <td>1</td>\n",
       "      <td>0</td>\n",
       "      <td>0</td>\n",
       "      <td>0</td>\n",
       "      <td>0</td>\n",
       "      <td>0</td>\n",
       "      <td>0</td>\n",
       "      <td>1</td>\n",
       "      <td>0</td>\n",
       "      <td>0</td>\n",
       "      <td>0</td>\n",
       "    </tr>\n",
       "    <tr>\n",
       "      <td>1</td>\n",
       "      <td>25</td>\n",
       "      <td>2</td>\n",
       "      <td>0</td>\n",
       "      <td>1</td>\n",
       "      <td>0</td>\n",
       "      <td>0</td>\n",
       "      <td>0</td>\n",
       "      <td>1</td>\n",
       "      <td>0</td>\n",
       "      <td>0</td>\n",
       "      <td>0</td>\n",
       "      <td>0</td>\n",
       "      <td>0</td>\n",
       "      <td>0</td>\n",
       "    </tr>\n",
       "    <tr>\n",
       "      <td>2</td>\n",
       "      <td>25</td>\n",
       "      <td>2</td>\n",
       "      <td>0</td>\n",
       "      <td>1</td>\n",
       "      <td>0</td>\n",
       "      <td>0</td>\n",
       "      <td>0</td>\n",
       "      <td>1</td>\n",
       "      <td>0</td>\n",
       "      <td>0</td>\n",
       "      <td>0</td>\n",
       "      <td>0</td>\n",
       "      <td>0</td>\n",
       "      <td>0</td>\n",
       "    </tr>\n",
       "    <tr>\n",
       "      <td>3</td>\n",
       "      <td>25</td>\n",
       "      <td>2</td>\n",
       "      <td>0</td>\n",
       "      <td>1</td>\n",
       "      <td>0</td>\n",
       "      <td>0</td>\n",
       "      <td>0</td>\n",
       "      <td>0</td>\n",
       "      <td>0</td>\n",
       "      <td>1</td>\n",
       "      <td>0</td>\n",
       "      <td>0</td>\n",
       "      <td>0</td>\n",
       "      <td>0</td>\n",
       "    </tr>\n",
       "    <tr>\n",
       "      <td>4</td>\n",
       "      <td>25</td>\n",
       "      <td>2</td>\n",
       "      <td>0</td>\n",
       "      <td>1</td>\n",
       "      <td>0</td>\n",
       "      <td>0</td>\n",
       "      <td>0</td>\n",
       "      <td>0</td>\n",
       "      <td>0</td>\n",
       "      <td>0</td>\n",
       "      <td>0</td>\n",
       "      <td>1</td>\n",
       "      <td>0</td>\n",
       "      <td>0</td>\n",
       "    </tr>\n",
       "    <tr>\n",
       "      <td>...</td>\n",
       "      <td>...</td>\n",
       "      <td>...</td>\n",
       "      <td>...</td>\n",
       "      <td>...</td>\n",
       "      <td>...</td>\n",
       "      <td>...</td>\n",
       "      <td>...</td>\n",
       "      <td>...</td>\n",
       "      <td>...</td>\n",
       "      <td>...</td>\n",
       "      <td>...</td>\n",
       "      <td>...</td>\n",
       "      <td>...</td>\n",
       "      <td>...</td>\n",
       "    </tr>\n",
       "    <tr>\n",
       "      <td>2424</td>\n",
       "      <td>38</td>\n",
       "      <td>1</td>\n",
       "      <td>0</td>\n",
       "      <td>1</td>\n",
       "      <td>0</td>\n",
       "      <td>0</td>\n",
       "      <td>0</td>\n",
       "      <td>1</td>\n",
       "      <td>0</td>\n",
       "      <td>0</td>\n",
       "      <td>0</td>\n",
       "      <td>0</td>\n",
       "      <td>0</td>\n",
       "      <td>0</td>\n",
       "    </tr>\n",
       "    <tr>\n",
       "      <td>2425</td>\n",
       "      <td>27</td>\n",
       "      <td>2</td>\n",
       "      <td>0</td>\n",
       "      <td>0</td>\n",
       "      <td>1</td>\n",
       "      <td>0</td>\n",
       "      <td>0</td>\n",
       "      <td>1</td>\n",
       "      <td>0</td>\n",
       "      <td>0</td>\n",
       "      <td>0</td>\n",
       "      <td>0</td>\n",
       "      <td>0</td>\n",
       "      <td>0</td>\n",
       "    </tr>\n",
       "    <tr>\n",
       "      <td>2426</td>\n",
       "      <td>26</td>\n",
       "      <td>2</td>\n",
       "      <td>0</td>\n",
       "      <td>1</td>\n",
       "      <td>0</td>\n",
       "      <td>0</td>\n",
       "      <td>0</td>\n",
       "      <td>0</td>\n",
       "      <td>0</td>\n",
       "      <td>1</td>\n",
       "      <td>0</td>\n",
       "      <td>0</td>\n",
       "      <td>0</td>\n",
       "      <td>0</td>\n",
       "    </tr>\n",
       "    <tr>\n",
       "      <td>2427</td>\n",
       "      <td>26</td>\n",
       "      <td>1</td>\n",
       "      <td>0</td>\n",
       "      <td>0</td>\n",
       "      <td>1</td>\n",
       "      <td>0</td>\n",
       "      <td>0</td>\n",
       "      <td>0</td>\n",
       "      <td>0</td>\n",
       "      <td>1</td>\n",
       "      <td>0</td>\n",
       "      <td>0</td>\n",
       "      <td>0</td>\n",
       "      <td>0</td>\n",
       "    </tr>\n",
       "    <tr>\n",
       "      <td>2428</td>\n",
       "      <td>23</td>\n",
       "      <td>1</td>\n",
       "      <td>0</td>\n",
       "      <td>0</td>\n",
       "      <td>1</td>\n",
       "      <td>0</td>\n",
       "      <td>0</td>\n",
       "      <td>1</td>\n",
       "      <td>0</td>\n",
       "      <td>0</td>\n",
       "      <td>0</td>\n",
       "      <td>0</td>\n",
       "      <td>0</td>\n",
       "      <td>0</td>\n",
       "    </tr>\n",
       "  </tbody>\n",
       "</table>\n",
       "<p>2429 rows × 14 columns</p>\n",
       "</div>"
      ],
      "text/plain": [
       "      Age  Gender  is_black  is_white  is_asian  is_latino  is_rest  is_happy  \\\n",
       "0      25       2         0         1         0          0        0         0   \n",
       "1      25       2         0         1         0          0        0         1   \n",
       "2      25       2         0         1         0          0        0         1   \n",
       "3      25       2         0         1         0          0        0         0   \n",
       "4      25       2         0         1         0          0        0         0   \n",
       "...   ...     ...       ...       ...       ...        ...      ...       ...   \n",
       "2424   38       1         0         1         0          0        0         1   \n",
       "2425   27       2         0         0         1          0        0         1   \n",
       "2426   26       2         0         1         0          0        0         0   \n",
       "2427   26       1         0         0         1          0        0         0   \n",
       "2428   23       1         0         0         1          0        0         1   \n",
       "\n",
       "      is_sad  is_calm  is_angry  is_fearful  is_surprised  is_disgusted  \n",
       "0          0        0         1           0             0             0  \n",
       "1          0        0         0           0             0             0  \n",
       "2          0        0         0           0             0             0  \n",
       "3          0        1         0           0             0             0  \n",
       "4          0        0         0           1             0             0  \n",
       "...      ...      ...       ...         ...           ...           ...  \n",
       "2424       0        0         0           0             0             0  \n",
       "2425       0        0         0           0             0             0  \n",
       "2426       0        1         0           0             0             0  \n",
       "2427       0        1         0           0             0             0  \n",
       "2428       0        0         0           0             0             0  \n",
       "\n",
       "[2429 rows x 14 columns]"
      ]
     },
     "execution_count": 39,
     "metadata": {},
     "output_type": "execute_result"
    }
   ],
   "source": [
    "X"
   ]
  },
  {
   "cell_type": "code",
   "execution_count": 40,
   "metadata": {},
   "outputs": [],
   "source": [
    "T = X.copy()"
   ]
  },
  {
   "cell_type": "code",
   "execution_count": 112,
   "metadata": {
    "scrolled": true
   },
   "outputs": [
    {
     "data": {
      "text/plain": [
       "[('Age', -0.04944113800625767),\n",
       " ('Gender', 0.07653678417097275),\n",
       " ('is_black', 0.04676860433195728),\n",
       " ('is_white', 0.5415962350751914),\n",
       " ('is_asian', -0.2678822667982501),\n",
       " ('is_latino', 0.6574587652246395),\n",
       " ('is_rest', -0.1991949583917272),\n",
       " ('is_happy', -0.5277471177035697),\n",
       " ('is_sad', -0.22761129715622355),\n",
       " ('is_calm', -0.5320304026706317),\n",
       " ('is_angry', -0.2073868350281126),\n",
       " ('is_fearful', -0.3849184390191218),\n",
       " ('is_surprised', -0.23843845225882948),\n",
       " ('is_disgusted', -0.2581897825917533)]"
      ]
     },
     "execution_count": 112,
     "metadata": {},
     "output_type": "execute_result"
    }
   ],
   "source": [
    "list(zip(X.columns, lr_balanced.coef_[0]))"
   ]
  },
  {
   "cell_type": "markdown",
   "metadata": {},
   "source": [
    "# Age Misclassification Model  "
   ]
  },
  {
   "cell_type": "code",
   "execution_count": null,
   "metadata": {},
   "outputs": [],
   "source": []
  },
  {
   "cell_type": "code",
   "execution_count": 122,
   "metadata": {},
   "outputs": [],
   "source": [
    "data_no_ai = data[data[\"Origin\"] != \"AI\"]"
   ]
  },
  {
   "cell_type": "code",
   "execution_count": 134,
   "metadata": {},
   "outputs": [],
   "source": [
    "cl = age_misclassification(data[\"Age\"], data[\"clarifai_age\"]) == 1\n",
    "ms = age_misclassification(data[\"Age\"], data[\"microsoft_age\"]) == 1\n",
    "am = age_misclassification(data[\"Age\"], data[\"amazon_age_average\"]) == 1\n",
    "fa = age_misclassification(data[\"Age\"], data[\"face++_age\"]) == 1"
   ]
  },
  {
   "cell_type": "code",
   "execution_count": 136,
   "metadata": {},
   "outputs": [
    {
     "data": {
      "text/plain": [
       "1060"
      ]
     },
     "execution_count": 136,
     "metadata": {},
     "output_type": "execute_result"
    }
   ],
   "source": [
    "age_misclass = (cl | ms | am |fa)\n",
    "sum(age_misclass)"
   ]
  },
  {
   "cell_type": "code",
   "execution_count": 137,
   "metadata": {},
   "outputs": [
    {
     "data": {
      "text/plain": [
       "2677"
      ]
     },
     "execution_count": 137,
     "metadata": {},
     "output_type": "execute_result"
    }
   ],
   "source": [
    "len(data)"
   ]
  },
  {
   "cell_type": "code",
   "execution_count": 138,
   "metadata": {},
   "outputs": [],
   "source": [
    "X = data[[\"Race\", \"Age\", \"Gender\", \"Emotion\"]]\n",
    "y = [int(x) for x in age_misclass]"
   ]
  },
  {
   "cell_type": "code",
   "execution_count": 139,
   "metadata": {},
   "outputs": [],
   "source": [
    "# One-hot encoding\n",
    "X_eng = X.copy()\n",
    "\n",
    "is_black = [int(x) for x in X_eng[\"Race\"] == 2]\n",
    "is_white = [int(x) for x in X_eng[\"Race\"] == 4]\n",
    "is_asian = [int(x) for x in X_eng[\"Race\"] == 1]\n",
    "is_latino = [int(x) for x in X_eng[\"Race\"] == 3]\n",
    "is_rest = [int(x) for x in X_eng[\"Race\"] == 5]\n",
    "\n",
    "is_happy = [int(x) for x in X_eng[\"Emotion\"] == 5]\n",
    "is_sad = [int(x) for x in X_eng[\"Emotion\"] == 6]\n",
    "is_calm = [int(x) for x in X_eng[\"Emotion\"] == 2]\n",
    "is_angry = [int(x) for x in X_eng[\"Emotion\"] == 1]\n",
    "is_fearful = [int(x) for x in X_eng[\"Emotion\"] == 4]\n",
    "is_surprised = [int(x) for x in X_eng[\"Emotion\"] == 7]\n",
    "is_disgusted = [int(x) for x in X_eng[\"Emotion\"] == 3]\n",
    "\n",
    "X_eng[\"is_black\"] = is_black\n",
    "X_eng[\"is_white\"] = is_white\n",
    "X_eng[\"is_asian\"] = is_asian\n",
    "X_eng[\"is_latino\"] = is_latino\n",
    "X_eng[\"is_rest\"] = is_rest\n",
    "X_eng[\"is_happy\"] = is_happy\n",
    "X_eng[\"is_sad\"] = is_sad\n",
    "X_eng[\"is_calm\"] = is_calm\n",
    "X_eng[\"is_angry\"] = is_angry\n",
    "X_eng[\"is_fearful\"] = is_fearful\n",
    "X_eng[\"is_surprised\"] = is_surprised\n",
    "X_eng[\"is_disgusted\"] = is_disgusted\n",
    "\n",
    "X = X_eng.drop(columns=[\"Race\", \"Emotion\"])"
   ]
  },
  {
   "cell_type": "code",
   "execution_count": 140,
   "metadata": {},
   "outputs": [],
   "source": [
    "X_train, X_test, y_train, y_test = sklearn.model_selection.train_test_split(X, y, test_size=0.15)"
   ]
  },
  {
   "cell_type": "code",
   "execution_count": 141,
   "metadata": {},
   "outputs": [],
   "source": [
    "scaler = StandardScaler()\n",
    "X_train_scaled = scaler.fit_transform(X_train)\n",
    "X_test_scaled = scaler.transform(X_test)"
   ]
  },
  {
   "cell_type": "code",
   "execution_count": 142,
   "metadata": {},
   "outputs": [],
   "source": [
    "lr = LogisticRegression(solver='lbfgs') "
   ]
  },
  {
   "cell_type": "code",
   "execution_count": 143,
   "metadata": {},
   "outputs": [
    {
     "data": {
      "text/plain": [
       "0.6857142857142856"
      ]
     },
     "execution_count": 143,
     "metadata": {},
     "output_type": "execute_result"
    }
   ],
   "source": [
    "sum(cross_val_score(lr, X_train_scaled, y_train, cv=5))/5"
   ]
  },
  {
   "cell_type": "code",
   "execution_count": 144,
   "metadata": {},
   "outputs": [],
   "source": [
    "lr.fit(X_train_scaled, y_train)\n",
    "prediction = lr.predict(X_test_scaled)"
   ]
  },
  {
   "cell_type": "code",
   "execution_count": 145,
   "metadata": {},
   "outputs": [
    {
     "data": {
      "text/plain": [
       "142"
      ]
     },
     "execution_count": 145,
     "metadata": {},
     "output_type": "execute_result"
    }
   ],
   "source": [
    "sum(prediction)"
   ]
  },
  {
   "cell_type": "code",
   "execution_count": null,
   "metadata": {},
   "outputs": [],
   "source": []
  },
  {
   "cell_type": "code",
   "execution_count": null,
   "metadata": {},
   "outputs": [],
   "source": []
  },
  {
   "cell_type": "code",
   "execution_count": null,
   "metadata": {},
   "outputs": [],
   "source": []
  },
  {
   "cell_type": "code",
   "execution_count": 146,
   "metadata": {},
   "outputs": [],
   "source": [
    "is_actually_misclass = np.array(y_test) == 1\n",
    "is_not_misclass = np.array(y_test) == 0"
   ]
  },
  {
   "cell_type": "code",
   "execution_count": 147,
   "metadata": {},
   "outputs": [
    {
     "data": {
      "text/plain": [
       "0.5337423312883436"
      ]
     },
     "execution_count": 147,
     "metadata": {},
     "output_type": "execute_result"
    }
   ],
   "source": [
    "sum(prediction[is_actually_misclass] == 1)/sum(is_actually_misclass)"
   ]
  },
  {
   "cell_type": "code",
   "execution_count": 148,
   "metadata": {},
   "outputs": [
    {
     "data": {
      "text/plain": [
       "0.7698744769874477"
      ]
     },
     "execution_count": 148,
     "metadata": {},
     "output_type": "execute_result"
    }
   ],
   "source": [
    "sum(prediction[is_not_misclass] == 0)/sum(is_not_misclass)"
   ]
  },
  {
   "cell_type": "code",
   "execution_count": 149,
   "metadata": {},
   "outputs": [],
   "source": [
    "def balanced_accuracy(estimator, X, y):\n",
    "    \"\"\" Calculate the precision of the estimator predicting on inputs X with output labels y\"\"\"\n",
    "    \n",
    "    prediction = np.array(estimator.predict(X))\n",
    "    y = np.array(y)\n",
    "    \n",
    "    is_actually_misclass = y == 1\n",
    "    is_not_misclass = y == 0\n",
    "    \n",
    "    acc_for_1 = sum(prediction[is_actually_misclass] == 1)/sum(is_actually_misclass)\n",
    "    acc_for_0 = sum(prediction[is_not_misclass] == 0)/sum(is_not_misclass)\n",
    "    \n",
    "    return (acc_for_0 + acc_for_1) / 2"
   ]
  },
  {
   "cell_type": "code",
   "execution_count": 150,
   "metadata": {},
   "outputs": [],
   "source": [
    "lr = LogisticRegression(solver='lbfgs') "
   ]
  },
  {
   "cell_type": "code",
   "execution_count": 151,
   "metadata": {},
   "outputs": [
    {
     "data": {
      "text/plain": [
       "0.6491178287612585"
      ]
     },
     "execution_count": 151,
     "metadata": {},
     "output_type": "execute_result"
    }
   ],
   "source": [
    "sum(cross_val_score(lr, X_train_scaled, y_train, cv=5, scoring=balanced_accuracy))/5"
   ]
  },
  {
   "cell_type": "code",
   "execution_count": null,
   "metadata": {},
   "outputs": [],
   "source": []
  },
  {
   "cell_type": "code",
   "execution_count": 157,
   "metadata": {},
   "outputs": [],
   "source": [
    "res = []\n",
    "best_weight = None \n",
    "best_score = 0 \n",
    "for w in np.linspace(1,3,50): \n",
    "    lr_tune = LogisticRegression(solver='lbfgs', class_weight={0:1, 1:w})\n",
    "    cv_score = sum(cross_val_score(lr_tune, X_train_scaled, y_train, cv=5, scoring=balanced_accuracy))/5\n",
    "    if cv_score > best_score: \n",
    "        best_weight = w\n",
    "        best_score = cv_score\n",
    "    res.append(cv_score)"
   ]
  },
  {
   "cell_type": "code",
   "execution_count": 163,
   "metadata": {},
   "outputs": [
    {
     "data": {
      "image/png": "[encoded data removed]",
      "text/plain": [
       "<Figure size 576x432 with 1 Axes>"
      ]
     },
     "metadata": {
      "needs_background": "light"
     },
     "output_type": "display_data"
    }
   ],
   "source": [
    "plt.figure(figsize=(8,6))\n",
    "plt.plot(np.linspace(1,3,50), res)\n",
    "plt.show()"
   ]
  },
  {
   "cell_type": "code",
   "execution_count": 164,
   "metadata": {},
   "outputs": [
    {
     "name": "stdout",
     "output_type": "stream",
     "text": [
      "1.2448979591836735\n",
      "0.6697571905599595\n"
     ]
    }
   ],
   "source": [
    "print(best_weight)\n",
    "print(best_score)"
   ]
  },
  {
   "cell_type": "code",
   "execution_count": 165,
   "metadata": {},
   "outputs": [
    {
     "data": {
      "text/plain": [
       "0.6697571905599595"
      ]
     },
     "execution_count": 165,
     "metadata": {},
     "output_type": "execute_result"
    }
   ],
   "source": [
    "lr_balanced = LogisticRegression(solver='lbfgs', class_weight={0:1, 1:best_weight}) \n",
    "sum(cross_val_score(lr_balanced, X_train_scaled, y_train, cv=5, scoring=balanced_accuracy))/5"
   ]
  },
  {
   "cell_type": "code",
   "execution_count": 166,
   "metadata": {},
   "outputs": [],
   "source": [
    "lr_balanced.fit(X_train_scaled, y_train)\n",
    "balanced_prediction = lr_balanced.predict(X_test_scaled)"
   ]
  },
  {
   "cell_type": "code",
   "execution_count": 167,
   "metadata": {},
   "outputs": [
    {
     "name": "stdout",
     "output_type": "stream",
     "text": [
      "Accuracy for the 1-class\n",
      "0.6073619631901841\n",
      "\n",
      "Accuracy for the 0-class\n",
      "0.6945606694560669\n",
      "\n",
      "Balanced accuracy score: \n",
      "0.6509613163231256\n",
      "\n",
      "Weighted accuracy\n",
      "0.6592039800995024\n",
      "\n",
      "Recall\n",
      "0.6073619631901841\n",
      "\n",
      "Precision\n",
      "0.5755813953488372\n",
      "\n"
     ]
    }
   ],
   "source": [
    "print(\"Accuracy for the 1-class\")\n",
    "print(1 - sum(abs(balanced_prediction[np.array(y_test) == 1] - 1))/sum(np.array(y_test) == 1))\n",
    "print()\n",
    "print(\"Accuracy for the 0-class\")\n",
    "print(1 - sum(abs(balanced_prediction[np.array(y_test) == 0] - 0))/sum(np.array(y_test) == 0))\n",
    "print()\n",
    "print(\"Balanced accuracy score: \")\n",
    "print(balanced_accuracy(lr_balanced, X_test_scaled, y_test))\n",
    "# Same as (acc_0 + acc_1)/2\n",
    "print()\n",
    "print(\"Weighted accuracy\")\n",
    "print(1 - sum(abs(balanced_prediction - y_test))/len(y_test))\n",
    "print()\n",
    "print(\"Recall\")\n",
    "print(recall(lr_balanced, X_test_scaled, y_test))\n",
    "print()\n",
    "print(\"Precision\")\n",
    "print(precision(lr_balanced, X_test_scaled, y_test))\n",
    "print()"
   ]
  },
  {
   "cell_type": "code",
   "execution_count": 168,
   "metadata": {},
   "outputs": [
    {
     "name": "stdout",
     "output_type": "stream",
     "text": [
      "We can see the most important factors for gender misclassification in out model are gender itself and age.\n"
     ]
    },
    {
     "data": {
      "text/plain": [
       "array([[-0.45161782, -0.23740359,  0.22130731,  0.33499432,  0.03904479,\n",
       "         0.20104901, -0.17018871,  0.03500212,  0.08494222, -0.42541428,\n",
       "         0.08670561,  0.03499769, -0.22256569,  0.22666161]])"
      ]
     },
     "execution_count": 168,
     "metadata": {},
     "output_type": "execute_result"
    }
   ],
   "source": [
    "print(\"We can see the most important factors for gender misclassification in out model are gender itself and age.\")\n",
    "lr_balanced.coef_"
   ]
  },
  {
   "cell_type": "code",
   "execution_count": 169,
   "metadata": {},
   "outputs": [
    {
     "data": {
      "text/plain": [
       "array([-0.28606404])"
      ]
     },
     "execution_count": 169,
     "metadata": {},
     "output_type": "execute_result"
    }
   ],
   "source": [
    "lr_balanced.intercept_"
   ]
  },
  {
   "cell_type": "code",
   "execution_count": 170,
   "metadata": {},
   "outputs": [
    {
     "data": {
      "text/html": [
       "<div>\n",
       "<style scoped>\n",
       "    .dataframe tbody tr th:only-of-type {\n",
       "        vertical-align: middle;\n",
       "    }\n",
       "\n",
       "    .dataframe tbody tr th {\n",
       "        vertical-align: top;\n",
       "    }\n",
       "\n",
       "    .dataframe thead th {\n",
       "        text-align: right;\n",
       "    }\n",
       "</style>\n",
       "<table border=\"1\" class=\"dataframe\">\n",
       "  <thead>\n",
       "    <tr style=\"text-align: right;\">\n",
       "      <th></th>\n",
       "      <th>Age</th>\n",
       "      <th>Gender</th>\n",
       "      <th>is_black</th>\n",
       "      <th>is_white</th>\n",
       "      <th>is_asian</th>\n",
       "      <th>is_latino</th>\n",
       "      <th>is_rest</th>\n",
       "      <th>is_happy</th>\n",
       "      <th>is_sad</th>\n",
       "      <th>is_calm</th>\n",
       "      <th>is_angry</th>\n",
       "      <th>is_fearful</th>\n",
       "      <th>is_surprised</th>\n",
       "      <th>is_disgusted</th>\n",
       "    </tr>\n",
       "  </thead>\n",
       "  <tbody>\n",
       "    <tr>\n",
       "      <td>0</td>\n",
       "      <td>25</td>\n",
       "      <td>2</td>\n",
       "      <td>0</td>\n",
       "      <td>1</td>\n",
       "      <td>0</td>\n",
       "      <td>0</td>\n",
       "      <td>0</td>\n",
       "      <td>0</td>\n",
       "      <td>0</td>\n",
       "      <td>0</td>\n",
       "      <td>1</td>\n",
       "      <td>0</td>\n",
       "      <td>0</td>\n",
       "      <td>0</td>\n",
       "    </tr>\n",
       "    <tr>\n",
       "      <td>1</td>\n",
       "      <td>25</td>\n",
       "      <td>2</td>\n",
       "      <td>0</td>\n",
       "      <td>1</td>\n",
       "      <td>0</td>\n",
       "      <td>0</td>\n",
       "      <td>0</td>\n",
       "      <td>1</td>\n",
       "      <td>0</td>\n",
       "      <td>0</td>\n",
       "      <td>0</td>\n",
       "      <td>0</td>\n",
       "      <td>0</td>\n",
       "      <td>0</td>\n",
       "    </tr>\n",
       "    <tr>\n",
       "      <td>2</td>\n",
       "      <td>25</td>\n",
       "      <td>2</td>\n",
       "      <td>0</td>\n",
       "      <td>1</td>\n",
       "      <td>0</td>\n",
       "      <td>0</td>\n",
       "      <td>0</td>\n",
       "      <td>1</td>\n",
       "      <td>0</td>\n",
       "      <td>0</td>\n",
       "      <td>0</td>\n",
       "      <td>0</td>\n",
       "      <td>0</td>\n",
       "      <td>0</td>\n",
       "    </tr>\n",
       "    <tr>\n",
       "      <td>3</td>\n",
       "      <td>25</td>\n",
       "      <td>2</td>\n",
       "      <td>0</td>\n",
       "      <td>1</td>\n",
       "      <td>0</td>\n",
       "      <td>0</td>\n",
       "      <td>0</td>\n",
       "      <td>0</td>\n",
       "      <td>0</td>\n",
       "      <td>1</td>\n",
       "      <td>0</td>\n",
       "      <td>0</td>\n",
       "      <td>0</td>\n",
       "      <td>0</td>\n",
       "    </tr>\n",
       "    <tr>\n",
       "      <td>4</td>\n",
       "      <td>25</td>\n",
       "      <td>2</td>\n",
       "      <td>0</td>\n",
       "      <td>1</td>\n",
       "      <td>0</td>\n",
       "      <td>0</td>\n",
       "      <td>0</td>\n",
       "      <td>0</td>\n",
       "      <td>0</td>\n",
       "      <td>0</td>\n",
       "      <td>0</td>\n",
       "      <td>1</td>\n",
       "      <td>0</td>\n",
       "      <td>0</td>\n",
       "    </tr>\n",
       "    <tr>\n",
       "      <td>...</td>\n",
       "      <td>...</td>\n",
       "      <td>...</td>\n",
       "      <td>...</td>\n",
       "      <td>...</td>\n",
       "      <td>...</td>\n",
       "      <td>...</td>\n",
       "      <td>...</td>\n",
       "      <td>...</td>\n",
       "      <td>...</td>\n",
       "      <td>...</td>\n",
       "      <td>...</td>\n",
       "      <td>...</td>\n",
       "      <td>...</td>\n",
       "      <td>...</td>\n",
       "    </tr>\n",
       "    <tr>\n",
       "      <td>2672</td>\n",
       "      <td>25</td>\n",
       "      <td>1</td>\n",
       "      <td>0</td>\n",
       "      <td>1</td>\n",
       "      <td>0</td>\n",
       "      <td>0</td>\n",
       "      <td>0</td>\n",
       "      <td>0</td>\n",
       "      <td>0</td>\n",
       "      <td>0</td>\n",
       "      <td>0</td>\n",
       "      <td>0</td>\n",
       "      <td>0</td>\n",
       "      <td>0</td>\n",
       "    </tr>\n",
       "    <tr>\n",
       "      <td>2673</td>\n",
       "      <td>25</td>\n",
       "      <td>1</td>\n",
       "      <td>0</td>\n",
       "      <td>1</td>\n",
       "      <td>0</td>\n",
       "      <td>0</td>\n",
       "      <td>0</td>\n",
       "      <td>0</td>\n",
       "      <td>0</td>\n",
       "      <td>0</td>\n",
       "      <td>0</td>\n",
       "      <td>0</td>\n",
       "      <td>0</td>\n",
       "      <td>0</td>\n",
       "    </tr>\n",
       "    <tr>\n",
       "      <td>2674</td>\n",
       "      <td>35</td>\n",
       "      <td>1</td>\n",
       "      <td>0</td>\n",
       "      <td>1</td>\n",
       "      <td>0</td>\n",
       "      <td>0</td>\n",
       "      <td>0</td>\n",
       "      <td>0</td>\n",
       "      <td>0</td>\n",
       "      <td>0</td>\n",
       "      <td>0</td>\n",
       "      <td>0</td>\n",
       "      <td>0</td>\n",
       "      <td>0</td>\n",
       "    </tr>\n",
       "    <tr>\n",
       "      <td>2675</td>\n",
       "      <td>25</td>\n",
       "      <td>1</td>\n",
       "      <td>0</td>\n",
       "      <td>1</td>\n",
       "      <td>0</td>\n",
       "      <td>0</td>\n",
       "      <td>0</td>\n",
       "      <td>0</td>\n",
       "      <td>0</td>\n",
       "      <td>0</td>\n",
       "      <td>0</td>\n",
       "      <td>0</td>\n",
       "      <td>0</td>\n",
       "      <td>0</td>\n",
       "    </tr>\n",
       "    <tr>\n",
       "      <td>2676</td>\n",
       "      <td>25</td>\n",
       "      <td>2</td>\n",
       "      <td>0</td>\n",
       "      <td>1</td>\n",
       "      <td>0</td>\n",
       "      <td>0</td>\n",
       "      <td>0</td>\n",
       "      <td>0</td>\n",
       "      <td>0</td>\n",
       "      <td>0</td>\n",
       "      <td>0</td>\n",
       "      <td>0</td>\n",
       "      <td>0</td>\n",
       "      <td>0</td>\n",
       "    </tr>\n",
       "  </tbody>\n",
       "</table>\n",
       "<p>2677 rows × 14 columns</p>\n",
       "</div>"
      ],
      "text/plain": [
       "      Age  Gender  is_black  is_white  is_asian  is_latino  is_rest  is_happy  \\\n",
       "0      25       2         0         1         0          0        0         0   \n",
       "1      25       2         0         1         0          0        0         1   \n",
       "2      25       2         0         1         0          0        0         1   \n",
       "3      25       2         0         1         0          0        0         0   \n",
       "4      25       2         0         1         0          0        0         0   \n",
       "...   ...     ...       ...       ...       ...        ...      ...       ...   \n",
       "2672   25       1         0         1         0          0        0         0   \n",
       "2673   25       1         0         1         0          0        0         0   \n",
       "2674   35       1         0         1         0          0        0         0   \n",
       "2675   25       1         0         1         0          0        0         0   \n",
       "2676   25       2         0         1         0          0        0         0   \n",
       "\n",
       "      is_sad  is_calm  is_angry  is_fearful  is_surprised  is_disgusted  \n",
       "0          0        0         1           0             0             0  \n",
       "1          0        0         0           0             0             0  \n",
       "2          0        0         0           0             0             0  \n",
       "3          0        1         0           0             0             0  \n",
       "4          0        0         0           1             0             0  \n",
       "...      ...      ...       ...         ...           ...           ...  \n",
       "2672       0        0         0           0             0             0  \n",
       "2673       0        0         0           0             0             0  \n",
       "2674       0        0         0           0             0             0  \n",
       "2675       0        0         0           0             0             0  \n",
       "2676       0        0         0           0             0             0  \n",
       "\n",
       "[2677 rows x 14 columns]"
      ]
     },
     "execution_count": 170,
     "metadata": {},
     "output_type": "execute_result"
    }
   ],
   "source": [
    "X"
   ]
  },
  {
   "cell_type": "code",
   "execution_count": 171,
   "metadata": {},
   "outputs": [],
   "source": [
    "T = X.copy()"
   ]
  },
  {
   "cell_type": "code",
   "execution_count": 172,
   "metadata": {
    "scrolled": true
   },
   "outputs": [
    {
     "data": {
      "text/plain": [
       "[('Age', -0.4516178236576414),\n",
       " ('Gender', -0.23740359351347085),\n",
       " ('is_black', 0.22130731174907228),\n",
       " ('is_white', 0.33499432300546983),\n",
       " ('is_asian', 0.039044792406769994),\n",
       " ('is_latino', 0.2010490095282199),\n",
       " ('is_rest', -0.1701887103799458),\n",
       " ('is_happy', 0.03500212464087725),\n",
       " ('is_sad', 0.08494222273801627),\n",
       " ('is_calm', -0.4254142757587494),\n",
       " ('is_angry', 0.08670561039463187),\n",
       " ('is_fearful', 0.034997685904193256),\n",
       " ('is_surprised', -0.22256568660158516),\n",
       " ('is_disgusted', 0.22666161012061228)]"
      ]
     },
     "execution_count": 172,
     "metadata": {},
     "output_type": "execute_result"
    }
   ],
   "source": [
    "list(zip(X.columns, lr_balanced.coef_[0]))"
   ]
  },
  {
   "cell_type": "code",
   "execution_count": null,
   "metadata": {},
   "outputs": [],
   "source": []
  },
  {
   "cell_type": "code",
   "execution_count": null,
   "metadata": {},
   "outputs": [],
   "source": []
  },
  {
   "cell_type": "markdown",
   "metadata": {},
   "source": [
    "# Emotion Misclassification"
   ]
  },
  {
   "cell_type": "code",
   "execution_count": 11,
   "metadata": {},
   "outputs": [],
   "source": [
    "data_no_ai = data[data[\"Origin\"] != \"AI\"]"
   ]
  },
  {
   "cell_type": "code",
   "execution_count": 15,
   "metadata": {},
   "outputs": [],
   "source": [
    "ms = emotion_misclassification(data_no_ai[\"Emotion\"], data_no_ai[\"microsoft_emotion\"]) == 1\n",
    "am = emotion_misclassification(data_no_ai[\"Emotion\"], data_no_ai[\"amazon_emotion\"]) == 1\n",
    "fa = emotion_misclassification(data_no_ai[\"Emotion\"], data_no_ai[\"face++_emotion\"]) == 1"
   ]
  },
  {
   "cell_type": "code",
   "execution_count": 18,
   "metadata": {},
   "outputs": [],
   "source": [
    "emotion_misclass = (ms | am | fa)"
   ]
  },
  {
   "cell_type": "code",
   "execution_count": 19,
   "metadata": {},
   "outputs": [],
   "source": [
    "X = data_no_ai[[\"Race\", \"Age\", \"Gender\", \"Emotion\"]]\n",
    "y = [int(x) for x in emotion_misclass]"
   ]
  },
  {
   "cell_type": "code",
   "execution_count": 20,
   "metadata": {},
   "outputs": [],
   "source": [
    "# One-hot encoding\n",
    "X_eng = X.copy()\n",
    "\n",
    "is_black = [int(x) for x in X_eng[\"Race\"] == 2]\n",
    "is_white = [int(x) for x in X_eng[\"Race\"] == 4]\n",
    "is_asian = [int(x) for x in X_eng[\"Race\"] == 1]\n",
    "is_latino = [int(x) for x in X_eng[\"Race\"] == 3]\n",
    "is_rest = [int(x) for x in X_eng[\"Race\"] == 5]\n",
    "\n",
    "is_happy = [int(x) for x in X_eng[\"Emotion\"] == 5]\n",
    "is_sad = [int(x) for x in X_eng[\"Emotion\"] == 6]\n",
    "is_calm = [int(x) for x in X_eng[\"Emotion\"] == 2]\n",
    "is_angry = [int(x) for x in X_eng[\"Emotion\"] == 1]\n",
    "is_fearful = [int(x) for x in X_eng[\"Emotion\"] == 4]\n",
    "is_surprised = [int(x) for x in X_eng[\"Emotion\"] == 7]\n",
    "is_disgusted = [int(x) for x in X_eng[\"Emotion\"] == 3]\n",
    "\n",
    "X_eng[\"is_black\"] = is_black\n",
    "X_eng[\"is_white\"] = is_white\n",
    "X_eng[\"is_asian\"] = is_asian\n",
    "X_eng[\"is_latino\"] = is_latino\n",
    "X_eng[\"is_rest\"] = is_rest\n",
    "X_eng[\"is_happy\"] = is_happy\n",
    "X_eng[\"is_sad\"] = is_sad\n",
    "X_eng[\"is_calm\"] = is_calm\n",
    "X_eng[\"is_angry\"] = is_angry\n",
    "X_eng[\"is_fearful\"] = is_fearful\n",
    "X_eng[\"is_surprised\"] = is_surprised\n",
    "X_eng[\"is_disgusted\"] = is_disgusted\n",
    "\n",
    "X = X_eng.drop(columns=[\"Race\", \"Emotion\"])"
   ]
  },
  {
   "cell_type": "code",
   "execution_count": 21,
   "metadata": {},
   "outputs": [],
   "source": [
    "X_train, X_test, y_train, y_test = sklearn.model_selection.train_test_split(X, y, test_size=0.15)"
   ]
  },
  {
   "cell_type": "code",
   "execution_count": 22,
   "metadata": {},
   "outputs": [],
   "source": [
    "scaler = StandardScaler()\n",
    "X_train_scaled = scaler.fit_transform(X_train)\n",
    "X_test_scaled = scaler.transform(X_test)"
   ]
  },
  {
   "cell_type": "code",
   "execution_count": 23,
   "metadata": {},
   "outputs": [],
   "source": [
    "lr = LogisticRegression(solver='lbfgs') "
   ]
  },
  {
   "cell_type": "code",
   "execution_count": 24,
   "metadata": {},
   "outputs": [
    {
     "data": {
      "text/plain": [
       "0.7732762876419286"
      ]
     },
     "execution_count": 24,
     "metadata": {},
     "output_type": "execute_result"
    }
   ],
   "source": [
    "sum(cross_val_score(lr, X_train_scaled, y_train, cv=5))/5"
   ]
  },
  {
   "cell_type": "code",
   "execution_count": 25,
   "metadata": {},
   "outputs": [],
   "source": [
    "lr.fit(X_train_scaled, y_train)\n",
    "prediction = lr.predict(X_test_scaled)"
   ]
  },
  {
   "cell_type": "code",
   "execution_count": 31,
   "metadata": {},
   "outputs": [],
   "source": [
    "def balanced_accuracy(estimator, X, y):\n",
    "    \"\"\" Calculate the precision of the estimator predicting on inputs X with output labels y\"\"\"\n",
    "    \n",
    "    prediction = np.array(estimator.predict(X))\n",
    "    y = np.array(y)\n",
    "    \n",
    "    is_actually_misclass = y == 1\n",
    "    is_not_misclass = y == 0\n",
    "    \n",
    "    acc_for_1 = sum(prediction[is_actually_misclass] == 1)/sum(is_actually_misclass)\n",
    "    acc_for_0 = sum(prediction[is_not_misclass] == 0)/sum(is_not_misclass)\n",
    "    \n",
    "    return (acc_for_0 + acc_for_1) / 2"
   ]
  },
  {
   "cell_type": "code",
   "execution_count": 32,
   "metadata": {},
   "outputs": [],
   "source": [
    "lr = LogisticRegression(solver='lbfgs') "
   ]
  },
  {
   "cell_type": "code",
   "execution_count": 33,
   "metadata": {},
   "outputs": [
    {
     "data": {
      "text/plain": [
       "0.7289621110755091"
      ]
     },
     "execution_count": 33,
     "metadata": {},
     "output_type": "execute_result"
    }
   ],
   "source": [
    "sum(cross_val_score(lr, X_train_scaled, y_train, cv=5, scoring=balanced_accuracy))/5"
   ]
  },
  {
   "cell_type": "code",
   "execution_count": null,
   "metadata": {},
   "outputs": [],
   "source": []
  },
  {
   "cell_type": "code",
   "execution_count": 34,
   "metadata": {},
   "outputs": [],
   "source": [
    "res = []\n",
    "best_weight = None \n",
    "best_score = 0 \n",
    "for w in np.linspace(1,30,50): \n",
    "    lr_tune = LogisticRegression(solver='lbfgs', class_weight={0:1, 1:w})\n",
    "    cv_score = sum(cross_val_score(lr_tune, X_train_scaled, y_train, cv=5, scoring=balanced_accuracy))/5\n",
    "    if cv_score > best_score: \n",
    "        best_weight = w\n",
    "        best_score = cv_score\n",
    "    res.append(cv_score)"
   ]
  },
  {
   "cell_type": "code",
   "execution_count": 35,
   "metadata": {},
   "outputs": [
    {
     "data": {
      "image/png": "[encoded data removed]",
      "text/plain": [
       "<Figure size 720x576 with 1 Axes>"
      ]
     },
     "metadata": {
      "needs_background": "light"
     },
     "output_type": "display_data"
    }
   ],
   "source": [
    "plt.figure(figsize=(10,8))\n",
    "plt.plot(np.linspace(1,30,50), res)\n",
    "plt.xlabel(\"class_weight value\")\n",
    "plt.ylabel(\"Balanced accuracy\")\n",
    "#plt.savefig('training.svg', format='svg')\n",
    "plt.show()"
   ]
  },
  {
   "cell_type": "code",
   "execution_count": 36,
   "metadata": {},
   "outputs": [
    {
     "name": "stdout",
     "output_type": "stream",
     "text": [
      "1.5918367346938775\n",
      "0.729429326801919\n"
     ]
    }
   ],
   "source": [
    "print(best_weight)\n",
    "print(best_score)"
   ]
  },
  {
   "cell_type": "code",
   "execution_count": 37,
   "metadata": {},
   "outputs": [
    {
     "data": {
      "text/plain": [
       "0.729429326801919"
      ]
     },
     "execution_count": 37,
     "metadata": {},
     "output_type": "execute_result"
    }
   ],
   "source": [
    "lr_balanced = LogisticRegression(solver='lbfgs', class_weight={0:1, 1:best_weight}) \n",
    "sum(cross_val_score(lr_balanced, X_train_scaled, y_train, cv=5, scoring=balanced_accuracy))/5"
   ]
  },
  {
   "cell_type": "code",
   "execution_count": 38,
   "metadata": {},
   "outputs": [],
   "source": [
    "lr_balanced.fit(X_train_scaled, y_train)\n",
    "balanced_prediction = lr_balanced.predict(X_test_scaled)"
   ]
  },
  {
   "cell_type": "code",
   "execution_count": 39,
   "metadata": {},
   "outputs": [
    {
     "name": "stdout",
     "output_type": "stream",
     "text": [
      "Accuracy for the 1-class\n",
      "0.5683453237410072\n",
      "\n",
      "Accuracy for the 0-class\n",
      "0.9026548672566371\n",
      "\n",
      "Balanced accuracy score: \n",
      "0.7355000954988222\n",
      "\n",
      "Weighted accuracy\n",
      "0.7753424657534247\n",
      "\n",
      "Recall\n",
      "0.5683453237410072\n",
      "\n",
      "Precision\n",
      "0.7821782178217822\n",
      "\n"
     ]
    }
   ],
   "source": [
    "print(\"Accuracy for the 1-class\")\n",
    "print(1 - sum(abs(balanced_prediction[np.array(y_test) == 1] - 1))/sum(np.array(y_test) == 1))\n",
    "print()\n",
    "print(\"Accuracy for the 0-class\")\n",
    "print(1 - sum(abs(balanced_prediction[np.array(y_test) == 0] - 0))/sum(np.array(y_test) == 0))\n",
    "print()\n",
    "print(\"Balanced accuracy score: \")\n",
    "print(balanced_accuracy(lr_balanced, X_test_scaled, y_test))\n",
    "# Same as (acc_0 + acc_1)/2\n",
    "print()\n",
    "print(\"Weighted accuracy\")\n",
    "print(1 - sum(abs(balanced_prediction - y_test))/len(y_test))\n",
    "print()\n",
    "print(\"Recall\")\n",
    "print(recall(lr_balanced, X_test_scaled, y_test))\n",
    "print()\n",
    "print(\"Precision\")\n",
    "print(precision(lr_balanced, X_test_scaled, y_test))\n",
    "print()"
   ]
  }
 ],
 "metadata": {
  "kernelspec": {
   "display_name": "Python 3",
   "language": "python",
   "name": "python3"
  },
  "language_info": {
   "codemirror_mode": {
    "name": "ipython",
    "version": 3
   },
   "file_extension": ".py",
   "mimetype": "text/x-python",
   "name": "python",
   "nbconvert_exporter": "python",
   "pygments_lexer": "ipython3",
   "version": "3.7.4"
  }
 },
 "nbformat": 4,
 "nbformat_minor": 2
}
