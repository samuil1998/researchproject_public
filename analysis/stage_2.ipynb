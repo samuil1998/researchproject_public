{
 "cells": [
  {
   "cell_type": "code",
   "execution_count": 1,
   "metadata": {},
   "outputs": [],
   "source": [
    "import numpy as np\n",
    "import matplotlib.pyplot as plt\n",
    "import pandas as pd\n",
    "import seaborn as sns\n",
    "# Statistical Libraries (for correlation testing)\n",
    "from sklearn.metrics import confusion_matrix\n",
    "from scipy.stats import spearmanr\n",
    "from scipy.stats import chisquare\n",
    "from scipy.stats import chi2_contingency\n",
    "import matplotlib\n",
    "\n",
    "matplotlib.rc('font', **{'size'   : 16})"
   ]
  },
  {
   "cell_type": "code",
   "execution_count": 2,
   "metadata": {},
   "outputs": [],
   "source": [
    "DATA = \"../preprocessing/standardized_data.csv\"\n",
    "data = pd.read_csv(DATA,header=0)"
   ]
  },
  {
   "cell_type": "code",
   "execution_count": 3,
   "metadata": {},
   "outputs": [
    {
     "data": {
      "text/plain": [
       "248"
      ]
     },
     "execution_count": 3,
     "metadata": {},
     "output_type": "execute_result"
    }
   ],
   "source": [
    "len(data[data[\"Origin\"] == \"AI\"])"
   ]
  },
  {
   "cell_type": "markdown",
   "metadata": {},
   "source": [
    "### Reusing our definitions of misclassification defined in `stage_1`: "
   ]
  },
  {
   "cell_type": "code",
   "execution_count": 4,
   "metadata": {},
   "outputs": [],
   "source": [
    "def gender_misclassification(gt, prediction): \n",
    "    \"\"\"Given a vector of ground truth values `gt` and a vector of prediction values `gt`, \n",
    "    return a vector containing 1 if there has been gender misclassification and 0 otherwise. \"\"\"\n",
    "    n = len(gt)\n",
    "    assert(len(prediction) == n)\n",
    "    result = np.zeros(n)\n",
    "    for i in range(n): \n",
    "        # If the ground truth or the result from the API is \"unsure\", no misclassification\n",
    "        if gt[i] == 0 or prediction[i] == 0: \n",
    "            result[i] = 0\n",
    "        # If the ground truth does not match the prediction, set the misclassification bit to one. \n",
    "        elif gt[i] != prediction[i]: \n",
    "            result[i] = 1\n",
    "        else: \n",
    "            result[i] = 0\n",
    "    return result"
   ]
  },
  {
   "cell_type": "code",
   "execution_count": 5,
   "metadata": {},
   "outputs": [],
   "source": [
    "def race_misclassification(gt, prediction): \n",
    "    \"\"\"Given a vector of ground truth values `gt` and a vector of prediction values `gt`, \n",
    "    return a vector containing 1 if there has been race misclassification and 0 otherwise. \"\"\"\n",
    "    n = len(gt)\n",
    "    assert(len(prediction) == n)\n",
    "    result = np.zeros(n)\n",
    "    for i in range(n): \n",
    "        # If the subjects is within a cornercase group or the prediction has outputed \"not sure\", then \n",
    "        # no misclassification\n",
    "        if gt[i] in [0,5] or prediction[i] == 0 : \n",
    "            result[i] = 0\n",
    "        # If the ground truth does not match the prediction, set the misclassification bit to one. \n",
    "        elif gt[i] != prediction[i]: \n",
    "            result[i] = 1\n",
    "        else: \n",
    "            result[i] = 0\n",
    "    return result"
   ]
  },
  {
   "cell_type": "code",
   "execution_count": 6,
   "metadata": {},
   "outputs": [],
   "source": [
    "def age_misclassification(gt, prediction): \n",
    "    \"\"\"Given a vector of ground truth values `gt` and a vector of prediction values `gt`, \n",
    "    return a vector containing 1 if there has been age misclassification and 0 otherwise. \"\"\"\n",
    "    n = len(gt)\n",
    "    assert(len(prediction) == n)\n",
    "    result = np.zeros(n)\n",
    "    \n",
    "    for i in range(n): \n",
    "        tolerance = 0 \n",
    "        # If the subject is a child, tolerance interval equals 5\n",
    "        if gt[i] <= 10: \n",
    "            tolerance = 5\n",
    "        # For teenagers and pre-young-adults, tolerance is 10\n",
    "        elif gt[i] <= 25: \n",
    "            tolerance = 10\n",
    "        # For the rest of the population, tolerance is 15\n",
    "        else: \n",
    "            tolerance = 15\n",
    "            \n",
    "        if gt[i] - tolerance <= prediction[i] <= gt[i] + tolerance: \n",
    "            result[i] = 0\n",
    "        else: \n",
    "            result[i] = 1\n",
    "    return result"
   ]
  },
  {
   "cell_type": "code",
   "execution_count": 7,
   "metadata": {},
   "outputs": [],
   "source": [
    "def emotion_misclassification(gt, prediction): \n",
    "    \"\"\"Given a vector of ground truth values `gt` and a vector of prediction values `gt`, \n",
    "    return a vector containing 1 if there has been emotion misclassification and 0 otherwise. \"\"\"\n",
    "    n = len(gt)\n",
    "    assert(len(prediction) == n)\n",
    "    result = np.zeros(n)\n",
    "    \n",
    "    for i in range(n): \n",
    "        # If dealing with one of the undefined emotions, set the misclassification bit to 0\n",
    "        if gt[i] <= 0 or prediction[i] <= 0: \n",
    "            result[i] = 0 \n",
    "        # If emotions don't match, set the misclassification bit to 1\n",
    "        elif gt[i] != prediction[i]: \n",
    "            result[i] = 1\n",
    "        else: \n",
    "            result[i] = 0\n",
    "    return result"
   ]
  },
  {
   "cell_type": "markdown",
   "metadata": {},
   "source": [
    "# Gender Misclassification"
   ]
  },
  {
   "cell_type": "markdown",
   "metadata": {},
   "source": [
    "### 1. Effect of Gender"
   ]
  },
  {
   "cell_type": "code",
   "execution_count": 8,
   "metadata": {},
   "outputs": [],
   "source": [
    "gender_apis = {\n",
    "    \"Clarifai\": \"clarifai_gender\", \n",
    "    \"Microsoft\": \"microsoft_gender\",\n",
    "    \"Amazon\": \"amazon_gender\",\n",
    "    \"Face++\": \"face++_gender\"\n",
    "}"
   ]
  },
  {
   "cell_type": "code",
   "execution_count": 9,
   "metadata": {
    "scrolled": true
   },
   "outputs": [
    {
     "name": "stdout",
     "output_type": "stream",
     "text": [
      "==================================================\n",
      "Clarifai\n",
      "males: 48 (3.639120545868082%)\n",
      "females: 286 (21.075902726602802%)\n",
      "==================================================\n",
      "Microsoft\n",
      "males: 38 (2.8809704321455647%)\n",
      "females: 9 (0.6632277081798084%)\n",
      "==================================================\n",
      "Amazon\n",
      "males: 66 (5.003790750568613%)\n",
      "females: 33 (2.4318349299926307%)\n",
      "==================================================\n",
      "Face++\n",
      "males: 38 (2.8809704321455647%)\n",
      "females: 130 (9.579955784819454%)\n",
      "==================================================\n"
     ]
    }
   ],
   "source": [
    "print(\"=\"*50)\n",
    "for api in gender_apis: \n",
    "    is_misclass = gender_misclassification(data[\"Gender\"], data[gender_apis[api]]) == 1\n",
    "    is_male = data[\"Gender\"] == 2\n",
    "    is_female = data[\"Gender\"] == 1\n",
    "    print(api)\n",
    "    print(\"males: {} ({}%)\".format(\n",
    "        len(data[is_misclass & is_male]),\n",
    "        100 * len(data[is_misclass & is_male])/len(data[is_male])\n",
    "    ))\n",
    "    \n",
    "    print(\"females: {} ({}%)\".format(\n",
    "        len(data[is_misclass & is_female]),\n",
    "        100 * len(data[is_misclass & is_female])/len(data[is_female])\n",
    "    ))\n",
    "    print(\"=\"*50)"
   ]
  },
  {
   "cell_type": "code",
   "execution_count": 10,
   "metadata": {},
   "outputs": [],
   "source": [
    "data_no_ai = data[data[\"Origin\"] != \"AI\"]"
   ]
  },
  {
   "cell_type": "code",
   "execution_count": 11,
   "metadata": {},
   "outputs": [
    {
     "name": "stdout",
     "output_type": "stream",
     "text": [
      "==================================================\n",
      "Clarifai\n",
      "males: 14 (1.1695906432748537%)\n",
      "females: 271 (22.014622258326565%)\n",
      "==================================================\n",
      "Microsoft\n",
      "males: 5 (0.4177109440267335%)\n",
      "females: 4 (0.3249390739236393%)\n",
      "==================================================\n",
      "Amazon\n",
      "males: 28 (2.3391812865497075%)\n",
      "females: 32 (2.5995125913891144%)\n",
      "==================================================\n",
      "Face++\n",
      "males: 17 (1.4202172096908938%)\n",
      "females: 116 (9.42323314378554%)\n",
      "==================================================\n"
     ]
    }
   ],
   "source": [
    "print(\"=\"*50)\n",
    "for api in gender_apis: \n",
    "    is_misclass = gender_misclassification(data_no_ai[\"Gender\"], data_no_ai[gender_apis[api]]) == 1\n",
    "    is_male = data_no_ai[\"Gender\"] == 2\n",
    "    is_female = data_no_ai[\"Gender\"] == 1\n",
    "    print(api)\n",
    "    print(\"males: {} ({}%)\".format(\n",
    "        len(data_no_ai[is_misclass & is_male]),\n",
    "        100 * len(data_no_ai[is_misclass & is_male])/len(data_no_ai[is_male])\n",
    "    ))\n",
    "    \n",
    "    print(\"females: {} ({}%)\".format(\n",
    "        len(data_no_ai[is_misclass & is_female]),\n",
    "        100 * len(data_no_ai[is_misclass & is_female])/len(data_no_ai[is_female])\n",
    "    ))\n",
    "    print(\"=\"*50)"
   ]
  },
  {
   "cell_type": "code",
   "execution_count": 12,
   "metadata": {},
   "outputs": [
    {
     "name": "stdout",
     "output_type": "stream",
     "text": [
      "==================================================\n",
      "Clarifai\n",
      "correlation -0.32320080632444215\n",
      "p-value 3.582871846434472e-60\n",
      "==================================================\n",
      "Microsoft\n",
      "correlation 0.007676179989829112\n",
      "p-value 0.7053336576567459\n",
      "==================================================\n",
      "Amazon\n",
      "correlation -0.008245737087072755\n",
      "p-value 0.6846045189870289\n",
      "==================================================\n",
      "Face++\n",
      "correlation -0.17549295494861444\n",
      "p-value 2.9752377716133014e-18\n",
      "==================================================\n"
     ]
    }
   ],
   "source": [
    "print(\"=\"*50)\n",
    "for api in gender_apis: \n",
    "    print(api)\n",
    "    cor, p = spearmanr(data_no_ai[\"Gender\"], \n",
    "          gender_misclassification(data_no_ai[\"Gender\"], data_no_ai[gender_apis[api]])\n",
    "         )\n",
    "    print('correlation', cor)\n",
    "    print('p-value', p)\n",
    "    print(\"=\"*50)"
   ]
  },
  {
   "cell_type": "markdown",
   "metadata": {},
   "source": [
    "### 2. Effect of Race"
   ]
  },
  {
   "cell_type": "code",
   "execution_count": 13,
   "metadata": {},
   "outputs": [
    {
     "name": "stdout",
     "output_type": "stream",
     "text": [
      "==================================================\n",
      "Clarifai\n",
      "correlation -0.03751030419162399\n",
      "p-value 0.0645459512478181\n",
      "==================================================\n",
      "Microsoft\n",
      "correlation -0.031231637045107962\n",
      "p-value 0.12384562392823842\n",
      "==================================================\n",
      "Amazon\n",
      "correlation -0.02732763884464401\n",
      "p-value 0.17817428064470528\n",
      "==================================================\n",
      "Face++\n",
      "correlation -0.07172324252354226\n",
      "p-value 0.00040376768180038695\n",
      "==================================================\n"
     ]
    }
   ],
   "source": [
    "# Statistical test with rough input \n",
    "print(\"=\"*50)\n",
    "for api in gender_apis: \n",
    "    print(api)\n",
    "    cor, p = spearmanr(data_no_ai[\"Race\"], \n",
    "          gender_misclassification(data_no_ai[\"Gender\"], data_no_ai[gender_apis[api]])\n",
    "         )\n",
    "    print('correlation', cor)\n",
    "    print('p-value', p)\n",
    "    print(\"=\"*50)"
   ]
  },
  {
   "cell_type": "code",
   "execution_count": 14,
   "metadata": {},
   "outputs": [
    {
     "name": "stdout",
     "output_type": "stream",
     "text": [
      "==================================================\n",
      "Clarifai\n",
      "correlation 0.05682741095600097\n",
      "p-value 0.005085699456036527\n",
      "==================================================\n",
      "Microsoft\n",
      "correlation -0.008778186556210122\n",
      "p-value 0.6654379550212612\n",
      "==================================================\n",
      "Amazon\n",
      "correlation 0.05133514039541517\n",
      "p-value 0.011392843975996042\n",
      "==================================================\n",
      "Face++\n",
      "correlation 0.15108199957985202\n",
      "p-value 7.142205912841026e-14\n",
      "==================================================\n"
     ]
    }
   ],
   "source": [
    "# Statistical test with blacks vs non-blacks\n",
    "print(\"=\"*50)\n",
    "for api in gender_apis: \n",
    "    print(api)\n",
    "    is_black = [int(x) for x in data_no_ai[\"Race\"] == 2]\n",
    "    cor, p = spearmanr(is_black, \n",
    "          gender_misclassification(data_no_ai[\"Gender\"], data_no_ai[gender_apis[api]])\n",
    "         )\n",
    "    print('correlation', cor)\n",
    "    print('p-value', p)\n",
    "    print(\"=\"*50)"
   ]
  },
  {
   "cell_type": "code",
   "execution_count": 15,
   "metadata": {},
   "outputs": [
    {
     "name": "stdout",
     "output_type": "stream",
     "text": [
      "==================================================\n",
      "Clarifai\n",
      "blacks: 102 (14.613180515759312%)\n",
      "non-blacks: 183 (10.571923743500866%)\n",
      "==================================================\n",
      "Microsoft\n",
      "blacks: 2 (0.28653295128939826%)\n",
      "non-blacks: 7 (0.4043905257076834%)\n",
      "==================================================\n",
      "Amazon\n",
      "blacks: 26 (3.7249283667621778%)\n",
      "non-blacks: 34 (1.9641825534373194%)\n",
      "==================================================\n",
      "Face++\n",
      "blacks: 76 (10.888252148997134%)\n",
      "non-blacks: 57 (3.292894280762565%)\n",
      "==================================================\n"
     ]
    }
   ],
   "source": [
    "print(\"=\"*50)\n",
    "for api in gender_apis: \n",
    "    is_misclass = gender_misclassification(data_no_ai[\"Gender\"], data_no_ai[gender_apis[api]]) == 1\n",
    "    is_black = data_no_ai[\"Race\"] == 2\n",
    "    is_notblack = data_no_ai[\"Race\"] != 2\n",
    "    is_white = data_no_ai[\"Race\"] == 4\n",
    "    print(api)\n",
    "    print(\"blacks: {} ({}%)\".format(\n",
    "        len(data_no_ai[is_misclass & is_black]),\n",
    "        100 * len(data_no_ai[is_misclass & is_black])/len(data_no_ai[is_black])\n",
    "    ))\n",
    "    \n",
    "    print(\"non-blacks: {} ({}%)\".format(\n",
    "        len(data_no_ai[is_misclass & is_notblack]),\n",
    "        100 * len(data_no_ai[is_misclass & is_notblack])/len(data_no_ai[is_notblack])\n",
    "    ))\n",
    "    \n",
    "    print(\"=\"*50)"
   ]
  },
  {
   "cell_type": "markdown",
   "metadata": {},
   "source": [
    "### 3. Effect of Age"
   ]
  },
  {
   "cell_type": "code",
   "execution_count": 16,
   "metadata": {},
   "outputs": [
    {
     "data": {
      "text/plain": [
       "0       False\n",
       "1       False\n",
       "2       False\n",
       "3       False\n",
       "4       False\n",
       "        ...  \n",
       "2424    False\n",
       "2425    False\n",
       "2426    False\n",
       "2427    False\n",
       "2428    False\n",
       "Name: Age, Length: 2429, dtype: bool"
      ]
     },
     "execution_count": 16,
     "metadata": {},
     "output_type": "execute_result"
    }
   ],
   "source": [
    "data_no_ai[\"Age\"] < 5"
   ]
  },
  {
   "cell_type": "code",
   "execution_count": 17,
   "metadata": {},
   "outputs": [],
   "source": [
    "def categorize_age(age): \n",
    "    if age < 10: \n",
    "        return 0 \n",
    "    if age < 20: \n",
    "        return 1\n",
    "    if age < 30: \n",
    "        return 2\n",
    "    if age < 45: \n",
    "        return 3\n",
    "    return 4"
   ]
  },
  {
   "cell_type": "code",
   "execution_count": 18,
   "metadata": {},
   "outputs": [],
   "source": [
    "discrete_age = np.array([categorize_age(age) for age in data_no_ai[\"Age\"]])"
   ]
  },
  {
   "cell_type": "code",
   "execution_count": 19,
   "metadata": {
    "scrolled": true
   },
   "outputs": [
    {
     "name": "stdout",
     "output_type": "stream",
     "text": [
      "==================================================\n",
      "Clarifai\n",
      "correlation -0.09276498307202045\n",
      "p-value 4.66232805334056e-06\n",
      "==================================================\n",
      "Microsoft\n",
      "correlation -0.041477617016742796\n",
      "p-value 0.04094890340017603\n",
      "==================================================\n",
      "Amazon\n",
      "correlation -0.08314390925557953\n",
      "p-value 4.0829675991489596e-05\n",
      "==================================================\n",
      "Face++\n",
      "correlation -0.09134381626144682\n",
      "p-value 6.513973946658159e-06\n",
      "==================================================\n"
     ]
    }
   ],
   "source": [
    "print(\"=\"*50)\n",
    "for api in gender_apis: \n",
    "    print(api)\n",
    "    cor, p = spearmanr(discrete_age, \n",
    "          gender_misclassification(data_no_ai[\"Gender\"], data_no_ai[gender_apis[api]])\n",
    "         )\n",
    "    print('correlation', cor)\n",
    "    print('p-value', p)\n",
    "    print(\"=\"*50)"
   ]
  },
  {
   "cell_type": "code",
   "execution_count": 20,
   "metadata": {},
   "outputs": [
    {
     "name": "stdout",
     "output_type": "stream",
     "text": [
      "==================================================\n",
      "Clarifai\n",
      "children: 2 (50.0%)\n",
      "teen: 9 (15.517241379310345%)\n",
      "young: 223 (13.433734939759036%)\n",
      "adult: 49 (7.313432835820896%)\n",
      "old: 2 (5.405405405405405%)\n",
      "==================================================\n",
      "Microsoft\n",
      "children: 1 (25.0%)\n",
      "teen: 1 (1.7241379310344827%)\n",
      "young: 6 (0.3614457831325301%)\n",
      "adult: 1 (0.14925373134328357%)\n",
      "old: 0 (0.0%)\n",
      "==================================================\n",
      "Amazon\n",
      "children: 3 (75.0%)\n",
      "teen: 6 (10.344827586206897%)\n",
      "young: 43 (2.5903614457831323%)\n",
      "adult: 8 (1.1940298507462686%)\n",
      "old: 0 (0.0%)\n",
      "==================================================\n",
      "Face++\n",
      "children: 2 (50.0%)\n",
      "teen: 9 (15.517241379310345%)\n",
      "young: 102 (6.144578313253012%)\n",
      "adult: 19 (2.8358208955223883%)\n",
      "old: 1 (2.7027027027027026%)\n",
      "==================================================\n"
     ]
    }
   ],
   "source": [
    "print(\"=\"*50)\n",
    "for api in gender_apis: \n",
    "    is_misclass = gender_misclassification(data_no_ai[\"Gender\"], data_no_ai[gender_apis[api]]) == 1\n",
    "    is_child = discrete_age == 0\n",
    "    is_teen = discrete_age == 1\n",
    "    is_young = discrete_age == 2\n",
    "    is_adult = discrete_age == 3\n",
    "    is_old = discrete_age == 4\n",
    "    print(api)\n",
    "    print(\"children: {} ({}%)\".format(\n",
    "        len(data_no_ai[is_misclass & is_child]),\n",
    "        100 * len(data_no_ai[is_misclass & is_child])/len(data_no_ai[is_child])\n",
    "    ))\n",
    "    \n",
    "    print(\"teen: {} ({}%)\".format(\n",
    "        len(data_no_ai[is_misclass & is_teen]),\n",
    "        100 * len(data_no_ai[is_misclass & is_teen])/len(data_no_ai[is_teen])\n",
    "    ))\n",
    "    print(\"young: {} ({}%)\".format(\n",
    "        len(data_no_ai[is_misclass & is_young]),\n",
    "        100 * len(data_no_ai[is_misclass & is_young])/len(data_no_ai[is_young])\n",
    "    ))\n",
    "    print(\"adult: {} ({}%)\".format(\n",
    "        len(data_no_ai[is_misclass & is_adult]),\n",
    "        100 * len(data_no_ai[is_misclass & is_adult])/len(data_no_ai[is_adult])\n",
    "    ))\n",
    "    print(\"old: {} ({}%)\".format(\n",
    "        len(data_no_ai[is_misclass & is_old]),\n",
    "        100 * len(data_no_ai[is_misclass & is_old])/len(data_no_ai[is_old])\n",
    "    ))\n",
    "    \n",
    "    print(\"=\"*50)"
   ]
  },
  {
   "cell_type": "code",
   "execution_count": 21,
   "metadata": {
    "scrolled": false
   },
   "outputs": [
    {
     "data": {
      "image/png": "[encoded data removed]",
      "text/plain": [
       "<Figure size 864x720 with 1 Axes>"
      ]
     },
     "metadata": {
      "needs_background": "light"
     },
     "output_type": "display_data"
    }
   ],
   "source": [
    "plt.figure(figsize=(12,10)) \n",
    "is_misclass = [int(x) for x in gender_misclassification(data_no_ai[\"Gender\"], data_no_ai[gender_apis['Clarifai']])]\n",
    "plt.scatter([x + np.random.normal(0, 0.10) for x in discrete_age], \n",
    "            [x + np.clip(np.random.normal(0, 0.1), -0.3, 0.3) for x in is_misclass], s = 20)\n",
    "plt.xticks([0,1,2,3,4], [\"[0,10)\", \"[10,20)\", \"[20,30)\", \"[30,45)\", \"45+\"])\n",
    "plt.yticks([0,1], [\"Correct Classification\", \"Misclassification\"])\n",
    "plt.show()"
   ]
  },
  {
   "cell_type": "markdown",
   "metadata": {},
   "source": [
    "# 2. Race Misclassification \n",
    "Again, only dealing with Clarifai"
   ]
  },
  {
   "cell_type": "markdown",
   "metadata": {},
   "source": [
    "### 2.1. Effect of Gender"
   ]
  },
  {
   "cell_type": "code",
   "execution_count": 22,
   "metadata": {},
   "outputs": [
    {
     "name": "stdout",
     "output_type": "stream",
     "text": [
      "AI included\n",
      "==================================================\n",
      "Clarifai\n",
      "males: 214 (16.224412433661865%)\n",
      "females: 170 (12.527634487840825%)\n",
      "==================================================\n"
     ]
    }
   ],
   "source": [
    "print(\"AI included\")\n",
    "print(\"=\"*50)\n",
    "is_misclass = race_misclassification(data[\"Race\"], data[\"clarifai_race\"]) == 1\n",
    "is_male = data[\"Gender\"] == 2\n",
    "is_female = data[\"Gender\"] == 1\n",
    "print(\"Clarifai\")\n",
    "print(\"males: {} ({}%)\".format(\n",
    "    len(data[is_misclass & is_male]),\n",
    "    100 * len(data[is_misclass & is_male])/len(data[is_male])\n",
    "))\n",
    "\n",
    "print(\"females: {} ({}%)\".format(\n",
    "    len(data[is_misclass & is_female]),\n",
    "    100 * len(data[is_misclass & is_female])/len(data[is_female])\n",
    "))\n",
    "print(\"=\"*50)"
   ]
  },
  {
   "cell_type": "code",
   "execution_count": 23,
   "metadata": {},
   "outputs": [
    {
     "name": "stdout",
     "output_type": "stream",
     "text": [
      "AI excluded\n",
      "==================================================\n",
      "Clarifai\n",
      "males: 177 (14.786967418546366%)\n",
      "females: 142 (11.535337124289196%)\n",
      "==================================================\n"
     ]
    }
   ],
   "source": [
    "print(\"AI excluded\")\n",
    "print(\"=\"*50)\n",
    "is_misclass = race_misclassification(data_no_ai[\"Race\"], data_no_ai[\"clarifai_race\"]) == 1\n",
    "is_male = data_no_ai[\"Gender\"] == 2\n",
    "is_female = data_no_ai[\"Gender\"] == 1\n",
    "print(\"Clarifai\")\n",
    "print(\"males: {} ({}%)\".format(\n",
    "    len(data_no_ai[is_misclass & is_male]),\n",
    "    100 * len(data_no_ai[is_misclass & is_male])/len(data_no_ai[is_male])\n",
    "))\n",
    "\n",
    "print(\"females: {} ({}%)\".format(\n",
    "    len(data_no_ai[is_misclass & is_female]),\n",
    "    100 * len(data_no_ai[is_misclass & is_female])/len(data_no_ai[is_female])\n",
    "))\n",
    "print(\"=\"*50)"
   ]
  },
  {
   "cell_type": "code",
   "execution_count": 24,
   "metadata": {},
   "outputs": [
    {
     "data": {
      "text/plain": [
       "1.2588235294117647"
      ]
     },
     "execution_count": 24,
     "metadata": {},
     "output_type": "execute_result"
    }
   ],
   "source": [
    "214/170"
   ]
  },
  {
   "cell_type": "code",
   "execution_count": 25,
   "metadata": {},
   "outputs": [
    {
     "data": {
      "text/plain": [
       "1.2464788732394365"
      ]
     },
     "execution_count": 25,
     "metadata": {},
     "output_type": "execute_result"
    }
   ],
   "source": [
    "177/142"
   ]
  },
  {
   "cell_type": "code",
   "execution_count": 26,
   "metadata": {},
   "outputs": [
    {
     "name": "stdout",
     "output_type": "stream",
     "text": [
      "Test with AI\n",
      "==================================================\n",
      "Clarifai\n",
      "correlation 0.05392132032581477\n",
      "p-value 0.0052610127485911455\n",
      "==================================================\n"
     ]
    }
   ],
   "source": [
    "print(\"Test with AI\")\n",
    "print(\"=\"*50)\n",
    "print(\"Clarifai\")\n",
    "cor, p = spearmanr(data[\"Gender\"], \n",
    "      gender_misclassification(data[\"Race\"], data[\"clarifai_race\"])\n",
    "     )\n",
    "print('correlation', cor)\n",
    "print('p-value', p)\n",
    "print(\"=\"*50)"
   ]
  },
  {
   "cell_type": "code",
   "execution_count": 27,
   "metadata": {},
   "outputs": [
    {
     "name": "stdout",
     "output_type": "stream",
     "text": [
      "Test without AI\n",
      "==================================================\n",
      "Clarifai\n",
      "correlation 0.04947669125276731\n",
      "p-value 0.014740546428049964\n",
      "==================================================\n"
     ]
    }
   ],
   "source": [
    "print(\"Test without AI\")\n",
    "print(\"=\"*50)\n",
    "print(\"Clarifai\")\n",
    "cor, p = spearmanr(data_no_ai[\"Gender\"], \n",
    "      gender_misclassification(data_no_ai[\"Race\"], data_no_ai[\"clarifai_race\"])\n",
    "     )\n",
    "print('correlation', cor)\n",
    "print('p-value', p)\n",
    "print(\"=\"*50)"
   ]
  },
  {
   "cell_type": "markdown",
   "metadata": {},
   "source": [
    "### 2.2. Effect of Race"
   ]
  },
  {
   "cell_type": "code",
   "execution_count": 28,
   "metadata": {},
   "outputs": [
    {
     "name": "stdout",
     "output_type": "stream",
     "text": [
      "AI excluded\n",
      "==================================================\n",
      "Clarifai\n",
      "black: 47 (6.73352435530086%)\n",
      "white: 187 (16.176470588235293%)\n",
      "asian: 13 (3.0952380952380953%)\n",
      "latino: 72 (47.682119205298015%)\n",
      "==================================================\n"
     ]
    }
   ],
   "source": [
    "print(\"AI excluded\")\n",
    "print(\"=\"*50)\n",
    "is_misclass = race_misclassification(data_no_ai[\"Race\"], data_no_ai[\"clarifai_race\"]) == 1\n",
    "is_black = data_no_ai[\"Race\"] == 2\n",
    "is_white = data_no_ai[\"Race\"] == 4\n",
    "is_asian = data_no_ai[\"Race\"] == 1\n",
    "is_latino = data_no_ai[\"Race\"] == 3\n",
    "\n",
    "print(\"Clarifai\")\n",
    "print(\"black: {} ({}%)\".format(\n",
    "    len(data_no_ai[is_misclass & is_black]),\n",
    "    100 * len(data_no_ai[is_misclass & is_black])/len(data_no_ai[is_black])\n",
    "))\n",
    "\n",
    "print(\"white: {} ({}%)\".format(\n",
    "    len(data_no_ai[is_misclass & is_white]),\n",
    "    100 * len(data_no_ai[is_misclass & is_white])/len(data_no_ai[is_white])\n",
    "))\n",
    "\n",
    "print(\"asian: {} ({}%)\".format(\n",
    "    len(data_no_ai[is_misclass & is_asian]),\n",
    "    100 * len(data_no_ai[is_misclass & is_asian])/len(data_no_ai[is_asian])\n",
    "))\n",
    "print(\"latino: {} ({}%)\".format(\n",
    "    len(data_no_ai[is_misclass & is_latino]),\n",
    "    100 * len(data_no_ai[is_misclass & is_latino])/len(data_no_ai[is_latino])\n",
    "))\n",
    "\n",
    "print(\"=\"*50)"
   ]
  },
  {
   "cell_type": "code",
   "execution_count": 29,
   "metadata": {},
   "outputs": [
    {
     "name": "stdout",
     "output_type": "stream",
     "text": [
      "AI included\n",
      "==================================================\n",
      "Clarifai\n",
      "black: 56 (7.5675675675675675%)\n",
      "white: 201 (16.003184713375795%)\n",
      "asian: 22 (4.721030042918455%)\n",
      "latino: 105 (49.76303317535545%)\n",
      "==================================================\n"
     ]
    }
   ],
   "source": [
    "print(\"AI included\")\n",
    "print(\"=\"*50)\n",
    "is_misclass = race_misclassification(data[\"Race\"], data[\"clarifai_race\"]) == 1\n",
    "is_black = data[\"Race\"] == 2\n",
    "is_white = data[\"Race\"] == 4\n",
    "is_asian = data[\"Race\"] == 1\n",
    "is_latino = data[\"Race\"] == 3\n",
    "\n",
    "print(\"Clarifai\")\n",
    "print(\"black: {} ({}%)\".format(\n",
    "    len(data[is_misclass & is_black]),\n",
    "    100 * len(data[is_misclass & is_black])/len(data[is_black])\n",
    "))\n",
    "\n",
    "print(\"white: {} ({}%)\".format(\n",
    "    len(data[is_misclass & is_white]),\n",
    "    100 * len(data[is_misclass & is_white])/len(data[is_white])\n",
    "))\n",
    "\n",
    "print(\"asian: {} ({}%)\".format(\n",
    "    len(data[is_misclass & is_asian]),\n",
    "    100 * len(data[is_misclass & is_asian])/len(data[is_asian])\n",
    "))\n",
    "print(\"latino: {} ({}%)\".format(\n",
    "    len(data[is_misclass & is_latino]),\n",
    "    100 * len(data[is_misclass & is_latino])/len(data[is_latino])\n",
    "))\n",
    "\n",
    "print(\"=\"*50)"
   ]
  },
  {
   "cell_type": "code",
   "execution_count": 30,
   "metadata": {},
   "outputs": [
    {
     "name": "stdout",
     "output_type": "stream",
     "text": [
      "Testing white_or_latino vs the rest\n",
      "==================================================\n",
      "Clarifai\n",
      "correlation 0.20046627082160162\n",
      "p-value 1.1407357744849482e-25\n",
      "==================================================\n"
     ]
    }
   ],
   "source": [
    "white_or_latino = [x in [3,4] for x in data[\"Race\"]]\n",
    "\n",
    "print(\"Testing white_or_latino vs the rest\")\n",
    "print(\"=\"*50)\n",
    "print(\"Clarifai\")\n",
    "cor, p = spearmanr(white_or_latino, \n",
    "      gender_misclassification(data[\"Race\"], data[\"clarifai_race\"])\n",
    "     )\n",
    "print('correlation', cor)\n",
    "print('p-value', p)\n",
    "print(\"=\"*50)"
   ]
  },
  {
   "cell_type": "code",
   "execution_count": 31,
   "metadata": {},
   "outputs": [],
   "source": [
    "is_misclass = race_misclassification(data[\"Race\"], data[\"clarifai_race\"]) == 1\n",
    "classified_as_black = data[\"clarifai_race\"] == 1\n",
    "classified_as_white = data[\"clarifai_race\"] == 4"
   ]
  },
  {
   "cell_type": "code",
   "execution_count": 32,
   "metadata": {},
   "outputs": [
    {
     "data": {
      "text/plain": [
       "59"
      ]
     },
     "execution_count": 32,
     "metadata": {},
     "output_type": "execute_result"
    }
   ],
   "source": [
    "len(data[is_misclass & is_latino & classified_as_black][[\"Race\", \"clarifai_race\"]])"
   ]
  },
  {
   "cell_type": "code",
   "execution_count": 33,
   "metadata": {},
   "outputs": [
    {
     "data": {
      "text/plain": [
       "27"
      ]
     },
     "execution_count": 33,
     "metadata": {},
     "output_type": "execute_result"
    }
   ],
   "source": [
    "len(data[is_misclass & is_latino & classified_as_white][[\"Race\", \"clarifai_race\"]])"
   ]
  },
  {
   "cell_type": "code",
   "execution_count": 34,
   "metadata": {},
   "outputs": [
    {
     "data": {
      "text/plain": [
       "59"
      ]
     },
     "execution_count": 34,
     "metadata": {},
     "output_type": "execute_result"
    }
   ],
   "source": [
    "len(data[is_misclass & is_latino & classified_as_black][[\"Race\", \"clarifai_race\"]])"
   ]
  },
  {
   "cell_type": "code",
   "execution_count": null,
   "metadata": {},
   "outputs": [],
   "source": []
  },
  {
   "cell_type": "code",
   "execution_count": null,
   "metadata": {},
   "outputs": [],
   "source": []
  },
  {
   "cell_type": "code",
   "execution_count": 35,
   "metadata": {},
   "outputs": [
    {
     "data": {
      "image/png": "[encoded data removed]",
      "text/plain": [
       "<Figure size 432x288 with 1 Axes>"
      ]
     },
     "metadata": {
      "needs_background": "light"
     },
     "output_type": "display_data"
    }
   ],
   "source": [
    "plt.hist(data[is_misclass & is_latino][\"clarifai_race\"], bins=5)\n",
    "plt.show()"
   ]
  },
  {
   "cell_type": "code",
   "execution_count": 36,
   "metadata": {},
   "outputs": [
    {
     "data": {
      "text/plain": [
       "{1, 2, 4, 5}"
      ]
     },
     "execution_count": 36,
     "metadata": {},
     "output_type": "execute_result"
    }
   ],
   "source": [
    "set(data[is_misclass & is_latino][\"clarifai_race\"])"
   ]
  },
  {
   "cell_type": "code",
   "execution_count": 37,
   "metadata": {},
   "outputs": [
    {
     "data": {
      "text/plain": [
       "<matplotlib.axes._subplots.AxesSubplot at 0x109c17e50>"
      ]
     },
     "execution_count": 37,
     "metadata": {},
     "output_type": "execute_result"
    },
    {
     "data": {
      "image/png": "[encoded data removed]",
      "text/plain": [
       "<Figure size 432x288 with 1 Axes>"
      ]
     },
     "metadata": {
      "needs_background": "light"
     },
     "output_type": "display_data"
    }
   ],
   "source": [
    "sns.distplot(data[is_misclass & is_latino][\"clarifai_race\"], kde_kws={'bw':1}, kde=False)"
   ]
  },
  {
   "cell_type": "code",
   "execution_count": 38,
   "metadata": {
    "scrolled": false
   },
   "outputs": [
    {
     "data": {
      "image/png": "[encoded data removed]",
      "text/plain": [
       "<Figure size 432x432 with 1 Axes>"
      ]
     },
     "metadata": {
      "needs_background": "light"
     },
     "output_type": "display_data"
    }
   ],
   "source": [
    "p = sns.catplot(x=\"clarifai_race\", data=data[is_misclass & is_latino][[\"clarifai_race\"]], \n",
    "                kind=\"count\", height=6, aspect=1, color=\"royalblue\", label=\"huge\");\n",
    "p.set_xticklabels([\"Asian\", \"Black\", \"White\", \"Middle\\nEastern\"])\n",
    "p.set(xlabel='Race', ylabel='Number of misclassifications.')\n",
    "p.savefig(\"lat_misclass.svg\", format=\"svg\")"
   ]
  },
  {
   "cell_type": "code",
   "execution_count": 39,
   "metadata": {},
   "outputs": [
    {
     "data": {
      "image/png": "[encoded data removed]",
      "text/plain": [
       "<Figure size 432x432 with 1 Axes>"
      ]
     },
     "metadata": {
      "needs_background": "light"
     },
     "output_type": "display_data"
    }
   ],
   "source": [
    "p = sns.catplot(x=\"clarifai_race\", data=data[is_misclass & is_white][[\"clarifai_race\"]], \n",
    "                kind=\"count\", height=6, aspect=1, color=\"royalblue\", label=\"huge\");\n",
    "p.set_xticklabels([\"Asian\", \"Black\", \"Latino\", \"Middle\\nEastern\"])\n",
    "p.set(xlabel='Race', ylabel='Number of misclassifications.')\n",
    "p.savefig(\"white_misclass.svg\", format=\"svg\")"
   ]
  },
  {
   "cell_type": "markdown",
   "metadata": {},
   "source": [
    "### 2.3. Effect of Age"
   ]
  },
  {
   "cell_type": "code",
   "execution_count": 40,
   "metadata": {},
   "outputs": [],
   "source": [
    "discrete_age = np.array([categorize_age(age) for age in data[\"Age\"]])"
   ]
  },
  {
   "cell_type": "code",
   "execution_count": 41,
   "metadata": {},
   "outputs": [
    {
     "name": "stdout",
     "output_type": "stream",
     "text": [
      "==================================================\n",
      "Clarifai\n",
      "children: 5 (20.833333333333332%)\n",
      "teen: 25 (20.833333333333332%)\n",
      "young: 247 (14.195402298850574%)\n",
      "adult: 100 (13.58695652173913%)\n",
      "old: 7 (12.280701754385966%)\n",
      "==================================================\n"
     ]
    }
   ],
   "source": [
    "print(\"=\"*50)\n",
    "is_misclass = race_misclassification(data[\"Race\"], data[\"clarifai_race\"]) == 1\n",
    "is_child = discrete_age == 0\n",
    "is_teen = discrete_age == 1\n",
    "is_young = discrete_age == 2\n",
    "is_adult = discrete_age == 3\n",
    "is_old = discrete_age == 4\n",
    "print(\"Clarifai\")\n",
    "print(\"children: {} ({}%)\".format(\n",
    "    len(data[is_misclass & is_child]),\n",
    "    100 * len(data[is_misclass & is_child])/len(data[is_child])\n",
    "))\n",
    "\n",
    "print(\"teen: {} ({}%)\".format(\n",
    "    len(data[is_misclass & is_teen]),\n",
    "    100 * len(data[is_misclass & is_teen])/len(data[is_teen])\n",
    "))\n",
    "print(\"young: {} ({}%)\".format(\n",
    "    len(data[is_misclass & is_young]),\n",
    "    100 * len(data[is_misclass & is_young])/len(data[is_young])\n",
    "))\n",
    "print(\"adult: {} ({}%)\".format(\n",
    "    len(data[is_misclass & is_adult]),\n",
    "    100 * len(data[is_misclass & is_adult])/len(data[is_adult])\n",
    "))\n",
    "print(\"old: {} ({}%)\".format(\n",
    "    len(data[is_misclass & is_old]),\n",
    "    100 * len(data[is_misclass & is_old])/len(data[is_old])\n",
    "))\n",
    "\n",
    "print(\"=\"*50)"
   ]
  },
  {
   "cell_type": "code",
   "execution_count": 42,
   "metadata": {
    "scrolled": true
   },
   "outputs": [
    {
     "name": "stdout",
     "output_type": "stream",
     "text": [
      "==================================================\n",
      "Clarifai\n",
      "correlation -0.02895977693790358\n",
      "p-value 0.13413701804181064\n",
      "==================================================\n"
     ]
    }
   ],
   "source": [
    "print(\"=\"*50)\n",
    "print(\"Clarifai\")\n",
    "cor, p = spearmanr(discrete_age, \n",
    "      race_misclassification(data[\"Race\"], data[\"clarifai_race\"])\n",
    "     )\n",
    "print('correlation', cor)\n",
    "print('p-value', p)\n",
    "print(\"=\"*50)"
   ]
  },
  {
   "cell_type": "code",
   "execution_count": 43,
   "metadata": {
    "scrolled": false
   },
   "outputs": [
    {
     "data": {
      "image/png": "[encoded data removed]",
      "text/plain": [
       "<Figure size 1080x720 with 1 Axes>"
      ]
     },
     "metadata": {
      "needs_background": "light"
     },
     "output_type": "display_data"
    }
   ],
   "source": [
    "plt.figure(figsize=(15,10)) \n",
    "is_misclass = [int(x) for x in race_misclassification(data[\"Race\"], data[\"clarifai_race\"])]\n",
    "plt.scatter([x + np.random.normal(0, 0.10) for x in discrete_age], \n",
    "            [x + np.clip(np.random.normal(0, 0.10), -0.3, 0.3) for x in is_misclass])\n",
    "plt.show()"
   ]
  },
  {
   "cell_type": "markdown",
   "metadata": {},
   "source": [
    "# 3. Age Misclassification"
   ]
  },
  {
   "cell_type": "code",
   "execution_count": 44,
   "metadata": {},
   "outputs": [],
   "source": [
    "age_apis = {\n",
    "    \"Clarifai\": \"clarifai_age\", \n",
    "    \"Microsoft\": \"microsoft_age\",\n",
    "    \"Amazon\": \"amazon_age_average\",\n",
    "    \"Face++\": \"face++_age\"\n",
    "}"
   ]
  },
  {
   "cell_type": "markdown",
   "metadata": {},
   "source": [
    "## 3.1. Effect of Gender"
   ]
  },
  {
   "cell_type": "code",
   "execution_count": 45,
   "metadata": {
    "scrolled": true
   },
   "outputs": [
    {
     "name": "stdout",
     "output_type": "stream",
     "text": [
      "==================================================\n",
      "Clarifai\n",
      "males: 265 (20.0909780136467%)\n",
      "females: 396 (29.18201915991157%)\n",
      "==================================================\n",
      "Microsoft\n",
      "males: 29 (2.1986353297952994%)\n",
      "females: 30 (2.210759027266028%)\n",
      "==================================================\n",
      "Amazon\n",
      "males: 97 (7.354056103108415%)\n",
      "females: 102 (7.516580692704495%)\n",
      "==================================================\n",
      "Face++\n",
      "males: 277 (21.00075815011372%)\n",
      "females: 335 (24.68680913780398%)\n",
      "==================================================\n"
     ]
    }
   ],
   "source": [
    "# Note that in this case gender_apis == age_apis --> all the APIs return both\n",
    "print(\"=\"*50)\n",
    "for api in age_apis: \n",
    "    is_misclass = age_misclassification(data[\"Age\"], data[age_apis[api]]) == 1\n",
    "    is_male = data[\"Gender\"] == 2\n",
    "    is_female = data[\"Gender\"] == 1\n",
    "    print(api)\n",
    "    print(\"males: {} ({}%)\".format(\n",
    "        len(data[is_misclass & is_male]),\n",
    "        100 * len(data[is_misclass & is_male])/len(data[is_male])\n",
    "    ))\n",
    "    \n",
    "    print(\"females: {} ({}%)\".format(\n",
    "        len(data[is_misclass & is_female]),\n",
    "        100 * len(data[is_misclass & is_female])/len(data[is_female])\n",
    "    ))\n",
    "    print(\"=\"*50)"
   ]
  },
  {
   "cell_type": "code",
   "execution_count": 46,
   "metadata": {},
   "outputs": [
    {
     "name": "stdout",
     "output_type": "stream",
     "text": [
      "==================================================\n",
      "Clarifai\n",
      "males: 265 (20.0909780136467%)\n",
      "females: 396 (29.18201915991157%)\n",
      "==================================================\n",
      "Microsoft\n",
      "males: 29 (2.1986353297952994%)\n",
      "females: 30 (2.210759027266028%)\n",
      "==================================================\n",
      "Amazon\n",
      "males: 97 (7.354056103108415%)\n",
      "females: 102 (7.516580692704495%)\n",
      "==================================================\n",
      "Face++\n",
      "males: 277 (21.00075815011372%)\n",
      "females: 335 (24.68680913780398%)\n",
      "==================================================\n"
     ]
    }
   ],
   "source": [
    "print(\"=\"*50)\n",
    "for api in age_apis: \n",
    "    is_misclass = age_misclassification(data[\"Age\"], data[age_apis[api]]) == 1\n",
    "    is_male = data[\"Gender\"] == 2\n",
    "    is_female = data[\"Gender\"] == 1\n",
    "    print(api)\n",
    "    print(\"males: {} ({}%)\".format(\n",
    "        len(data[is_misclass & is_male]),\n",
    "        100 * len(data[is_misclass & is_male])/len(data[is_male])\n",
    "    ))\n",
    "    \n",
    "    print(\"females: {} ({}%)\".format(\n",
    "        len(data[is_misclass & is_female]),\n",
    "        100 * len(data[is_misclass & is_female])/len(data[is_female])\n",
    "    ))\n",
    "    print(\"=\"*50)"
   ]
  },
  {
   "cell_type": "code",
   "execution_count": 47,
   "metadata": {},
   "outputs": [
    {
     "name": "stdout",
     "output_type": "stream",
     "text": [
      "==================================================\n",
      "Clarifai\n",
      "correlation -0.32320080632444215\n",
      "p-value 3.582871846434472e-60\n",
      "==================================================\n",
      "Microsoft\n",
      "correlation 0.007676179989829112\n",
      "p-value 0.7053336576567459\n",
      "==================================================\n",
      "Amazon\n",
      "correlation -0.008245737087072755\n",
      "p-value 0.6846045189870289\n",
      "==================================================\n",
      "Face++\n",
      "correlation -0.17549295494861444\n",
      "p-value 2.9752377716133014e-18\n",
      "==================================================\n"
     ]
    }
   ],
   "source": [
    "print(\"=\"*50)\n",
    "for api in gender_apis: \n",
    "    print(api)\n",
    "    cor, p = spearmanr(data_no_ai[\"Gender\"], \n",
    "          gender_misclassification(data_no_ai[\"Gender\"], data_no_ai[gender_apis[api]])\n",
    "         )\n",
    "    print('correlation', cor)\n",
    "    print('p-value', p)\n",
    "    print(\"=\"*50)"
   ]
  },
  {
   "cell_type": "markdown",
   "metadata": {},
   "source": [
    "## 3.2. Effect of Race"
   ]
  },
  {
   "cell_type": "code",
   "execution_count": 48,
   "metadata": {},
   "outputs": [
    {
     "name": "stdout",
     "output_type": "stream",
     "text": [
      "==================================================\n",
      "( Clarifai )\n",
      "Misclassified blacks\n",
      "220\n",
      "0.2972972972972973\n",
      "--------------------------------------------------\n",
      "Misclassified non-blacks\n",
      "441\n",
      "0.22767165720185856\n",
      "==================================================\n",
      "( Microsoft )\n",
      "Misclassified blacks\n",
      "14\n",
      "0.01891891891891892\n",
      "--------------------------------------------------\n",
      "Misclassified non-blacks\n",
      "45\n",
      "0.023231801755291687\n",
      "==================================================\n",
      "( Amazon )\n",
      "Misclassified blacks\n",
      "74\n",
      "0.1\n",
      "--------------------------------------------------\n",
      "Misclassified non-blacks\n",
      "125\n",
      "0.06453278265358803\n",
      "==================================================\n",
      "( Face++ )\n",
      "Misclassified blacks\n",
      "132\n",
      "0.1783783783783784\n",
      "--------------------------------------------------\n",
      "Misclassified non-blacks\n",
      "480\n",
      "0.24780588538977802\n",
      "==================================================\n"
     ]
    }
   ],
   "source": [
    "print(\"=\"*50)\n",
    "for api in age_apis: \n",
    "    print(\"(\", api, \")\")\n",
    "    is_misclass = age_misclassification(data[\"Age\"], data[age_apis[api]]) == 1\n",
    "    is_black = data[\"Race\"] == 2\n",
    "    print(\"Misclassified blacks\")\n",
    "    print(len(data[is_misclass & is_black]))\n",
    "    print(len(data[is_misclass & is_black])/len(data[is_black]))\n",
    "    print(\"-\"*50)\n",
    "    print(\"Misclassified non-blacks\")\n",
    "    print(len(data[is_misclass & ~is_black]))\n",
    "    print(len(data[is_misclass & ~is_black])/len(data[~is_black]))\n",
    "    print(\"=\"*50)"
   ]
  },
  {
   "cell_type": "code",
   "execution_count": 49,
   "metadata": {},
   "outputs": [
    {
     "name": "stdout",
     "output_type": "stream",
     "text": [
      "==================================================\n",
      "( Clarifai )\n",
      "Misclassified whites\n",
      "301\n",
      "0.23964968152866242\n",
      "--------------------------------------------------\n",
      "Misclassified non-whites\n",
      "360\n",
      "0.2533427163969036\n",
      "==================================================\n",
      "( Microsoft )\n",
      "Misclassified whites\n",
      "33\n",
      "0.026273885350318472\n",
      "--------------------------------------------------\n",
      "Misclassified non-whites\n",
      "26\n",
      "0.018296973961998593\n",
      "==================================================\n",
      "( Amazon )\n",
      "Misclassified whites\n",
      "90\n",
      "0.07165605095541401\n",
      "--------------------------------------------------\n",
      "Misclassified non-whites\n",
      "109\n",
      "0.07670654468684025\n",
      "==================================================\n",
      "( Face++ )\n",
      "Misclassified whites\n",
      "348\n",
      "0.2770700636942675\n",
      "--------------------------------------------------\n",
      "Misclassified non-whites\n",
      "264\n",
      "0.18578465869106264\n",
      "==================================================\n"
     ]
    }
   ],
   "source": [
    "print(\"=\"*50)\n",
    "for api in age_apis: \n",
    "    print(\"(\", api, \")\")\n",
    "    is_misclass = age_misclassification(data[\"Age\"], data[age_apis[api]]) == 1\n",
    "    is_white = data[\"Race\"] == 4\n",
    "    print(\"Misclassified whites\")\n",
    "    print(len(data[is_misclass & is_white]))\n",
    "    print(len(data[is_misclass & is_white])/len(data[is_white]))\n",
    "    print(\"-\"*50)\n",
    "    print(\"Misclassified non-whites\")\n",
    "    print(len(data[is_misclass & ~is_white]))\n",
    "    print(len(data[is_misclass & ~is_white])/len(data[~is_white]))\n",
    "    print(\"=\"*50)"
   ]
  },
  {
   "cell_type": "code",
   "execution_count": 50,
   "metadata": {},
   "outputs": [
    {
     "name": "stdout",
     "output_type": "stream",
     "text": [
      "==================================================\n",
      "Clarifai\n",
      "black: 220 (29.72972972972973%)\n",
      "white: 301 (23.96496815286624%)\n",
      "asian: 100 (21.459227467811157%)\n",
      "latino: 40 (18.95734597156398%)\n",
      "==================================================\n",
      "Microsoft\n",
      "black: 14 (1.8918918918918919%)\n",
      "white: 33 (2.627388535031847%)\n",
      "asian: 8 (1.7167381974248928%)\n",
      "latino: 4 (1.8957345971563981%)\n",
      "==================================================\n",
      "Amazon\n",
      "black: 74 (10.0%)\n",
      "white: 90 (7.165605095541402%)\n",
      "asian: 28 (6.008583690987124%)\n",
      "latino: 7 (3.3175355450236967%)\n",
      "==================================================\n",
      "Face++\n",
      "black: 132 (17.83783783783784%)\n",
      "white: 348 (27.70700636942675%)\n",
      "asian: 87 (18.669527896995707%)\n",
      "latino: 45 (21.327014218009477%)\n",
      "==================================================\n"
     ]
    }
   ],
   "source": [
    "print(\"=\"*50)\n",
    "for api in age_apis: \n",
    "    is_misclass = age_misclassification(data[\"Age\"], data[age_apis[api]]) == 1\n",
    "    is_black = data[\"Race\"] == 2\n",
    "    is_notblack = data[\"Race\"] != 2\n",
    "    is_white = data[\"Race\"] == 4\n",
    "    is_asian = data[\"Race\"] == 1\n",
    "    is_latino = data[\"Race\"] == 3\n",
    "    print(api)\n",
    "    print(\"black: {} ({}%)\".format(\n",
    "        len(data[is_misclass & is_black]),\n",
    "        100 * len(data[is_misclass & is_black])/len(data[is_black])\n",
    "    )) \n",
    "    print(\"white: {} ({}%)\".format(\n",
    "        len(data[is_misclass & is_white]),\n",
    "        100 * len(data[is_misclass & is_white])/len(data[is_white])\n",
    "    ))\n",
    "    print(\"asian: {} ({}%)\".format(\n",
    "        len(data[is_misclass & is_asian]),\n",
    "        100 * len(data[is_misclass & is_asian])/len(data[is_asian])\n",
    "    ))\n",
    "    print(\"latino: {} ({}%)\".format(\n",
    "        len(data[is_misclass & is_latino]),\n",
    "        100 * len(data[is_misclass & is_latino])/len(data[is_latino])\n",
    "    ))\n",
    "    \n",
    "    print(\"=\"*50)"
   ]
  },
  {
   "cell_type": "code",
   "execution_count": 51,
   "metadata": {},
   "outputs": [
    {
     "name": "stdout",
     "output_type": "stream",
     "text": [
      "Statistical test with blacks vs non-blacks\n",
      "==================================================\n",
      "Clarifai\n",
      "correlation 0.07221108615448824\n",
      "p-value 0.00018451901893818765\n",
      "==================================================\n",
      "Microsoft\n",
      "correlation -0.013138249456379583\n",
      "p-value 0.4968329100055059\n",
      "==================================================\n",
      "Amazon\n",
      "correlation 0.060468695184202274\n",
      "p-value 0.0017478409417844049\n",
      "==================================================\n",
      "Face++\n",
      "correlation -0.07393949875922404\n",
      "p-value 0.00012863093679325207\n",
      "==================================================\n"
     ]
    }
   ],
   "source": [
    "print(\"Statistical test with blacks vs non-blacks\")\n",
    "print(\"=\"*50)\n",
    "for api in age_apis: \n",
    "    print(api)\n",
    "    is_black = [int(x) for x in data[\"Race\"] == 2]\n",
    "    cor, p = spearmanr(is_black, \n",
    "          age_misclassification(data[\"Age\"], data[age_apis[api]])\n",
    "         )\n",
    "    print('correlation', cor)\n",
    "    print('p-value', p)\n",
    "    print(\"=\"*50)"
   ]
  },
  {
   "cell_type": "code",
   "execution_count": 52,
   "metadata": {},
   "outputs": [
    {
     "name": "stdout",
     "output_type": "stream",
     "text": [
      "Statistical test with whites vs non-whites\n",
      "==================================================\n",
      "Clarifai\n",
      "correlation -0.015846946038767303\n",
      "p-value 0.41245256406219033\n",
      "==================================================\n",
      "Microsoft\n",
      "correlation 0.027115386514944592\n",
      "p-value 0.16075241307594024\n",
      "==================================================\n",
      "Amazon\n",
      "correlation -0.009608343169641952\n",
      "p-value 0.6192508262730387\n",
      "==================================================\n",
      "Face++\n",
      "correlation 0.10848194578654213\n",
      "p-value 1.835644501514563e-08\n",
      "==================================================\n"
     ]
    }
   ],
   "source": [
    "print(\"Statistical test with whites vs non-whites\")\n",
    "print(\"=\"*50)\n",
    "for api in age_apis: \n",
    "    print(api)\n",
    "    is_white = [int(x) for x in data[\"Race\"] == 4]\n",
    "    cor, p = spearmanr(is_white, \n",
    "          age_misclassification(data[\"Age\"], data[age_apis[api]])\n",
    "         )\n",
    "    print('correlation', cor)\n",
    "    print('p-value', p)\n",
    "    print(\"=\"*50)"
   ]
  },
  {
   "cell_type": "markdown",
   "metadata": {},
   "source": [
    "## 3.3. Effect of Age"
   ]
  },
  {
   "cell_type": "code",
   "execution_count": 53,
   "metadata": {},
   "outputs": [],
   "source": [
    "discrete_age = np.array([categorize_age(age) for age in data[\"Age\"]])"
   ]
  },
  {
   "cell_type": "code",
   "execution_count": 54,
   "metadata": {},
   "outputs": [
    {
     "name": "stdout",
     "output_type": "stream",
     "text": [
      "==================================================\n",
      "Clarifai\n",
      "children: 0 (0.0%)\n",
      "teen: 26 (21.666666666666668%)\n",
      "young: 579 (33.275862068965516%)\n",
      "adult: 42 (5.706521739130435%)\n",
      "old: 14 (24.56140350877193%)\n",
      "==================================================\n",
      "Microsoft\n",
      "children: 0 (0.0%)\n",
      "teen: 19 (15.833333333333334%)\n",
      "young: 23 (1.3218390804597702%)\n",
      "adult: 3 (0.4076086956521739%)\n",
      "old: 14 (24.56140350877193%)\n",
      "==================================================\n",
      "Amazon\n",
      "children: 0 (0.0%)\n",
      "teen: 20 (16.666666666666668%)\n",
      "young: 141 (8.10344827586207%)\n",
      "adult: 20 (2.717391304347826%)\n",
      "old: 18 (31.57894736842105%)\n",
      "==================================================\n",
      "Face++\n",
      "children: 11 (45.833333333333336%)\n",
      "teen: 63 (52.5%)\n",
      "young: 401 (23.04597701149425%)\n",
      "adult: 124 (16.847826086956523%)\n",
      "old: 13 (22.80701754385965%)\n",
      "==================================================\n"
     ]
    }
   ],
   "source": [
    "print(\"=\"*50)\n",
    "for api in age_apis: \n",
    "    is_misclass = age_misclassification(data[\"Age\"], data[age_apis[api]]) == 1\n",
    "    is_child = discrete_age == 0\n",
    "    is_teen = discrete_age == 1\n",
    "    is_young = discrete_age == 2\n",
    "    is_adult = discrete_age == 3\n",
    "    is_old = discrete_age == 4\n",
    "    print(api)\n",
    "    print(\"children: {} ({}%)\".format(\n",
    "        len(data[is_misclass & is_child]),\n",
    "        100 * len(data[is_misclass & is_child])/len(data[is_child])\n",
    "    ))\n",
    "    \n",
    "    print(\"teen: {} ({}%)\".format(\n",
    "        len(data[is_misclass & is_teen]),\n",
    "        100 * len(data[is_misclass & is_teen])/len(data[is_teen])\n",
    "    ))\n",
    "    print(\"young: {} ({}%)\".format(\n",
    "        len(data[is_misclass & is_young]),\n",
    "        100 * len(data[is_misclass & is_young])/len(data[is_young])\n",
    "    ))\n",
    "    print(\"adult: {} ({}%)\".format(\n",
    "        len(data[is_misclass & is_adult]),\n",
    "        100 * len(data[is_misclass & is_adult])/len(data[is_adult])\n",
    "    ))\n",
    "    print(\"old: {} ({}%)\".format(\n",
    "        len(data[is_misclass & is_old]),\n",
    "        100 * len(data[is_misclass & is_old])/len(data[is_old])\n",
    "    ))\n",
    "    \n",
    "    print(\"=\"*50)"
   ]
  },
  {
   "cell_type": "code",
   "execution_count": 55,
   "metadata": {
    "scrolled": true
   },
   "outputs": [
    {
     "name": "stdout",
     "output_type": "stream",
     "text": [
      "==================================================\n",
      "Clarifai\n",
      "correlation -0.218752355968817\n",
      "p-value 2.3012688112850737e-30\n",
      "==================================================\n",
      "Microsoft\n",
      "correlation -0.04008418787065421\n",
      "p-value 0.03809695933372611\n",
      "==================================================\n",
      "Amazon\n",
      "correlation -0.06365539263716\n",
      "p-value 0.000983106928421296\n",
      "==================================================\n",
      "Face++\n",
      "correlation -0.1281502387712838\n",
      "p-value 2.8365174907954134e-11\n",
      "==================================================\n"
     ]
    }
   ],
   "source": [
    "print(\"=\"*50)\n",
    "for api in age_apis: \n",
    "    print(api)\n",
    "    cor, p = spearmanr(discrete_age, \n",
    "          age_misclassification(data[\"Age\"], data[age_apis[api]])\n",
    "         )\n",
    "    print('correlation', cor)\n",
    "    print('p-value', p)\n",
    "    print(\"=\"*50)"
   ]
  },
  {
   "cell_type": "markdown",
   "metadata": {},
   "source": [
    "# Emotion Misclassification"
   ]
  },
  {
   "cell_type": "markdown",
   "metadata": {},
   "source": [
    "### Effect of Gender"
   ]
  },
  {
   "cell_type": "code",
   "execution_count": 60,
   "metadata": {},
   "outputs": [],
   "source": [
    "emotion_apis = {\n",
    "    \"Microsoft\": \"microsoft_emotion\",\n",
    "    \"Amazon\": \"amazon_emotion\",\n",
    "    \"Face++\": \"face++_emotion\"\n",
    "}"
   ]
  },
  {
   "cell_type": "code",
   "execution_count": 74,
   "metadata": {},
   "outputs": [
    {
     "name": "stdout",
     "output_type": "stream",
     "text": [
      "==================================================\n",
      "Microsoft\n",
      "correlation 0.02402198576518477\n",
      "p-value 0.23661809948185683\n",
      "==================================================\n",
      "Amazon\n",
      "correlation 0.003749052503746514\n",
      "p-value 0.8534822570780178\n",
      "==================================================\n",
      "Face++\n",
      "correlation 0.013928279132257613\n",
      "p-value 0.4926288722682117\n",
      "==================================================\n"
     ]
    }
   ],
   "source": [
    "print(\"=\"*50)\n",
    "for api in emotion_apis: \n",
    "    print(api)\n",
    "    cor, p = spearmanr(data_no_ai[\"Gender\"], \n",
    "          emotion_misclassification(data_no_ai[\"Emotion\"], data_no_ai[emotion_apis[api]])\n",
    "         )\n",
    "    print('correlation', cor)\n",
    "    print('p-value', p)\n",
    "    print(\"=\"*50)"
   ]
  },
  {
   "cell_type": "markdown",
   "metadata": {},
   "source": [
    "### Effect of Race"
   ]
  },
  {
   "cell_type": "code",
   "execution_count": 75,
   "metadata": {},
   "outputs": [
    {
     "name": "stdout",
     "output_type": "stream",
     "text": [
      "==================================================\n",
      "Microsoft\n",
      "correlation 0.05199786777032823\n",
      "p-value 0.010373504382776502\n",
      "==================================================\n",
      "Amazon\n",
      "correlation 0.02974396876746619\n",
      "p-value 0.14278515930122856\n",
      "==================================================\n",
      "Face++\n",
      "correlation 0.028320286720996613\n",
      "p-value 0.1629183066441704\n",
      "==================================================\n"
     ]
    }
   ],
   "source": [
    "print(\"=\"*50)\n",
    "for api in emotion_apis: \n",
    "    print(api)\n",
    "    cor, p = spearmanr(data_no_ai[\"Race\"], \n",
    "          emotion_misclassification(data_no_ai[\"Emotion\"], data_no_ai[emotion_apis[api]])\n",
    "         )\n",
    "    print('correlation', cor)\n",
    "    print('p-value', p)\n",
    "    print(\"=\"*50)"
   ]
  },
  {
   "cell_type": "code",
   "execution_count": 158,
   "metadata": {},
   "outputs": [
    {
     "name": "stdout",
     "output_type": "stream",
     "text": [
      "==================================================\n",
      "Microsoft\n",
      "--------------------------------------------------\n",
      "Black misclassification rate: \n",
      "0.23925501432664756\n",
      "White misclassification rate: \n",
      "0.19982698961937717\n",
      "Asian misclassification rate: \n",
      "0.09523809523809523\n",
      "Latino misclassification rate: \n",
      "0.046357615894039736\n",
      "==================================================\n",
      "Amazon\n",
      "--------------------------------------------------\n",
      "Black misclassification rate: \n",
      "0.2134670487106017\n",
      "White misclassification rate: \n",
      "0.1903114186851211\n",
      "Asian misclassification rate: \n",
      "0.1357142857142857\n",
      "Latino misclassification rate: \n",
      "0.07947019867549669\n",
      "==================================================\n",
      "Face++\n",
      "--------------------------------------------------\n",
      "Black misclassification rate: \n",
      "0.335243553008596\n",
      "White misclassification rate: \n",
      "0.2958477508650519\n",
      "Asian misclassification rate: \n",
      "0.22380952380952382\n",
      "Latino misclassification rate: \n",
      "0.15894039735099338\n"
     ]
    }
   ],
   "source": [
    "is_black = data_no_ai[\"Race\"] == 2\n",
    "is_white = data_no_ai[\"Race\"] == 4\n",
    "is_asian = data_no_ai[\"Race\"] == 1\n",
    "is_latino = data_no_ai[\"Race\"] == 3\n",
    "\n",
    "for api in emotion_apis:\n",
    "    print(\"=\"*50)\n",
    "    print(api)\n",
    "    print(\"-\"*50)\n",
    "    \n",
    "    em_mis = [x == 1 for x in emotion_misclassification(data_no_ai[\"Emotion\"], data_no_ai[emotion_apis[api]])]\n",
    "    print(\"Black misclassification rate: \")\n",
    "    print(sum(em_mis & is_black)/sum(is_black))\n",
    "    print(\"White misclassification rate: \")\n",
    "    print(sum(em_mis & is_white)/sum(is_white))\n",
    "    print(\"Asian misclassification rate: \")\n",
    "    print(sum(em_mis & is_asian)/sum(is_asian))\n",
    "    print(\"Latino misclassification rate: \")\n",
    "    print(sum(em_mis & is_latino)/sum(is_latino))\n",
    "    "
   ]
  },
  {
   "cell_type": "markdown",
   "metadata": {},
   "source": [
    "In all cases blacks and whites seem to be misclassified more often than Latino and Asian subjects. However, this is probably due to the fact they dominate the \"*harder*\" datasets - NimStim and CFD, which exhibit non-standard emotions. "
   ]
  },
  {
   "cell_type": "code",
   "execution_count": 159,
   "metadata": {},
   "outputs": [
    {
     "data": {
      "text/plain": [
       "4    404\n",
       "2    159\n",
       "1     94\n",
       "3     16\n",
       "Name: Race, dtype: int64"
      ]
     },
     "execution_count": 159,
     "metadata": {},
     "output_type": "execute_result"
    }
   ],
   "source": [
    "data.query(\"Origin=='NimStim'\")[\"Race\"].value_counts()"
   ]
  },
  {
   "cell_type": "code",
   "execution_count": 160,
   "metadata": {},
   "outputs": [
    {
     "data": {
      "text/plain": [
       "2    526\n",
       "4    464\n",
       "1    109\n",
       "3    108\n",
       "Name: Race, dtype: int64"
      ]
     },
     "execution_count": 160,
     "metadata": {},
     "output_type": "execute_result"
    }
   ],
   "source": [
    "data.query(\"Origin=='CFD'\")[\"Race\"].value_counts()"
   ]
  },
  {
   "cell_type": "markdown",
   "metadata": {},
   "source": [
    "### Effect of Age"
   ]
  },
  {
   "cell_type": "code",
   "execution_count": 162,
   "metadata": {},
   "outputs": [],
   "source": [
    "discrete_age = np.array([categorize_age(age) for age in data_no_ai[\"Age\"]])"
   ]
  },
  {
   "cell_type": "code",
   "execution_count": 164,
   "metadata": {},
   "outputs": [
    {
     "name": "stdout",
     "output_type": "stream",
     "text": [
      "==================================================\n",
      "Microsoft\n",
      "correlation -0.004997408236234161\n",
      "p-value 0.8055495114502442\n",
      "==================================================\n",
      "Amazon\n",
      "correlation -0.016229304408883018\n",
      "p-value 0.42400034179018364\n",
      "==================================================\n",
      "Face++\n",
      "correlation -0.02578357552563898\n",
      "p-value 0.20397862289385604\n",
      "==================================================\n"
     ]
    }
   ],
   "source": [
    "print(\"=\"*50)\n",
    "for api in emotion_apis: \n",
    "    print(api)\n",
    "    cor, p = spearmanr(discrete_age, \n",
    "          emotion_misclassification(data_no_ai[\"Emotion\"], data_no_ai[emotion_apis[api]])\n",
    "         )\n",
    "    print('correlation', cor)\n",
    "    print('p-value', p)\n",
    "    print(\"=\"*50)"
   ]
  }
 ],
 "metadata": {
  "kernelspec": {
   "display_name": "Python 3",
   "language": "python",
   "name": "python3"
  },
  "language_info": {
   "codemirror_mode": {
    "name": "ipython",
    "version": 3
   },
   "file_extension": ".py",
   "mimetype": "text/x-python",
   "name": "python",
   "nbconvert_exporter": "python",
   "pygments_lexer": "ipython3",
   "version": "3.7.4"
  }
 },
 "nbformat": 4,
 "nbformat_minor": 2
}
