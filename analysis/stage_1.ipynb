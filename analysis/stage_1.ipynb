{
 "cells": [
  {
   "cell_type": "code",
   "execution_count": 1,
   "metadata": {},
   "outputs": [],
   "source": [
    "import numpy as np\n",
    "import matplotlib.pyplot as plt\n",
    "import pandas as pd\n",
    "import seaborn as sns\n",
    "import matplotlib "
   ]
  },
  {
   "cell_type": "code",
   "execution_count": 2,
   "metadata": {},
   "outputs": [],
   "source": [
    "DATA = \"../preprocessing/standardized_data.csv\"\n",
    "data = pd.read_csv(DATA,header=0)"
   ]
  },
  {
   "cell_type": "markdown",
   "metadata": {},
   "source": [
    "# Gender Misclassification"
   ]
  },
  {
   "cell_type": "code",
   "execution_count": 3,
   "metadata": {},
   "outputs": [],
   "source": [
    "def gender_misclassification(gt, prediction): \n",
    "    \"\"\"Given a vector of ground truth values `gt` and a vector of prediction values `gt`, \n",
    "    return a vector containing 1 if there has been gender misclassification and 0 otherwise. \"\"\"\n",
    "    n = len(gt)\n",
    "    assert(len(prediction) == n)\n",
    "    result = np.zeros(n)\n",
    "    for i in range(n): \n",
    "        # If the ground truth or the result from the API is \"unsure\", no misclassification\n",
    "        if gt[i] == 0 or prediction[i] == 0: \n",
    "            result[i] = 0\n",
    "        # If the ground truth does not match the prediction, set the misclassification bit to one. \n",
    "        elif gt[i] != prediction[i]: \n",
    "            result[i] = 1\n",
    "        else: \n",
    "            result[i] = 0\n",
    "    return result"
   ]
  },
  {
   "cell_type": "code",
   "execution_count": 4,
   "metadata": {},
   "outputs": [],
   "source": [
    "misclass = {}\n",
    "misclass[\"Clarifai\"] = gender_misclassification(data[\"Gender\"], data[\"clarifai_gender\"])\n",
    "misclass[\"Microsoft\"] = gender_misclassification(data[\"Gender\"], data[\"microsoft_gender\"])\n",
    "misclass[\"Amazon\"] = gender_misclassification(data[\"Gender\"], data[\"amazon_gender\"])\n",
    "misclass[\"Face++\"] = gender_misclassification(data[\"Gender\"], data[\"face++_gender\"])"
   ]
  },
  {
   "cell_type": "code",
   "execution_count": 5,
   "metadata": {},
   "outputs": [],
   "source": [
    "# Defining masks \n",
    "from_cfd = (data[\"Origin\"] == \"CFD\")\n",
    "from_nimstim = (data[\"Origin\"] == \"NimStim\")\n",
    "from_airbnb = (data[\"Origin\"] == \"AirBnb\")\n",
    "from_ai = (data[\"Origin\"] == \"AI\")\n",
    "\n",
    "# And the dataset sizes\n",
    "n_cfd = sum(from_cfd)\n",
    "n_nimstim = sum(from_nimstim)\n",
    "n_airbnb = sum(from_airbnb)\n",
    "n_ai = sum(from_ai)\n",
    "\n",
    "datasets = {\n",
    "    # Name --> (Mask, Size) for each dataset\n",
    "    \"CFD\" : (from_cfd, n_cfd), \n",
    "    \"NimStim\" : (from_nimstim, n_nimstim), \n",
    "    \"AirBnb\" : (from_airbnb, n_airbnb), \n",
    "    \"AI\" : (from_ai, n_ai)\n",
    "}"
   ]
  },
  {
   "cell_type": "code",
   "execution_count": 6,
   "metadata": {},
   "outputs": [
    {
     "data": {
      "text/html": [
       "<div>\n",
       "<style scoped>\n",
       "    .dataframe tbody tr th:only-of-type {\n",
       "        vertical-align: middle;\n",
       "    }\n",
       "\n",
       "    .dataframe tbody tr th {\n",
       "        vertical-align: top;\n",
       "    }\n",
       "\n",
       "    .dataframe thead th {\n",
       "        text-align: right;\n",
       "    }\n",
       "</style>\n",
       "<table border=\"1\" class=\"dataframe\">\n",
       "  <thead>\n",
       "    <tr style=\"text-align: right;\">\n",
       "      <th></th>\n",
       "      <th>Number of entries</th>\n",
       "    </tr>\n",
       "  </thead>\n",
       "  <tbody>\n",
       "    <tr>\n",
       "      <td>CFD</td>\n",
       "      <td>1207</td>\n",
       "    </tr>\n",
       "    <tr>\n",
       "      <td>NimStim</td>\n",
       "      <td>673</td>\n",
       "    </tr>\n",
       "    <tr>\n",
       "      <td>AirBnb</td>\n",
       "      <td>549</td>\n",
       "    </tr>\n",
       "    <tr>\n",
       "      <td>AI</td>\n",
       "      <td>248</td>\n",
       "    </tr>\n",
       "  </tbody>\n",
       "</table>\n",
       "</div>"
      ],
      "text/plain": [
       "         Number of entries\n",
       "CFD                   1207\n",
       "NimStim                673\n",
       "AirBnb                 549\n",
       "AI                     248"
      ]
     },
     "execution_count": 6,
     "metadata": {},
     "output_type": "execute_result"
    }
   ],
   "source": [
    "# Recall the different data sets' sizes: \n",
    "pd.DataFrame([len(data[data[\"Origin\"] == ds]) for ds in datasets], index=datasets.keys(), columns=[\"Number of entries\"])"
   ]
  },
  {
   "cell_type": "code",
   "execution_count": 7,
   "metadata": {},
   "outputs": [],
   "source": [
    "misclass_rates = [[None for dataset in range(4)] for api in range(5)] \n",
    "\n",
    "for i, api in enumerate(misclass): \n",
    "    sum_for_api = 0\n",
    "    for j, dataset in enumerate(datasets): \n",
    "        mask, n = datasets[dataset]\n",
    "        misclass_rates[j][i] = sum(misclass[api][mask])/n\n",
    "        sum_for_api += sum(misclass[api][mask])\n",
    "    misclass_rates[4][i] = sum_for_api/len(data)"
   ]
  },
  {
   "cell_type": "code",
   "execution_count": 8,
   "metadata": {},
   "outputs": [],
   "source": [
    "misclass_numbers = [[None for dataset in range(4)] for api in range(5)] \n",
    "\n",
    "for i, api in enumerate(misclass): \n",
    "    sum_for_api = 0\n",
    "    for j, dataset in enumerate(datasets): \n",
    "        mask, n = datasets[dataset]\n",
    "        misclass_numbers[j][i] = sum(misclass[api][mask])\n",
    "        sum_for_api += sum(misclass[api][mask])\n",
    "    misclass_numbers[4][i] = sum_for_api\n"
   ]
  },
  {
   "cell_type": "code",
   "execution_count": 9,
   "metadata": {},
   "outputs": [],
   "source": [
    "misclass_rates_table = pd.DataFrame(misclass_rates, \n",
    "                                    columns=misclass.keys(), \n",
    "                                    index=list(datasets.keys()) + ['OVERALL'])"
   ]
  },
  {
   "cell_type": "code",
   "execution_count": 10,
   "metadata": {},
   "outputs": [],
   "source": [
    "misclass_numbers_table = pd.DataFrame(misclass_numbers, \n",
    "                                    columns=misclass.keys() , \n",
    "                                    index=list(datasets.keys()) + [\"OVERALL\"])"
   ]
  },
  {
   "cell_type": "code",
   "execution_count": 11,
   "metadata": {},
   "outputs": [
    {
     "data": {
      "text/html": [
       "<div>\n",
       "<style scoped>\n",
       "    .dataframe tbody tr th:only-of-type {\n",
       "        vertical-align: middle;\n",
       "    }\n",
       "\n",
       "    .dataframe tbody tr th {\n",
       "        vertical-align: top;\n",
       "    }\n",
       "\n",
       "    .dataframe thead th {\n",
       "        text-align: right;\n",
       "    }\n",
       "</style>\n",
       "<table border=\"1\" class=\"dataframe\">\n",
       "  <thead>\n",
       "    <tr style=\"text-align: right;\">\n",
       "      <th></th>\n",
       "      <th>Clarifai</th>\n",
       "      <th>Microsoft</th>\n",
       "      <th>Amazon</th>\n",
       "      <th>Face++</th>\n",
       "    </tr>\n",
       "  </thead>\n",
       "  <tbody>\n",
       "    <tr>\n",
       "      <td>CFD</td>\n",
       "      <td>152.0</td>\n",
       "      <td>3.0</td>\n",
       "      <td>36.0</td>\n",
       "      <td>82.0</td>\n",
       "    </tr>\n",
       "    <tr>\n",
       "      <td>NimStim</td>\n",
       "      <td>88.0</td>\n",
       "      <td>0.0</td>\n",
       "      <td>6.0</td>\n",
       "      <td>31.0</td>\n",
       "    </tr>\n",
       "    <tr>\n",
       "      <td>AirBnb</td>\n",
       "      <td>45.0</td>\n",
       "      <td>6.0</td>\n",
       "      <td>18.0</td>\n",
       "      <td>20.0</td>\n",
       "    </tr>\n",
       "    <tr>\n",
       "      <td>AI</td>\n",
       "      <td>49.0</td>\n",
       "      <td>38.0</td>\n",
       "      <td>39.0</td>\n",
       "      <td>35.0</td>\n",
       "    </tr>\n",
       "    <tr>\n",
       "      <td>OVERALL</td>\n",
       "      <td>334.0</td>\n",
       "      <td>47.0</td>\n",
       "      <td>99.0</td>\n",
       "      <td>168.0</td>\n",
       "    </tr>\n",
       "  </tbody>\n",
       "</table>\n",
       "</div>"
      ],
      "text/plain": [
       "         Clarifai  Microsoft  Amazon  Face++\n",
       "CFD         152.0        3.0    36.0    82.0\n",
       "NimStim      88.0        0.0     6.0    31.0\n",
       "AirBnb       45.0        6.0    18.0    20.0\n",
       "AI           49.0       38.0    39.0    35.0\n",
       "OVERALL     334.0       47.0    99.0   168.0"
      ]
     },
     "metadata": {},
     "output_type": "display_data"
    },
    {
     "data": {
      "text/html": [
       "<div>\n",
       "<style scoped>\n",
       "    .dataframe tbody tr th:only-of-type {\n",
       "        vertical-align: middle;\n",
       "    }\n",
       "\n",
       "    .dataframe tbody tr th {\n",
       "        vertical-align: top;\n",
       "    }\n",
       "\n",
       "    .dataframe thead th {\n",
       "        text-align: right;\n",
       "    }\n",
       "</style>\n",
       "<table border=\"1\" class=\"dataframe\">\n",
       "  <thead>\n",
       "    <tr style=\"text-align: right;\">\n",
       "      <th></th>\n",
       "      <th>Clarifai</th>\n",
       "      <th>Microsoft</th>\n",
       "      <th>Amazon</th>\n",
       "      <th>Face++</th>\n",
       "    </tr>\n",
       "  </thead>\n",
       "  <tbody>\n",
       "    <tr>\n",
       "      <td>CFD</td>\n",
       "      <td>0.125932</td>\n",
       "      <td>0.002486</td>\n",
       "      <td>0.029826</td>\n",
       "      <td>0.067937</td>\n",
       "    </tr>\n",
       "    <tr>\n",
       "      <td>NimStim</td>\n",
       "      <td>0.130758</td>\n",
       "      <td>0.000000</td>\n",
       "      <td>0.008915</td>\n",
       "      <td>0.046062</td>\n",
       "    </tr>\n",
       "    <tr>\n",
       "      <td>AirBnb</td>\n",
       "      <td>0.081967</td>\n",
       "      <td>0.010929</td>\n",
       "      <td>0.032787</td>\n",
       "      <td>0.036430</td>\n",
       "    </tr>\n",
       "    <tr>\n",
       "      <td>AI</td>\n",
       "      <td>0.197581</td>\n",
       "      <td>0.153226</td>\n",
       "      <td>0.157258</td>\n",
       "      <td>0.141129</td>\n",
       "    </tr>\n",
       "    <tr>\n",
       "      <td>OVERALL</td>\n",
       "      <td>0.124767</td>\n",
       "      <td>0.017557</td>\n",
       "      <td>0.036982</td>\n",
       "      <td>0.062757</td>\n",
       "    </tr>\n",
       "  </tbody>\n",
       "</table>\n",
       "</div>"
      ],
      "text/plain": [
       "         Clarifai  Microsoft    Amazon    Face++\n",
       "CFD      0.125932   0.002486  0.029826  0.067937\n",
       "NimStim  0.130758   0.000000  0.008915  0.046062\n",
       "AirBnb   0.081967   0.010929  0.032787  0.036430\n",
       "AI       0.197581   0.153226  0.157258  0.141129\n",
       "OVERALL  0.124767   0.017557  0.036982  0.062757"
      ]
     },
     "metadata": {},
     "output_type": "display_data"
    }
   ],
   "source": [
    "display(misclass_numbers_table)\n",
    "display(misclass_rates_table)"
   ]
  },
  {
   "cell_type": "markdown",
   "metadata": {},
   "source": [
    "# Race Misclassification"
   ]
  },
  {
   "cell_type": "code",
   "execution_count": 12,
   "metadata": {},
   "outputs": [],
   "source": [
    "def race_misclassification(gt, prediction): \n",
    "    \"\"\"Given a vector of ground truth values `gt` and a vector of prediction values `gt`, \n",
    "    return a vector containing 1 if there has been race misclassification and 0 otherwise. \"\"\"\n",
    "    n = len(gt)\n",
    "    assert(len(prediction) == n)\n",
    "    result = np.zeros(n)\n",
    "    for i in range(n): \n",
    "        # If the subjects is within a cornercase group or the prediction has outputed \"not sure\", then \n",
    "        # no misclassification\n",
    "        if gt[i] in [0,5] or prediction[i] == 0 : \n",
    "            result[i] = 0\n",
    "        # If the ground truth does not match the prediction, set the misclassification bit to one. \n",
    "        elif gt[i] != prediction[i]: \n",
    "            result[i] = 1\n",
    "        else: \n",
    "            result[i] = 0\n",
    "    return result"
   ]
  },
  {
   "cell_type": "code",
   "execution_count": 13,
   "metadata": {},
   "outputs": [],
   "source": [
    "clarifai_race_misclass = race_misclassification(data[\"Race\"], data[\"clarifai_race\"])\n",
    "# Creating a mask\n",
    "is_race_misclass = [x == 1 for x in clarifai_race_misclass]"
   ]
  },
  {
   "cell_type": "code",
   "execution_count": 14,
   "metadata": {},
   "outputs": [
    {
     "name": "stdout",
     "output_type": "stream",
     "text": [
      "384\n",
      "0.14344415390362347\n"
     ]
    }
   ],
   "source": [
    "# Overall number of misclassifications\n",
    "print(sum(is_race_misclass))\n",
    "# Overall rate of misclassifications \n",
    "print(sum(is_race_misclass)/len(data))"
   ]
  },
  {
   "cell_type": "code",
   "execution_count": 15,
   "metadata": {},
   "outputs": [],
   "source": [
    "misclassed_data = data[is_race_misclass]\n",
    "misclassed_race_numbers = {name: len(misclassed_data[misclassed_data[\"Origin\"] == name]) for name in datasets.keys()}"
   ]
  },
  {
   "cell_type": "code",
   "execution_count": 17,
   "metadata": {},
   "outputs": [
    {
     "data": {
      "text/html": [
       "<div>\n",
       "<style scoped>\n",
       "    .dataframe tbody tr th:only-of-type {\n",
       "        vertical-align: middle;\n",
       "    }\n",
       "\n",
       "    .dataframe tbody tr th {\n",
       "        vertical-align: top;\n",
       "    }\n",
       "\n",
       "    .dataframe thead th {\n",
       "        text-align: right;\n",
       "    }\n",
       "</style>\n",
       "<table border=\"1\" class=\"dataframe\">\n",
       "  <thead>\n",
       "    <tr style=\"text-align: right;\">\n",
       "      <th></th>\n",
       "      <th>Number of misclassifications</th>\n",
       "    </tr>\n",
       "  </thead>\n",
       "  <tbody>\n",
       "    <tr>\n",
       "      <td>CFD</td>\n",
       "      <td>168</td>\n",
       "    </tr>\n",
       "    <tr>\n",
       "      <td>NimStim</td>\n",
       "      <td>52</td>\n",
       "    </tr>\n",
       "    <tr>\n",
       "      <td>AirBnb</td>\n",
       "      <td>99</td>\n",
       "    </tr>\n",
       "    <tr>\n",
       "      <td>AI</td>\n",
       "      <td>65</td>\n",
       "    </tr>\n",
       "  </tbody>\n",
       "</table>\n",
       "</div>"
      ],
      "text/plain": [
       "         Number of misclassifications\n",
       "CFD                               168\n",
       "NimStim                            52\n",
       "AirBnb                             99\n",
       "AI                                 65"
      ]
     },
     "execution_count": 17,
     "metadata": {},
     "output_type": "execute_result"
    }
   ],
   "source": [
    "pd.DataFrame(misclassed_race_numbers.values(), index=misclassed_race_numbers.keys(), columns=[\"Number of misclassifications\"])"
   ]
  },
  {
   "cell_type": "code",
   "execution_count": 18,
   "metadata": {},
   "outputs": [],
   "source": [
    "rates = [misclassed_race_numbers[name]/len(data[data[\"Origin\"] == name]) for name in datasets.keys()]"
   ]
  },
  {
   "cell_type": "code",
   "execution_count": 19,
   "metadata": {},
   "outputs": [
    {
     "data": {
      "text/plain": [
       "[0.1391880695940348,\n",
       " 0.07726597325408618,\n",
       " 0.18032786885245902,\n",
       " 0.2620967741935484]"
      ]
     },
     "execution_count": 19,
     "metadata": {},
     "output_type": "execute_result"
    }
   ],
   "source": [
    "rates"
   ]
  },
  {
   "cell_type": "code",
   "execution_count": 20,
   "metadata": {},
   "outputs": [],
   "source": [
    "race_accuracy_table = pd.DataFrame([misclassed_race_numbers.values(), rates], \n",
    "             index=[\"Number of misclassifications\", \"Misclassification rate\"], \n",
    "             columns=datasets.keys()\n",
    "            )"
   ]
  },
  {
   "cell_type": "code",
   "execution_count": 21,
   "metadata": {},
   "outputs": [
    {
     "data": {
      "text/html": [
       "<div>\n",
       "<style scoped>\n",
       "    .dataframe tbody tr th:only-of-type {\n",
       "        vertical-align: middle;\n",
       "    }\n",
       "\n",
       "    .dataframe tbody tr th {\n",
       "        vertical-align: top;\n",
       "    }\n",
       "\n",
       "    .dataframe thead th {\n",
       "        text-align: right;\n",
       "    }\n",
       "</style>\n",
       "<table border=\"1\" class=\"dataframe\">\n",
       "  <thead>\n",
       "    <tr style=\"text-align: right;\">\n",
       "      <th></th>\n",
       "      <th>CFD</th>\n",
       "      <th>NimStim</th>\n",
       "      <th>AirBnb</th>\n",
       "      <th>AI</th>\n",
       "    </tr>\n",
       "  </thead>\n",
       "  <tbody>\n",
       "    <tr>\n",
       "      <td>Number of misclassifications</td>\n",
       "      <td>168.000000</td>\n",
       "      <td>52.000000</td>\n",
       "      <td>99.000000</td>\n",
       "      <td>65.000000</td>\n",
       "    </tr>\n",
       "    <tr>\n",
       "      <td>Misclassification rate</td>\n",
       "      <td>0.139188</td>\n",
       "      <td>0.077266</td>\n",
       "      <td>0.180328</td>\n",
       "      <td>0.262097</td>\n",
       "    </tr>\n",
       "  </tbody>\n",
       "</table>\n",
       "</div>"
      ],
      "text/plain": [
       "                                     CFD    NimStim     AirBnb         AI\n",
       "Number of misclassifications  168.000000  52.000000  99.000000  65.000000\n",
       "Misclassification rate          0.139188   0.077266   0.180328   0.262097"
      ]
     },
     "execution_count": 21,
     "metadata": {},
     "output_type": "execute_result"
    }
   ],
   "source": [
    "race_accuracy_table"
   ]
  },
  {
   "cell_type": "markdown",
   "metadata": {},
   "source": [
    "# Age Misclassification "
   ]
  },
  {
   "cell_type": "markdown",
   "metadata": {},
   "source": [
    "### Approach 1 - offset from the true value"
   ]
  },
  {
   "cell_type": "code",
   "execution_count": 22,
   "metadata": {
    "scrolled": true
   },
   "outputs": [
    {
     "name": "stdout",
     "output_type": "stream",
     "text": [
      "Average non-absolute difference\n",
      "Clarifai 7.721703399327605\n",
      "Microsoft 0.3522599925289503\n",
      "Amazon 2.249346283152783\n",
      "Face++ 7.372805379155771\n"
     ]
    }
   ],
   "source": [
    "print(\"Average non-absolute difference\")\n",
    "print(\"Clarifai\", \n",
    "sum((data[\"clarifai_age\"] - data[\"Age\"]))/len(data))\n",
    "print(\"Microsoft\", \n",
    "sum((data[\"microsoft_age\"] - data[\"Age\"]))/len(data))\n",
    "print(\"Amazon\", \n",
    "sum((data[\"amazon_age_average\"] - data[\"Age\"]))/len(data)) \n",
    "print(\"Face++\", \n",
    "sum((data[\"face++_age\"] - data[\"Age\"]))/len(data))"
   ]
  },
  {
   "cell_type": "code",
   "execution_count": 23,
   "metadata": {},
   "outputs": [
    {
     "data": {
      "text/plain": [
       "-0.3522599925289503"
      ]
     },
     "execution_count": 23,
     "metadata": {},
     "output_type": "execute_result"
    }
   ],
   "source": [
    "sum((data[\"Age\"] - data[\"microsoft_age\"]))/len(data)"
   ]
  },
  {
   "cell_type": "code",
   "execution_count": 24,
   "metadata": {},
   "outputs": [
    {
     "data": {
      "text/plain": [
       "-7.372805379155771"
      ]
     },
     "execution_count": 24,
     "metadata": {},
     "output_type": "execute_result"
    }
   ],
   "source": [
    "sum((data[\"Age\"] - data[\"face++_age\"]))/len(data)"
   ]
  },
  {
   "cell_type": "code",
   "execution_count": 25,
   "metadata": {},
   "outputs": [
    {
     "data": {
      "text/plain": [
       "-7.721703399327605"
      ]
     },
     "execution_count": 25,
     "metadata": {},
     "output_type": "execute_result"
    }
   ],
   "source": [
    "sum((data[\"Age\"] - data[\"clarifai_age\"]))/len(data)"
   ]
  },
  {
   "cell_type": "code",
   "execution_count": 26,
   "metadata": {},
   "outputs": [
    {
     "name": "stdout",
     "output_type": "stream",
     "text": [
      "Average age error\n",
      "Clarifai 8.934254762794172\n",
      "Microsoft 3.8203212551363466\n",
      "Amazon 5.370003735524842\n",
      "Face++ 8.606275681733283\n"
     ]
    }
   ],
   "source": [
    "print(\"Average age error\")\n",
    "\n",
    "print(\"Clarifai\", \n",
    "sum(abs(data[\"Age\"] - data[\"clarifai_age\"]))/len(data)) \n",
    "\n",
    "print(\"Microsoft\",\n",
    "sum(abs(data[\"Age\"] - data[\"microsoft_age\"]))/len(data)) \n",
    "\n",
    "print(\"Amazon\", \n",
    "sum(abs(data[\"Age\"] - data[\"amazon_age_average\"]))/len(data)) \n",
    "\n",
    "print(\"Face++\", \n",
    "sum(abs(data[\"Age\"] - data[\"face++_age\"]))/len(data)) "
   ]
  },
  {
   "cell_type": "code",
   "execution_count": 27,
   "metadata": {},
   "outputs": [],
   "source": [
    "def add_noise(vals, n): \n",
    "    return [val + np.random.normal(0, n) for val in vals]"
   ]
  },
  {
   "cell_type": "code",
   "execution_count": 28,
   "metadata": {},
   "outputs": [
    {
     "data": {
      "image/png": "[encoded data removed]",
      "text/plain": [
       "<Figure size 720x720 with 1 Axes>"
      ]
     },
     "metadata": {
      "needs_background": "light"
     },
     "output_type": "display_data"
    },
    {
     "data": {
      "image/png": "[encoded data removed]",
      "text/plain": [
       "<Figure size 720x720 with 1 Axes>"
      ]
     },
     "metadata": {
      "needs_background": "light"
     },
     "output_type": "display_data"
    }
   ],
   "source": [
    "NOISE = 0.2\n",
    "\n",
    "plt.figure(figsize=(10, 10))\n",
    "plt.scatter(add_noise(data[\"Age\"], NOISE), add_noise(data[\"microsoft_age\"], NOISE), label=\"Microsoft estimation.\")\n",
    "plt.plot([1,60], [1,60], 'r', label=\"Ideal estimation.\")\n",
    "plt.xlabel(\"Ground Truth Age\")\n",
    "plt.ylabel(\"Miscrosoft Predicted Age\")\n",
    "plt.legend()\n",
    "#plt.savefig('ms_age.svg', format='svg', dpi=1200)\n",
    "plt.show()\n",
    "\n",
    "\n",
    "plt.figure(figsize=(10, 10))\n",
    "plt.scatter(add_noise(data[\"Age\"], NOISE), add_noise(data[\"clarifai_age\"], NOISE), label=\"Clarifai estimation.\")\n",
    "plt.plot([1,60], [1,60], 'r', label=\"Ideal estimation.\")\n",
    "plt.xlabel(\"Ground Truth Age\")\n",
    "plt.ylabel(\"Clarfiai Predicted Age\")\n",
    "plt.legend(loc=\"upper left\")\n",
    "#plt.savefig('clarifai_age.svg', format='svg', dpi=1200)\n",
    "plt.show()"
   ]
  },
  {
   "cell_type": "code",
   "execution_count": 29,
   "metadata": {},
   "outputs": [
    {
     "data": {
      "image/png": "[encoded data removed]",
      "text/plain": [
       "<Figure size 432x288 with 1 Axes>"
      ]
     },
     "metadata": {
      "needs_background": "light"
     },
     "output_type": "display_data"
    }
   ],
   "source": [
    "plt.hist(data[\"microsoft_age\"] - data[\"Age\"], bins=100, density=True)\n",
    "plt.xlim(-30,30)\n",
    "plt.show()"
   ]
  },
  {
   "cell_type": "code",
   "execution_count": 30,
   "metadata": {},
   "outputs": [
    {
     "data": {
      "image/png": "[encoded data removed]",
      "text/plain": [
       "<Figure size 432x288 with 1 Axes>"
      ]
     },
     "metadata": {
      "needs_background": "light"
     },
     "output_type": "display_data"
    }
   ],
   "source": [
    "plt.hist(data[\"clarifai_age\"] - data[\"Age\"], bins=100, density=True)\n",
    "plt.xlim(-30,30)\n",
    "plt.show()"
   ]
  },
  {
   "cell_type": "markdown",
   "metadata": {},
   "source": [
    "### Approach 2 - custom definition of misclassification"
   ]
  },
  {
   "cell_type": "code",
   "execution_count": 31,
   "metadata": {},
   "outputs": [],
   "source": [
    "def age_misclassification(gt, prediction): \n",
    "    \"\"\"Given a vector of ground truth values `gt` and a vector of prediction values `gt`, \n",
    "    return a vector containing 1 if there has been age misclassification and 0 otherwise. \"\"\"\n",
    "    n = len(gt)\n",
    "    assert(len(prediction) == n)\n",
    "    result = np.zeros(n)\n",
    "    \n",
    "    for i in range(n): \n",
    "        tolerance = 0 \n",
    "        # If the subject is a child, tolerance interval equals 5\n",
    "        if gt[i] <= 10: \n",
    "            tolerance = 5\n",
    "        # For teenagers and pre-young-adults, tolerance is 10\n",
    "        elif gt[i] <= 25: \n",
    "            tolerance = 10\n",
    "        # For the rest of the population, tolerance is 15\n",
    "        else: \n",
    "            tolerance = 15\n",
    "            \n",
    "        if gt[i] - tolerance <= prediction[i] <= gt[i] + tolerance: \n",
    "            result[i] = 0\n",
    "        else: \n",
    "            result[i] = 1\n",
    "    return result"
   ]
  },
  {
   "cell_type": "code",
   "execution_count": 32,
   "metadata": {},
   "outputs": [
    {
     "data": {
      "text/plain": [
       "0.022039596563317145"
      ]
     },
     "execution_count": 32,
     "metadata": {},
     "output_type": "execute_result"
    }
   ],
   "source": [
    "sum(age_misclassification(data[\"Age\"], data[\"microsoft_age\"]))/len(data)"
   ]
  },
  {
   "cell_type": "code",
   "execution_count": 33,
   "metadata": {},
   "outputs": [
    {
     "data": {
      "text/plain": [
       "0.07433694434067986"
      ]
     },
     "execution_count": 33,
     "metadata": {},
     "output_type": "execute_result"
    }
   ],
   "source": [
    "sum(age_misclassification(data[\"Age\"], data[\"amazon_age_average\"]))/len(data)"
   ]
  },
  {
   "cell_type": "code",
   "execution_count": 34,
   "metadata": {},
   "outputs": [
    {
     "data": {
      "text/plain": [
       "0.22861412028389988"
      ]
     },
     "execution_count": 34,
     "metadata": {},
     "output_type": "execute_result"
    }
   ],
   "source": [
    "sum(age_misclassification(data[\"Age\"], data[\"face++_age\"]))/len(data)"
   ]
  },
  {
   "cell_type": "code",
   "execution_count": 35,
   "metadata": {},
   "outputs": [
    {
     "data": {
      "text/plain": [
       "0.24691819200597684"
      ]
     },
     "execution_count": 35,
     "metadata": {},
     "output_type": "execute_result"
    }
   ],
   "source": [
    "sum(age_misclassification(data[\"Age\"], data[\"clarifai_age\"]))/len(data)"
   ]
  },
  {
   "cell_type": "code",
   "execution_count": 36,
   "metadata": {},
   "outputs": [],
   "source": [
    "age_misclass = {}\n",
    "age_misclass[\"Clarifai\"] = age_misclassification(data[\"Age\"], data[\"clarifai_age\"])\n",
    "age_misclass[\"Microsoft\"] = age_misclassification(data[\"Age\"], data[\"microsoft_age\"])\n",
    "age_misclass[\"Amazon\"] = age_misclassification(data[\"Age\"], data[\"amazon_age_average\"])\n",
    "age_misclass[\"Face++\"] = age_misclassification(data[\"Age\"], data[\"face++_age\"])"
   ]
  },
  {
   "cell_type": "code",
   "execution_count": 37,
   "metadata": {},
   "outputs": [],
   "source": [
    "age_misclass_rates = [[None for dataset in range(4)] for api in range(5)] \n",
    "\n",
    "for i, api in enumerate(age_misclass): \n",
    "    sum_for_api = 0\n",
    "    for j, dataset in enumerate(datasets): \n",
    "        mask, n = datasets[dataset]\n",
    "        age_misclass_rates[j][i] = (100 * sum(age_misclass[api][mask])/n)\n",
    "        sum_for_api += sum(age_misclass[api][mask])\n",
    "    age_misclass_rates[4][i] = (100 * sum_for_api/len(data))"
   ]
  },
  {
   "cell_type": "code",
   "execution_count": 38,
   "metadata": {},
   "outputs": [],
   "source": [
    "age_misclass_numbers = [[None for dataset in range(4)] for api in range(5)] \n",
    "\n",
    "for i, api in enumerate(age_misclass): \n",
    "    sum_for_api = 0\n",
    "    for j, dataset in enumerate(datasets): \n",
    "        mask, n = datasets[dataset]\n",
    "        age_misclass_numbers[j][i] = sum(age_misclass[api][mask])\n",
    "        sum_for_api += sum(age_misclass[api][mask])\n",
    "    age_misclass_numbers[4][i] = sum_for_api"
   ]
  },
  {
   "cell_type": "code",
   "execution_count": 39,
   "metadata": {},
   "outputs": [],
   "source": [
    "age_misclass_rates_table = pd.DataFrame(age_misclass_rates, \n",
    "                                    columns=age_misclass.keys(), \n",
    "                                    index=list(datasets.keys()) + ['OVERALL'])"
   ]
  },
  {
   "cell_type": "code",
   "execution_count": 40,
   "metadata": {},
   "outputs": [],
   "source": [
    "age_misclass_numbers_table = pd.DataFrame(age_misclass_numbers, \n",
    "                                    columns=age_misclass.keys(), \n",
    "                                    index=list(datasets.keys()) + ['OVERALL'])"
   ]
  },
  {
   "cell_type": "code",
   "execution_count": 41,
   "metadata": {},
   "outputs": [
    {
     "data": {
      "text/html": [
       "<div>\n",
       "<style scoped>\n",
       "    .dataframe tbody tr th:only-of-type {\n",
       "        vertical-align: middle;\n",
       "    }\n",
       "\n",
       "    .dataframe tbody tr th {\n",
       "        vertical-align: top;\n",
       "    }\n",
       "\n",
       "    .dataframe thead th {\n",
       "        text-align: right;\n",
       "    }\n",
       "</style>\n",
       "<table border=\"1\" class=\"dataframe\">\n",
       "  <thead>\n",
       "    <tr style=\"text-align: right;\">\n",
       "      <th></th>\n",
       "      <th>Clarifai</th>\n",
       "      <th>Microsoft</th>\n",
       "      <th>Amazon</th>\n",
       "      <th>Face++</th>\n",
       "    </tr>\n",
       "  </thead>\n",
       "  <tbody>\n",
       "    <tr>\n",
       "      <td>CFD</td>\n",
       "      <td>30.488815</td>\n",
       "      <td>0.331400</td>\n",
       "      <td>5.716653</td>\n",
       "      <td>19.386910</td>\n",
       "    </tr>\n",
       "    <tr>\n",
       "      <td>NimStim</td>\n",
       "      <td>20.356612</td>\n",
       "      <td>2.377415</td>\n",
       "      <td>11.441308</td>\n",
       "      <td>31.500743</td>\n",
       "    </tr>\n",
       "    <tr>\n",
       "      <td>AirBnb</td>\n",
       "      <td>17.850638</td>\n",
       "      <td>0.910747</td>\n",
       "      <td>4.553734</td>\n",
       "      <td>17.486339</td>\n",
       "    </tr>\n",
       "    <tr>\n",
       "      <td>AI</td>\n",
       "      <td>23.387097</td>\n",
       "      <td>13.709677</td>\n",
       "      <td>11.290323</td>\n",
       "      <td>28.225806</td>\n",
       "    </tr>\n",
       "    <tr>\n",
       "      <td>OVERALL</td>\n",
       "      <td>24.691819</td>\n",
       "      <td>2.203960</td>\n",
       "      <td>7.433694</td>\n",
       "      <td>22.861412</td>\n",
       "    </tr>\n",
       "  </tbody>\n",
       "</table>\n",
       "</div>"
      ],
      "text/plain": [
       "          Clarifai  Microsoft     Amazon     Face++\n",
       "CFD      30.488815   0.331400   5.716653  19.386910\n",
       "NimStim  20.356612   2.377415  11.441308  31.500743\n",
       "AirBnb   17.850638   0.910747   4.553734  17.486339\n",
       "AI       23.387097  13.709677  11.290323  28.225806\n",
       "OVERALL  24.691819   2.203960   7.433694  22.861412"
      ]
     },
     "metadata": {},
     "output_type": "display_data"
    },
    {
     "data": {
      "text/html": [
       "<div>\n",
       "<style scoped>\n",
       "    .dataframe tbody tr th:only-of-type {\n",
       "        vertical-align: middle;\n",
       "    }\n",
       "\n",
       "    .dataframe tbody tr th {\n",
       "        vertical-align: top;\n",
       "    }\n",
       "\n",
       "    .dataframe thead th {\n",
       "        text-align: right;\n",
       "    }\n",
       "</style>\n",
       "<table border=\"1\" class=\"dataframe\">\n",
       "  <thead>\n",
       "    <tr style=\"text-align: right;\">\n",
       "      <th></th>\n",
       "      <th>Clarifai</th>\n",
       "      <th>Microsoft</th>\n",
       "      <th>Amazon</th>\n",
       "      <th>Face++</th>\n",
       "    </tr>\n",
       "  </thead>\n",
       "  <tbody>\n",
       "    <tr>\n",
       "      <td>CFD</td>\n",
       "      <td>368.0</td>\n",
       "      <td>4.0</td>\n",
       "      <td>69.0</td>\n",
       "      <td>234.0</td>\n",
       "    </tr>\n",
       "    <tr>\n",
       "      <td>NimStim</td>\n",
       "      <td>137.0</td>\n",
       "      <td>16.0</td>\n",
       "      <td>77.0</td>\n",
       "      <td>212.0</td>\n",
       "    </tr>\n",
       "    <tr>\n",
       "      <td>AirBnb</td>\n",
       "      <td>98.0</td>\n",
       "      <td>5.0</td>\n",
       "      <td>25.0</td>\n",
       "      <td>96.0</td>\n",
       "    </tr>\n",
       "    <tr>\n",
       "      <td>AI</td>\n",
       "      <td>58.0</td>\n",
       "      <td>34.0</td>\n",
       "      <td>28.0</td>\n",
       "      <td>70.0</td>\n",
       "    </tr>\n",
       "    <tr>\n",
       "      <td>OVERALL</td>\n",
       "      <td>661.0</td>\n",
       "      <td>59.0</td>\n",
       "      <td>199.0</td>\n",
       "      <td>612.0</td>\n",
       "    </tr>\n",
       "  </tbody>\n",
       "</table>\n",
       "</div>"
      ],
      "text/plain": [
       "         Clarifai  Microsoft  Amazon  Face++\n",
       "CFD         368.0        4.0    69.0   234.0\n",
       "NimStim     137.0       16.0    77.0   212.0\n",
       "AirBnb       98.0        5.0    25.0    96.0\n",
       "AI           58.0       34.0    28.0    70.0\n",
       "OVERALL     661.0       59.0   199.0   612.0"
      ]
     },
     "metadata": {},
     "output_type": "display_data"
    }
   ],
   "source": [
    "display(age_misclass_rates_table)\n",
    "display(age_misclass_numbers_table)"
   ]
  },
  {
   "cell_type": "markdown",
   "metadata": {},
   "source": [
    "## Emotion Misclassification"
   ]
  },
  {
   "cell_type": "code",
   "execution_count": 42,
   "metadata": {},
   "outputs": [],
   "source": [
    "def emotion_misclassification(gt, prediction): \n",
    "    \"\"\"Given a vector of ground truth values `gt` and a vector of prediction values `gt`, \n",
    "    return a vector containing 1 if there has been emotion misclassification and 0 otherwise. \"\"\"\n",
    "    n = len(gt)\n",
    "    assert(len(prediction) == n)\n",
    "    result = np.zeros(n)\n",
    "    \n",
    "    for i in range(n): \n",
    "        # If dealing with one of the undefined emotions, set the misclassification bit to 0\n",
    "        if gt[i] <= 0 or prediction[i] <= 0: \n",
    "            result[i] = 0 \n",
    "        # If emotions don't match, set the misclassification bit to 1\n",
    "        elif gt[i] != prediction[i]: \n",
    "            result[i] = 1\n",
    "        else: \n",
    "            result[i] = 0\n",
    "    return result"
   ]
  },
  {
   "cell_type": "code",
   "execution_count": 43,
   "metadata": {},
   "outputs": [],
   "source": [
    "data_no_ai = data[data[\"Origin\"] != \"AI\"]"
   ]
  },
  {
   "cell_type": "code",
   "execution_count": 44,
   "metadata": {},
   "outputs": [
    {
     "data": {
      "text/plain": [
       "0.18320296418279128"
      ]
     },
     "execution_count": 44,
     "metadata": {},
     "output_type": "execute_result"
    }
   ],
   "source": [
    "sum(emotion_misclassification(data_no_ai[\"Emotion\"], data_no_ai[\"microsoft_emotion\"]))/len(data_no_ai)"
   ]
  },
  {
   "cell_type": "code",
   "execution_count": 45,
   "metadata": {},
   "outputs": [
    {
     "data": {
      "text/plain": [
       "0.1811445039110745"
      ]
     },
     "execution_count": 45,
     "metadata": {},
     "output_type": "execute_result"
    }
   ],
   "source": [
    "sum(emotion_misclassification(data_no_ai[\"Emotion\"], data_no_ai[\"amazon_emotion\"]))/len(data_no_ai)"
   ]
  },
  {
   "cell_type": "code",
   "execution_count": 46,
   "metadata": {},
   "outputs": [
    {
     "data": {
      "text/plain": [
       "0.2865376698229724"
      ]
     },
     "execution_count": 46,
     "metadata": {},
     "output_type": "execute_result"
    }
   ],
   "source": [
    "sum(emotion_misclassification(data_no_ai[\"Emotion\"], data_no_ai[\"face++_emotion\"]))/len(data_no_ai)"
   ]
  },
  {
   "cell_type": "code",
   "execution_count": 47,
   "metadata": {},
   "outputs": [],
   "source": [
    "misclass_by_amazon = [x == True for x in emotion_misclassification(data_no_ai[\"Emotion\"], \n",
    "                                                                   data_no_ai[\"amazon_emotion\"])]\n",
    "misclass_by_microsoft = [x == True for x in emotion_misclassification(data_no_ai[\"Emotion\"], \n",
    "                                                                   data_no_ai[\"microsoft_emotion\"])]\n",
    "misclass_by_facepp = [x == True for x in emotion_misclassification(data_no_ai[\"Emotion\"], \n",
    "                                                                   data_no_ai[\"face++_emotion\"])]"
   ]
  },
  {
   "cell_type": "code",
   "execution_count": 48,
   "metadata": {},
   "outputs": [],
   "source": [
    "from_cfd = data_no_ai[\"Origin\"] == \"CFD\"\n",
    "from_nimstim = data_no_ai[\"Origin\"] == \"NimStim\"\n",
    "from_airbnb = data_no_ai[\"Origin\"] == \"AirBnb\""
   ]
  },
  {
   "cell_type": "code",
   "execution_count": 49,
   "metadata": {},
   "outputs": [],
   "source": [
    "emotion_misclass_data = [\n",
    "    [ \n",
    "        data_no_ai[from_cfd & misclass_by_microsoft], \n",
    "        data_no_ai[from_cfd & misclass_by_amazon], \n",
    "        data_no_ai[from_cfd & misclass_by_facepp]\n",
    "    ],\n",
    "    [ \n",
    "        data_no_ai[from_nimstim & misclass_by_microsoft], \n",
    "        data_no_ai[from_nimstim & misclass_by_amazon], \n",
    "        data_no_ai[from_nimstim & misclass_by_facepp]\n",
    "    ],\n",
    "    [ \n",
    "        data_no_ai[from_airbnb & misclass_by_microsoft], \n",
    "        data_no_ai[from_airbnb & misclass_by_amazon], \n",
    "        data_no_ai[from_airbnb & misclass_by_facepp]\n",
    "    ],\n",
    "    [ \n",
    "        data_no_ai[misclass_by_microsoft], \n",
    "        data_no_ai[misclass_by_amazon], \n",
    "        data_no_ai[misclass_by_facepp]\n",
    "    ],\n",
    "]"
   ]
  },
  {
   "cell_type": "code",
   "execution_count": 50,
   "metadata": {},
   "outputs": [],
   "source": [
    "emotion_misclass_numbers = [[len(column) for column in row] for row in emotion_misclass_data]"
   ]
  },
  {
   "cell_type": "code",
   "execution_count": 51,
   "metadata": {},
   "outputs": [],
   "source": [
    "emotion_misclass_numbers_table = pd.DataFrame(emotion_misclass_numbers, \n",
    "                                              index=[\"CFD\", \"NimStim\", \"AirBnb\", \"OVERALL\"], \n",
    "                                              columns=[\"Microsoft\", \"Amazon\", \"Face++\"])"
   ]
  },
  {
   "cell_type": "code",
   "execution_count": 52,
   "metadata": {},
   "outputs": [],
   "source": [
    "divisors = [n_cfd, n_nimstim, n_airbnb, len(data_no_ai)]"
   ]
  },
  {
   "cell_type": "code",
   "execution_count": 53,
   "metadata": {},
   "outputs": [],
   "source": [
    "emotion_misclass_rates = [[100 * (len(column)/divisors[i]) for column in (row)] \n",
    "                          for i, row in enumerate(emotion_misclass_data)]"
   ]
  },
  {
   "cell_type": "code",
   "execution_count": 54,
   "metadata": {},
   "outputs": [],
   "source": [
    "emotion_misclass_rates_table = pd.DataFrame(emotion_misclass_rates, \n",
    "                                              index=[\"CFD\", \"NimStim\", \"AirBnb\", \"OVERALL\"], \n",
    "                                              columns=[\"Microsoft\", \"Amazon\", \"Face++\"])"
   ]
  },
  {
   "cell_type": "code",
   "execution_count": 56,
   "metadata": {},
   "outputs": [
    {
     "data": {
      "text/html": [
       "<div>\n",
       "<style scoped>\n",
       "    .dataframe tbody tr th:only-of-type {\n",
       "        vertical-align: middle;\n",
       "    }\n",
       "\n",
       "    .dataframe tbody tr th {\n",
       "        vertical-align: top;\n",
       "    }\n",
       "\n",
       "    .dataframe thead th {\n",
       "        text-align: right;\n",
       "    }\n",
       "</style>\n",
       "<table border=\"1\" class=\"dataframe\">\n",
       "  <thead>\n",
       "    <tr style=\"text-align: right;\">\n",
       "      <th></th>\n",
       "      <th>Microsoft</th>\n",
       "      <th>Amazon</th>\n",
       "      <th>Face++</th>\n",
       "    </tr>\n",
       "  </thead>\n",
       "  <tbody>\n",
       "    <tr>\n",
       "      <td>CFD</td>\n",
       "      <td>239</td>\n",
       "      <td>191</td>\n",
       "      <td>310</td>\n",
       "    </tr>\n",
       "    <tr>\n",
       "      <td>NimStim</td>\n",
       "      <td>143</td>\n",
       "      <td>172</td>\n",
       "      <td>263</td>\n",
       "    </tr>\n",
       "    <tr>\n",
       "      <td>AirBnb</td>\n",
       "      <td>63</td>\n",
       "      <td>77</td>\n",
       "      <td>123</td>\n",
       "    </tr>\n",
       "    <tr>\n",
       "      <td>OVERALL</td>\n",
       "      <td>445</td>\n",
       "      <td>440</td>\n",
       "      <td>696</td>\n",
       "    </tr>\n",
       "  </tbody>\n",
       "</table>\n",
       "</div>"
      ],
      "text/plain": [
       "         Microsoft  Amazon  Face++\n",
       "CFD            239     191     310\n",
       "NimStim        143     172     263\n",
       "AirBnb          63      77     123\n",
       "OVERALL        445     440     696"
      ]
     },
     "metadata": {},
     "output_type": "display_data"
    },
    {
     "data": {
      "text/html": [
       "<div>\n",
       "<style scoped>\n",
       "    .dataframe tbody tr th:only-of-type {\n",
       "        vertical-align: middle;\n",
       "    }\n",
       "\n",
       "    .dataframe tbody tr th {\n",
       "        vertical-align: top;\n",
       "    }\n",
       "\n",
       "    .dataframe thead th {\n",
       "        text-align: right;\n",
       "    }\n",
       "</style>\n",
       "<table border=\"1\" class=\"dataframe\">\n",
       "  <thead>\n",
       "    <tr style=\"text-align: right;\">\n",
       "      <th></th>\n",
       "      <th>Microsoft</th>\n",
       "      <th>Amazon</th>\n",
       "      <th>Face++</th>\n",
       "    </tr>\n",
       "  </thead>\n",
       "  <tbody>\n",
       "    <tr>\n",
       "      <td>CFD</td>\n",
       "      <td>19.801160</td>\n",
       "      <td>15.824358</td>\n",
       "      <td>25.683513</td>\n",
       "    </tr>\n",
       "    <tr>\n",
       "      <td>NimStim</td>\n",
       "      <td>21.248143</td>\n",
       "      <td>25.557207</td>\n",
       "      <td>39.078752</td>\n",
       "    </tr>\n",
       "    <tr>\n",
       "      <td>AirBnb</td>\n",
       "      <td>11.475410</td>\n",
       "      <td>14.025501</td>\n",
       "      <td>22.404372</td>\n",
       "    </tr>\n",
       "    <tr>\n",
       "      <td>OVERALL</td>\n",
       "      <td>18.320296</td>\n",
       "      <td>18.114450</td>\n",
       "      <td>28.653767</td>\n",
       "    </tr>\n",
       "  </tbody>\n",
       "</table>\n",
       "</div>"
      ],
      "text/plain": [
       "         Microsoft     Amazon     Face++\n",
       "CFD      19.801160  15.824358  25.683513\n",
       "NimStim  21.248143  25.557207  39.078752\n",
       "AirBnb   11.475410  14.025501  22.404372\n",
       "OVERALL  18.320296  18.114450  28.653767"
      ]
     },
     "metadata": {},
     "output_type": "display_data"
    }
   ],
   "source": [
    "display(emotion_misclass_numbers_table)\n",
    "display(emotion_misclass_rates_table)"
   ]
  },
  {
   "cell_type": "code",
   "execution_count": 57,
   "metadata": {},
   "outputs": [
    {
     "data": {
      "image/png": "[encoded data removed]",
      "text/plain": [
       "<Figure size 360x360 with 1 Axes>"
      ]
     },
     "metadata": {
      "needs_background": "light"
     },
     "output_type": "display_data"
    }
   ],
   "source": [
    "sns.catplot(x=\"Emotion\", data=data[data[\"Origin\"] == \"AirBnb\"][[\"Emotion\"]], kind=\"count\");"
   ]
  },
  {
   "cell_type": "code",
   "execution_count": 58,
   "metadata": {},
   "outputs": [
    {
     "data": {
      "image/png": "[encoded data removed]",
      "text/plain": [
       "<Figure size 360x360 with 1 Axes>"
      ]
     },
     "metadata": {
      "needs_background": "light"
     },
     "output_type": "display_data"
    }
   ],
   "source": [
    "sns.catplot(x=\"Emotion\", data=data[data[\"Origin\"] == \"NimStim\"][[\"Emotion\"]], kind=\"count\");"
   ]
  }
 ],
 "metadata": {
  "kernelspec": {
   "display_name": "Python 3",
   "language": "python",
   "name": "python3"
  },
  "language_info": {
   "codemirror_mode": {
    "name": "ipython",
    "version": 3
   },
   "file_extension": ".py",
   "mimetype": "text/x-python",
   "name": "python",
   "nbconvert_exporter": "python",
   "pygments_lexer": "ipython3",
   "version": "3.7.4"
  }
 },
 "nbformat": 4,
 "nbformat_minor": 2
}
