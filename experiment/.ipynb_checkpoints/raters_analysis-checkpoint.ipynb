{
 "cells": [
  {
   "cell_type": "code",
   "execution_count": 1,
   "metadata": {},
   "outputs": [],
   "source": [
    "import csv \n",
    "import pandas as pd\n",
    "from matplotlib import pyplot as plt\n",
    "import plotly.express as px\n",
    "\n"
   ]
  },
  {
   "cell_type": "code",
   "execution_count": 2,
   "metadata": {},
   "outputs": [],
   "source": [
    "airbnb_rows = [] \n",
    "\n",
    "with open('./AirBnb/workset1478920.csv', newline='') as csvfile:\n",
    "    content = csv.reader(csvfile, delimiter=',', quotechar='|')\n",
    "    for row in content: \n",
    "        airbnb_rows.append(row)\n",
    "        \n",
    "nimstim_rows = [] \n",
    "\n",
    "with open('./NimStim/workset1478908.csv', newline='') as csvfile:\n",
    "    content = csv.reader(csvfile, delimiter=',', quotechar='|')\n",
    "    for row in content: \n",
    "        nimstim_rows.append(row)"
   ]
  },
  {
   "cell_type": "code",
   "execution_count": 3,
   "metadata": {},
   "outputs": [],
   "source": [
    "airbnb_raters = pd.DataFrame(airbnb_rows[1:], columns=airbnb_rows[0])"
   ]
  },
  {
   "cell_type": "code",
   "execution_count": 4,
   "metadata": {},
   "outputs": [],
   "source": [
    "airbnb_countries = {}\n",
    "for x in airbnb_raters[\"country\"]: \n",
    "    if x != \"\": \n",
    "        if x in airbnb_countries: \n",
    "            airbnb_countries[x] += 1\n",
    "        else: \n",
    "            airbnb_countries[x] = 1"
   ]
  },
  {
   "cell_type": "code",
   "execution_count": 5,
   "metadata": {},
   "outputs": [],
   "source": [
    "info = [[c, airbnb_countries[c]] for c in sorted(airbnb_countries, key=lambda x: airbnb_countries[x], reverse=True)]"
   ]
  },
  {
   "cell_type": "code",
   "execution_count": 6,
   "metadata": {},
   "outputs": [],
   "source": [
    "info = pd.DataFrame(info, columns=[\"country\", \"Number of raters\"])"
   ]
  },
  {
   "cell_type": "code",
   "execution_count": 7,
   "metadata": {},
   "outputs": [
    {
     "ename": "NameError",
     "evalue": "name 'px' is not defined",
     "output_type": "error",
     "traceback": [
      "\u001b[0;31m---------------------------------------------------------------------------\u001b[0m",
      "\u001b[0;31mNameError\u001b[0m                                 Traceback (most recent call last)",
      "\u001b[0;32m<ipython-input-7-3c2536e74f30>\u001b[0m in \u001b[0;36m<module>\u001b[0;34m\u001b[0m\n\u001b[0;32m----> 1\u001b[0;31m fig = px.choropleth(info, locations=\"country\",\n\u001b[0m\u001b[1;32m      2\u001b[0m                     \u001b[0mcolor\u001b[0m\u001b[0;34m=\u001b[0m\u001b[0;34m\"Number of raters\"\u001b[0m\u001b[0;34m,\u001b[0m \u001b[0;31m# lifeExp is a column of gapminder\u001b[0m\u001b[0;34m\u001b[0m\u001b[0;34m\u001b[0m\u001b[0m\n\u001b[1;32m      3\u001b[0m                     color_continuous_scale=px.colors.carto.Redor)\n\u001b[1;32m      4\u001b[0m \u001b[0mfig\u001b[0m\u001b[0;34m.\u001b[0m\u001b[0mshow\u001b[0m\u001b[0;34m(\u001b[0m\u001b[0;34m)\u001b[0m\u001b[0;34m\u001b[0m\u001b[0;34m\u001b[0m\u001b[0m\n",
      "\u001b[0;31mNameError\u001b[0m: name 'px' is not defined"
     ]
    }
   ],
   "source": [
    "fig = px.choropleth(info, locations=\"country\",\n",
    "                    color=\"Number of raters\", # lifeExp is a column of gapminder\n",
    "                    color_continuous_scale=px.colors.carto.Redor)\n",
    "fig.show()"
   ]
  },
  {
   "cell_type": "code",
   "execution_count": null,
   "metadata": {},
   "outputs": [],
   "source": [
    "type(fig)"
   ]
  },
  {
   "cell_type": "code",
   "execution_count": null,
   "metadata": {},
   "outputs": [],
   "source": [
    "px.colors.carto.__dict__"
   ]
  },
  {
   "cell_type": "code",
   "execution_count": null,
   "metadata": {},
   "outputs": [],
   "source": []
  }
 ],
 "metadata": {
  "kernelspec": {
   "display_name": "Python 3",
   "language": "python",
   "name": "python3"
  },
  "language_info": {
   "codemirror_mode": {
    "name": "ipython",
    "version": 3
   },
   "file_extension": ".py",
   "mimetype": "text/x-python",
   "name": "python",
   "nbconvert_exporter": "python",
   "pygments_lexer": "ipython3",
   "version": "3.7.4"
  }
 },
 "nbformat": 4,
 "nbformat_minor": 2
}
